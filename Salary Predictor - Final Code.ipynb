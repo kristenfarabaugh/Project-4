{
 "cells": [
  {
   "cell_type": "code",
   "execution_count": 1,
   "id": "3d623be2",
   "metadata": {},
   "outputs": [],
   "source": [
    "import pandas as pd"
   ]
  },
  {
   "cell_type": "code",
   "execution_count": 2,
   "id": "c629dfd6",
   "metadata": {},
   "outputs": [
    {
     "data": {
      "text/html": [
       "<div>\n",
       "<style scoped>\n",
       "    .dataframe tbody tr th:only-of-type {\n",
       "        vertical-align: middle;\n",
       "    }\n",
       "\n",
       "    .dataframe tbody tr th {\n",
       "        vertical-align: top;\n",
       "    }\n",
       "\n",
       "    .dataframe thead th {\n",
       "        text-align: right;\n",
       "    }\n",
       "</style>\n",
       "<table border=\"1\" class=\"dataframe\">\n",
       "  <thead>\n",
       "    <tr style=\"text-align: right;\">\n",
       "      <th></th>\n",
       "      <th>timestamp</th>\n",
       "      <th>company</th>\n",
       "      <th>level</th>\n",
       "      <th>title</th>\n",
       "      <th>totalyearlycompensation</th>\n",
       "      <th>location</th>\n",
       "      <th>yearsofexperience</th>\n",
       "      <th>yearsatcompany</th>\n",
       "      <th>tag</th>\n",
       "      <th>basesalary</th>\n",
       "      <th>...</th>\n",
       "      <th>Race_White</th>\n",
       "      <th>Race_Two_Or_More</th>\n",
       "      <th>Race_Black</th>\n",
       "      <th>Race_Hispanic</th>\n",
       "      <th>Race</th>\n",
       "      <th>Education</th>\n",
       "      <th>location.1</th>\n",
       "      <th>Unnamed: 30</th>\n",
       "      <th>Unnamed: 31</th>\n",
       "      <th>Unnamed: 32</th>\n",
       "    </tr>\n",
       "  </thead>\n",
       "  <tbody>\n",
       "    <tr>\n",
       "      <th>0</th>\n",
       "      <td>6/7/17 11:33</td>\n",
       "      <td>Oracle</td>\n",
       "      <td>L3</td>\n",
       "      <td>Product Manager</td>\n",
       "      <td>127000</td>\n",
       "      <td>Redwood City, CA</td>\n",
       "      <td>1.5</td>\n",
       "      <td>1.5</td>\n",
       "      <td>NaN</td>\n",
       "      <td>107000</td>\n",
       "      <td>...</td>\n",
       "      <td>0</td>\n",
       "      <td>0</td>\n",
       "      <td>0</td>\n",
       "      <td>0</td>\n",
       "      <td>NaN</td>\n",
       "      <td>NaN</td>\n",
       "      <td>Redwood City</td>\n",
       "      <td>CA</td>\n",
       "      <td>NaN</td>\n",
       "      <td>NaN</td>\n",
       "    </tr>\n",
       "    <tr>\n",
       "      <th>1</th>\n",
       "      <td>6/10/17 17:11</td>\n",
       "      <td>eBay</td>\n",
       "      <td>SE 2</td>\n",
       "      <td>Software Engineer</td>\n",
       "      <td>100000</td>\n",
       "      <td>San Francisco, CA</td>\n",
       "      <td>5.0</td>\n",
       "      <td>3.0</td>\n",
       "      <td>NaN</td>\n",
       "      <td>0</td>\n",
       "      <td>...</td>\n",
       "      <td>0</td>\n",
       "      <td>0</td>\n",
       "      <td>0</td>\n",
       "      <td>0</td>\n",
       "      <td>NaN</td>\n",
       "      <td>NaN</td>\n",
       "      <td>San Francisco</td>\n",
       "      <td>CA</td>\n",
       "      <td>NaN</td>\n",
       "      <td>NaN</td>\n",
       "    </tr>\n",
       "    <tr>\n",
       "      <th>2</th>\n",
       "      <td>6/11/17 14:53</td>\n",
       "      <td>Amazon</td>\n",
       "      <td>L7</td>\n",
       "      <td>Product Manager</td>\n",
       "      <td>310000</td>\n",
       "      <td>Seattle, WA</td>\n",
       "      <td>8.0</td>\n",
       "      <td>0.0</td>\n",
       "      <td>NaN</td>\n",
       "      <td>155000</td>\n",
       "      <td>...</td>\n",
       "      <td>0</td>\n",
       "      <td>0</td>\n",
       "      <td>0</td>\n",
       "      <td>0</td>\n",
       "      <td>NaN</td>\n",
       "      <td>NaN</td>\n",
       "      <td>Seattle</td>\n",
       "      <td>WA</td>\n",
       "      <td>NaN</td>\n",
       "      <td>NaN</td>\n",
       "    </tr>\n",
       "    <tr>\n",
       "      <th>3</th>\n",
       "      <td>6/17/17 0:23</td>\n",
       "      <td>Apple</td>\n",
       "      <td>M1</td>\n",
       "      <td>Software Engineering Manager</td>\n",
       "      <td>372000</td>\n",
       "      <td>Sunnyvale, CA</td>\n",
       "      <td>7.0</td>\n",
       "      <td>5.0</td>\n",
       "      <td>NaN</td>\n",
       "      <td>157000</td>\n",
       "      <td>...</td>\n",
       "      <td>0</td>\n",
       "      <td>0</td>\n",
       "      <td>0</td>\n",
       "      <td>0</td>\n",
       "      <td>NaN</td>\n",
       "      <td>NaN</td>\n",
       "      <td>Sunnyvale</td>\n",
       "      <td>CA</td>\n",
       "      <td>NaN</td>\n",
       "      <td>NaN</td>\n",
       "    </tr>\n",
       "    <tr>\n",
       "      <th>4</th>\n",
       "      <td>6/20/17 10:58</td>\n",
       "      <td>Microsoft</td>\n",
       "      <td>60</td>\n",
       "      <td>Software Engineer</td>\n",
       "      <td>157000</td>\n",
       "      <td>Mountain View, CA</td>\n",
       "      <td>5.0</td>\n",
       "      <td>3.0</td>\n",
       "      <td>NaN</td>\n",
       "      <td>0</td>\n",
       "      <td>...</td>\n",
       "      <td>0</td>\n",
       "      <td>0</td>\n",
       "      <td>0</td>\n",
       "      <td>0</td>\n",
       "      <td>NaN</td>\n",
       "      <td>NaN</td>\n",
       "      <td>Mountain View</td>\n",
       "      <td>CA</td>\n",
       "      <td>NaN</td>\n",
       "      <td>NaN</td>\n",
       "    </tr>\n",
       "  </tbody>\n",
       "</table>\n",
       "<p>5 rows × 33 columns</p>\n",
       "</div>"
      ],
      "text/plain": [
       "       timestamp    company level                         title  \\\n",
       "0   6/7/17 11:33     Oracle    L3               Product Manager   \n",
       "1  6/10/17 17:11       eBay  SE 2             Software Engineer   \n",
       "2  6/11/17 14:53     Amazon    L7               Product Manager   \n",
       "3   6/17/17 0:23      Apple    M1  Software Engineering Manager   \n",
       "4  6/20/17 10:58  Microsoft    60             Software Engineer   \n",
       "\n",
       "   totalyearlycompensation           location  yearsofexperience  \\\n",
       "0                   127000   Redwood City, CA                1.5   \n",
       "1                   100000  San Francisco, CA                5.0   \n",
       "2                   310000        Seattle, WA                8.0   \n",
       "3                   372000      Sunnyvale, CA                7.0   \n",
       "4                   157000  Mountain View, CA                5.0   \n",
       "\n",
       "   yearsatcompany  tag  basesalary  ...  Race_White  Race_Two_Or_More  \\\n",
       "0             1.5  NaN      107000  ...           0                 0   \n",
       "1             3.0  NaN           0  ...           0                 0   \n",
       "2             0.0  NaN      155000  ...           0                 0   \n",
       "3             5.0  NaN      157000  ...           0                 0   \n",
       "4             3.0  NaN           0  ...           0                 0   \n",
       "\n",
       "  Race_Black Race_Hispanic  Race  Education     location.1  Unnamed: 30  \\\n",
       "0          0             0   NaN        NaN   Redwood City           CA   \n",
       "1          0             0   NaN        NaN  San Francisco           CA   \n",
       "2          0             0   NaN        NaN        Seattle           WA   \n",
       "3          0             0   NaN        NaN      Sunnyvale           CA   \n",
       "4          0             0   NaN        NaN  Mountain View           CA   \n",
       "\n",
       "   Unnamed: 31  Unnamed: 32  \n",
       "0          NaN          NaN  \n",
       "1          NaN          NaN  \n",
       "2          NaN          NaN  \n",
       "3          NaN          NaN  \n",
       "4          NaN          NaN  \n",
       "\n",
       "[5 rows x 33 columns]"
      ]
     },
     "execution_count": 2,
     "metadata": {},
     "output_type": "execute_result"
    }
   ],
   "source": [
    "df = pd.read_csv(\"/Users/jorgedennis/Downloads/Levels_Fyi_Salary_Data.csv\")\n",
    "df.head()"
   ]
  },
  {
   "cell_type": "code",
   "execution_count": 3,
   "id": "5527829a",
   "metadata": {},
   "outputs": [],
   "source": [
    "# #Drop columns where Race and Education are null\n",
    "# df = df.dropna(subset=['Race', 'Education'])\n",
    "# df.head()"
   ]
  },
  {
   "cell_type": "code",
   "execution_count": 4,
   "id": "2e7ae26c",
   "metadata": {},
   "outputs": [
    {
     "name": "stdout",
     "output_type": "stream",
     "text": [
      "<class 'pandas.core.frame.DataFrame'>\n",
      "Int64Index: 62618 entries, 0 to 62641\n",
      "Data columns (total 33 columns):\n",
      " #   Column                   Non-Null Count  Dtype  \n",
      "---  ------                   --------------  -----  \n",
      " 0   timestamp                62618 non-null  object \n",
      " 1   company                  62613 non-null  object \n",
      " 2   level                    62499 non-null  object \n",
      " 3   title                    62618 non-null  object \n",
      " 4   totalyearlycompensation  62618 non-null  int64  \n",
      " 5   location                 62618 non-null  object \n",
      " 6   yearsofexperience        62618 non-null  float64\n",
      " 7   yearsatcompany           62618 non-null  float64\n",
      " 8   tag                      61764 non-null  object \n",
      " 9   basesalary               62618 non-null  int64  \n",
      " 10  stockgrantvalue          62618 non-null  float64\n",
      " 11  bonus                    62618 non-null  float64\n",
      " 12  gender                   43083 non-null  object \n",
      " 13  otherdetails             40120 non-null  object \n",
      " 14  cityid                   62618 non-null  int64  \n",
      " 15  dmaid                    62616 non-null  float64\n",
      " 16  rowNumber                62618 non-null  int64  \n",
      " 17  Masters_Degree           62618 non-null  int64  \n",
      " 18  Bachelors_Degree         62618 non-null  int64  \n",
      " 19  Doctorate_Degree         62618 non-null  int64  \n",
      " 20  Highschool               62618 non-null  int64  \n",
      " 21  Some_College             62618 non-null  int64  \n",
      " 22  Race_Asian               62618 non-null  int64  \n",
      " 23  Race_White               62618 non-null  int64  \n",
      " 24  Race_Two_Or_More         62618 non-null  int64  \n",
      " 25  Race_Black               62618 non-null  int64  \n",
      " 26  Race_Hispanic            62618 non-null  int64  \n",
      " 27  Race                     22416 non-null  object \n",
      " 28  Education                30354 non-null  object \n",
      " 29  location.1               62618 non-null  object \n",
      " 30  Unnamed: 30              62618 non-null  object \n",
      " 31  Unnamed: 31              9778 non-null   object \n",
      " 32  Unnamed: 32              0 non-null      object \n",
      "dtypes: float64(5), int64(14), object(14)\n",
      "memory usage: 16.2+ MB\n"
     ]
    }
   ],
   "source": [
    "df = df[df['Unnamed: 32'].isnull()]\n",
    "df.info()"
   ]
  },
  {
   "cell_type": "code",
   "execution_count": 5,
   "id": "27e3fb4a",
   "metadata": {},
   "outputs": [
    {
     "name": "stdout",
     "output_type": "stream",
     "text": [
      "<class 'pandas.core.frame.DataFrame'>\n",
      "Int64Index: 52840 entries, 0 to 62641\n",
      "Data columns (total 33 columns):\n",
      " #   Column                   Non-Null Count  Dtype  \n",
      "---  ------                   --------------  -----  \n",
      " 0   timestamp                52840 non-null  object \n",
      " 1   company                  52837 non-null  object \n",
      " 2   level                    52747 non-null  object \n",
      " 3   title                    52840 non-null  object \n",
      " 4   totalyearlycompensation  52840 non-null  int64  \n",
      " 5   location                 52840 non-null  object \n",
      " 6   yearsofexperience        52840 non-null  float64\n",
      " 7   yearsatcompany           52840 non-null  float64\n",
      " 8   tag                      52023 non-null  object \n",
      " 9   basesalary               52840 non-null  int64  \n",
      " 10  stockgrantvalue          52840 non-null  float64\n",
      " 11  bonus                    52840 non-null  float64\n",
      " 12  gender                   35737 non-null  object \n",
      " 13  otherdetails             32641 non-null  object \n",
      " 14  cityid                   52840 non-null  int64  \n",
      " 15  dmaid                    52838 non-null  float64\n",
      " 16  rowNumber                52840 non-null  int64  \n",
      " 17  Masters_Degree           52840 non-null  int64  \n",
      " 18  Bachelors_Degree         52840 non-null  int64  \n",
      " 19  Doctorate_Degree         52840 non-null  int64  \n",
      " 20  Highschool               52840 non-null  int64  \n",
      " 21  Some_College             52840 non-null  int64  \n",
      " 22  Race_Asian               52840 non-null  int64  \n",
      " 23  Race_White               52840 non-null  int64  \n",
      " 24  Race_Two_Or_More         52840 non-null  int64  \n",
      " 25  Race_Black               52840 non-null  int64  \n",
      " 26  Race_Hispanic            52840 non-null  int64  \n",
      " 27  Race                     17593 non-null  object \n",
      " 28  Education                24422 non-null  object \n",
      " 29  location.1               52840 non-null  object \n",
      " 30  Unnamed: 30              52840 non-null  object \n",
      " 31  Unnamed: 31              0 non-null      object \n",
      " 32  Unnamed: 32              0 non-null      object \n",
      "dtypes: float64(5), int64(14), object(14)\n",
      "memory usage: 13.7+ MB\n"
     ]
    }
   ],
   "source": [
    "df = df[df['Unnamed: 31'].isnull()]\n",
    "df.info()"
   ]
  },
  {
   "cell_type": "code",
   "execution_count": 6,
   "id": "91d0589e",
   "metadata": {},
   "outputs": [
    {
     "data": {
      "text/plain": [
       "array([' CA', ' WA', ' NY', ' MD', ' OR', ' DC', ' TX', ' MA', ' LA',\n",
       "       ' PA', ' SC', ' VA', ' CO', ' NE', ' IN', ' WI', ' MN', ' IL',\n",
       "       ' NJ', ' AZ', ' OH', ' NC', ' FL', ' GA', ' MO', ' RI', ' UT',\n",
       "       ' MI', ' CT', ' NM', ' AR', ' VT', ' IA', ' KS', ' NH', ' ID',\n",
       "       ' TN', ' DE', ' AL', ' NV', ' KY', ' Israel', ' WV', ' OK', ' MS',\n",
       "       ' ME', ' MT', ' ND', ' HI', ' WY'], dtype=object)"
      ]
     },
     "execution_count": 6,
     "metadata": {},
     "output_type": "execute_result"
    }
   ],
   "source": [
    "df['Unnamed: 30'].unique()"
   ]
  },
  {
   "cell_type": "code",
   "execution_count": 7,
   "id": "57772b7c",
   "metadata": {},
   "outputs": [
    {
     "name": "stdout",
     "output_type": "stream",
     "text": [
      "<class 'pandas.core.frame.DataFrame'>\n",
      "Int64Index: 52840 entries, 0 to 62641\n",
      "Data columns (total 33 columns):\n",
      " #   Column                   Non-Null Count  Dtype  \n",
      "---  ------                   --------------  -----  \n",
      " 0   timestamp                52840 non-null  object \n",
      " 1   company                  52837 non-null  object \n",
      " 2   level                    52747 non-null  object \n",
      " 3   title                    52840 non-null  object \n",
      " 4   totalyearlycompensation  52840 non-null  int64  \n",
      " 5   location                 52840 non-null  object \n",
      " 6   yearsofexperience        52840 non-null  float64\n",
      " 7   yearsatcompany           52840 non-null  float64\n",
      " 8   tag                      52023 non-null  object \n",
      " 9   basesalary               52840 non-null  int64  \n",
      " 10  stockgrantvalue          52840 non-null  float64\n",
      " 11  bonus                    52840 non-null  float64\n",
      " 12  gender                   35737 non-null  object \n",
      " 13  otherdetails             32641 non-null  object \n",
      " 14  cityid                   52840 non-null  int64  \n",
      " 15  dmaid                    52838 non-null  float64\n",
      " 16  rowNumber                52840 non-null  int64  \n",
      " 17  Masters_Degree           52840 non-null  int64  \n",
      " 18  Bachelors_Degree         52840 non-null  int64  \n",
      " 19  Doctorate_Degree         52840 non-null  int64  \n",
      " 20  Highschool               52840 non-null  int64  \n",
      " 21  Some_College             52840 non-null  int64  \n",
      " 22  Race_Asian               52840 non-null  int64  \n",
      " 23  Race_White               52840 non-null  int64  \n",
      " 24  Race_Two_Or_More         52840 non-null  int64  \n",
      " 25  Race_Black               52840 non-null  int64  \n",
      " 26  Race_Hispanic            52840 non-null  int64  \n",
      " 27  Race                     17593 non-null  object \n",
      " 28  Education                24422 non-null  object \n",
      " 29  location.1               52840 non-null  object \n",
      " 30  state                    52840 non-null  object \n",
      " 31  Unnamed: 31              0 non-null      object \n",
      " 32  Unnamed: 32              0 non-null      object \n",
      "dtypes: float64(5), int64(14), object(14)\n",
      "memory usage: 13.7+ MB\n"
     ]
    }
   ],
   "source": [
    "df = df.rename(columns={'Unnamed: 30': 'state'})\n",
    "\n",
    "df.info()"
   ]
  },
  {
   "cell_type": "code",
   "execution_count": 8,
   "id": "3439f8b7",
   "metadata": {},
   "outputs": [
    {
     "data": {
      "text/plain": [
       "array([ 1.5  ,  3.   ,  0.   ,  5.   ,  8.5  , 11.   ,  4.   ,  1.   ,\n",
       "        6.   , 10.   ,  7.   ,  9.   , 15.   , 12.   ,  2.   , 17.   ,\n",
       "        1.25 ,  0.5  ,  6.5  , 13.   ,  3.5  ,  5.5  , 19.   ,  0.25 ,\n",
       "        2.5  ,  8.   ,  3.8  , 18.   , 20.   ,  4.5  ,  0.1  ,  0.58 ,\n",
       "        2.75 , 14.   ,  0.4  , 21.   ,  4.4  , 16.   ,  0.8  , 30.   ,\n",
       "        0.7  , 25.   ,  0.75 ,  0.3  ,  7.5  , 15.5  ,  0.6  , 24.   ,\n",
       "        0.2  ,  4.75 ,  3.7  ,  1.6  ,  2.4  , 23.   ,  0.85 ,  1.8  ,\n",
       "       34.   ,  2.6  ,  1.4  ,  2.9  ,  1.1  ,  2.7  ,  2.8  , 22.   ,\n",
       "        1.75 ,  1.2  ,  1.9  ,  2.3  , 26.   ,  0.33 ,  1.7  ,  4.8  ,\n",
       "        4.2  ,  3.3  , 32.   , 27.   , 28.   , 69.   , 33.   , 40.   ,\n",
       "        1.666])"
      ]
     },
     "execution_count": 8,
     "metadata": {},
     "output_type": "execute_result"
    }
   ],
   "source": [
    " df['yearsatcompany'].unique()"
   ]
  },
  {
   "cell_type": "code",
   "execution_count": 9,
   "id": "f82ae908",
   "metadata": {},
   "outputs": [
    {
     "data": {
      "text/plain": [
       "Amazon              6901\n",
       "Microsoft           4538\n",
       "Google              3787\n",
       "Facebook            2695\n",
       "Apple               1926\n",
       "                    ... \n",
       "Visa inc               1\n",
       "liberty mutual         1\n",
       "axon                   1\n",
       "mastercard             1\n",
       "tableau software       1\n",
       "Name: company, Length: 1465, dtype: int64"
      ]
     },
     "execution_count": 9,
     "metadata": {},
     "output_type": "execute_result"
    }
   ],
   "source": [
    " df['company'].value_counts()"
   ]
  },
  {
   "cell_type": "code",
   "execution_count": 10,
   "id": "455d4cbc",
   "metadata": {},
   "outputs": [
    {
     "data": {
      "text/html": [
       "<div>\n",
       "<style scoped>\n",
       "    .dataframe tbody tr th:only-of-type {\n",
       "        vertical-align: middle;\n",
       "    }\n",
       "\n",
       "    .dataframe tbody tr th {\n",
       "        vertical-align: top;\n",
       "    }\n",
       "\n",
       "    .dataframe thead th {\n",
       "        text-align: right;\n",
       "    }\n",
       "</style>\n",
       "<table border=\"1\" class=\"dataframe\">\n",
       "  <thead>\n",
       "    <tr style=\"text-align: right;\">\n",
       "      <th></th>\n",
       "      <th>title</th>\n",
       "      <th>company</th>\n",
       "      <th>basesalary</th>\n",
       "      <th>totalyearlycompensation</th>\n",
       "      <th>Race</th>\n",
       "      <th>yearsofexperience</th>\n",
       "      <th>yearsatcompany</th>\n",
       "      <th>gender</th>\n",
       "      <th>Education</th>\n",
       "      <th>state</th>\n",
       "    </tr>\n",
       "  </thead>\n",
       "  <tbody>\n",
       "    <tr>\n",
       "      <th>0</th>\n",
       "      <td>Product Manager</td>\n",
       "      <td>Oracle</td>\n",
       "      <td>107000</td>\n",
       "      <td>127000</td>\n",
       "      <td>NaN</td>\n",
       "      <td>1.5</td>\n",
       "      <td>1.5</td>\n",
       "      <td>NaN</td>\n",
       "      <td>NaN</td>\n",
       "      <td>CA</td>\n",
       "    </tr>\n",
       "    <tr>\n",
       "      <th>1</th>\n",
       "      <td>Software Engineer</td>\n",
       "      <td>eBay</td>\n",
       "      <td>0</td>\n",
       "      <td>100000</td>\n",
       "      <td>NaN</td>\n",
       "      <td>5.0</td>\n",
       "      <td>3.0</td>\n",
       "      <td>NaN</td>\n",
       "      <td>NaN</td>\n",
       "      <td>CA</td>\n",
       "    </tr>\n",
       "    <tr>\n",
       "      <th>2</th>\n",
       "      <td>Product Manager</td>\n",
       "      <td>Amazon</td>\n",
       "      <td>155000</td>\n",
       "      <td>310000</td>\n",
       "      <td>NaN</td>\n",
       "      <td>8.0</td>\n",
       "      <td>0.0</td>\n",
       "      <td>NaN</td>\n",
       "      <td>NaN</td>\n",
       "      <td>WA</td>\n",
       "    </tr>\n",
       "    <tr>\n",
       "      <th>3</th>\n",
       "      <td>Software Engineering Manager</td>\n",
       "      <td>Apple</td>\n",
       "      <td>157000</td>\n",
       "      <td>372000</td>\n",
       "      <td>NaN</td>\n",
       "      <td>7.0</td>\n",
       "      <td>5.0</td>\n",
       "      <td>NaN</td>\n",
       "      <td>NaN</td>\n",
       "      <td>CA</td>\n",
       "    </tr>\n",
       "    <tr>\n",
       "      <th>4</th>\n",
       "      <td>Software Engineer</td>\n",
       "      <td>Microsoft</td>\n",
       "      <td>0</td>\n",
       "      <td>157000</td>\n",
       "      <td>NaN</td>\n",
       "      <td>5.0</td>\n",
       "      <td>3.0</td>\n",
       "      <td>NaN</td>\n",
       "      <td>NaN</td>\n",
       "      <td>CA</td>\n",
       "    </tr>\n",
       "  </tbody>\n",
       "</table>\n",
       "</div>"
      ],
      "text/plain": [
       "                          title    company  basesalary  \\\n",
       "0               Product Manager     Oracle      107000   \n",
       "1             Software Engineer       eBay           0   \n",
       "2               Product Manager     Amazon      155000   \n",
       "3  Software Engineering Manager      Apple      157000   \n",
       "4             Software Engineer  Microsoft           0   \n",
       "\n",
       "   totalyearlycompensation Race  yearsofexperience  yearsatcompany gender  \\\n",
       "0                   127000  NaN                1.5             1.5    NaN   \n",
       "1                   100000  NaN                5.0             3.0    NaN   \n",
       "2                   310000  NaN                8.0             0.0    NaN   \n",
       "3                   372000  NaN                7.0             5.0    NaN   \n",
       "4                   157000  NaN                5.0             3.0    NaN   \n",
       "\n",
       "  Education state  \n",
       "0       NaN    CA  \n",
       "1       NaN    CA  \n",
       "2       NaN    WA  \n",
       "3       NaN    CA  \n",
       "4       NaN    CA  "
      ]
     },
     "execution_count": 10,
     "metadata": {},
     "output_type": "execute_result"
    }
   ],
   "source": [
    "df_clean = df[['title', 'company', 'basesalary','totalyearlycompensation', 'Race', 'yearsofexperience','yearsatcompany','gender','Education' ,'state']]\n",
    "df_clean.head()"
   ]
  },
  {
   "cell_type": "code",
   "execution_count": 11,
   "id": "affb2e46",
   "metadata": {},
   "outputs": [
    {
     "data": {
      "text/html": [
       "<div>\n",
       "<style scoped>\n",
       "    .dataframe tbody tr th:only-of-type {\n",
       "        vertical-align: middle;\n",
       "    }\n",
       "\n",
       "    .dataframe tbody tr th {\n",
       "        vertical-align: top;\n",
       "    }\n",
       "\n",
       "    .dataframe thead th {\n",
       "        text-align: right;\n",
       "    }\n",
       "</style>\n",
       "<table border=\"1\" class=\"dataframe\">\n",
       "  <thead>\n",
       "    <tr style=\"text-align: right;\">\n",
       "      <th></th>\n",
       "      <th>title</th>\n",
       "      <th>company</th>\n",
       "      <th>basesalary</th>\n",
       "      <th>totalyearlycompensation</th>\n",
       "      <th>Race</th>\n",
       "      <th>yearsofexperience</th>\n",
       "      <th>yearsatcompany</th>\n",
       "      <th>gender</th>\n",
       "      <th>Education</th>\n",
       "      <th>state</th>\n",
       "    </tr>\n",
       "  </thead>\n",
       "  <tbody>\n",
       "    <tr>\n",
       "      <th>0</th>\n",
       "      <td>Product Manager</td>\n",
       "      <td>Oracle</td>\n",
       "      <td>107000</td>\n",
       "      <td>127000</td>\n",
       "      <td>NaN</td>\n",
       "      <td>1.5</td>\n",
       "      <td>1.5</td>\n",
       "      <td>NaN</td>\n",
       "      <td>NaN</td>\n",
       "      <td>CA</td>\n",
       "    </tr>\n",
       "    <tr>\n",
       "      <th>1</th>\n",
       "      <td>Software Engineer</td>\n",
       "      <td>eBay</td>\n",
       "      <td>0</td>\n",
       "      <td>100000</td>\n",
       "      <td>NaN</td>\n",
       "      <td>5.0</td>\n",
       "      <td>3.0</td>\n",
       "      <td>NaN</td>\n",
       "      <td>NaN</td>\n",
       "      <td>CA</td>\n",
       "    </tr>\n",
       "    <tr>\n",
       "      <th>2</th>\n",
       "      <td>Product Manager</td>\n",
       "      <td>Amazon</td>\n",
       "      <td>155000</td>\n",
       "      <td>310000</td>\n",
       "      <td>NaN</td>\n",
       "      <td>8.0</td>\n",
       "      <td>0.0</td>\n",
       "      <td>NaN</td>\n",
       "      <td>NaN</td>\n",
       "      <td>WA</td>\n",
       "    </tr>\n",
       "    <tr>\n",
       "      <th>3</th>\n",
       "      <td>Software Engineering Manager</td>\n",
       "      <td>Apple</td>\n",
       "      <td>157000</td>\n",
       "      <td>372000</td>\n",
       "      <td>NaN</td>\n",
       "      <td>7.0</td>\n",
       "      <td>5.0</td>\n",
       "      <td>NaN</td>\n",
       "      <td>NaN</td>\n",
       "      <td>CA</td>\n",
       "    </tr>\n",
       "    <tr>\n",
       "      <th>4</th>\n",
       "      <td>Software Engineer</td>\n",
       "      <td>Microsoft</td>\n",
       "      <td>0</td>\n",
       "      <td>157000</td>\n",
       "      <td>NaN</td>\n",
       "      <td>5.0</td>\n",
       "      <td>3.0</td>\n",
       "      <td>NaN</td>\n",
       "      <td>NaN</td>\n",
       "      <td>CA</td>\n",
       "    </tr>\n",
       "    <tr>\n",
       "      <th>...</th>\n",
       "      <td>...</td>\n",
       "      <td>...</td>\n",
       "      <td>...</td>\n",
       "      <td>...</td>\n",
       "      <td>...</td>\n",
       "      <td>...</td>\n",
       "      <td>...</td>\n",
       "      <td>...</td>\n",
       "      <td>...</td>\n",
       "      <td>...</td>\n",
       "    </tr>\n",
       "    <tr>\n",
       "      <th>62637</th>\n",
       "      <td>Software Engineer</td>\n",
       "      <td>Google</td>\n",
       "      <td>155000</td>\n",
       "      <td>327000</td>\n",
       "      <td>NaN</td>\n",
       "      <td>10.0</td>\n",
       "      <td>1.0</td>\n",
       "      <td>NaN</td>\n",
       "      <td>NaN</td>\n",
       "      <td>WA</td>\n",
       "    </tr>\n",
       "    <tr>\n",
       "      <th>62638</th>\n",
       "      <td>Software Engineer</td>\n",
       "      <td>Microsoft</td>\n",
       "      <td>146900</td>\n",
       "      <td>237000</td>\n",
       "      <td>NaN</td>\n",
       "      <td>2.0</td>\n",
       "      <td>2.0</td>\n",
       "      <td>NaN</td>\n",
       "      <td>NaN</td>\n",
       "      <td>WA</td>\n",
       "    </tr>\n",
       "    <tr>\n",
       "      <th>62639</th>\n",
       "      <td>Software Engineer</td>\n",
       "      <td>MSFT</td>\n",
       "      <td>157000</td>\n",
       "      <td>220000</td>\n",
       "      <td>NaN</td>\n",
       "      <td>14.0</td>\n",
       "      <td>12.0</td>\n",
       "      <td>NaN</td>\n",
       "      <td>NaN</td>\n",
       "      <td>WA</td>\n",
       "    </tr>\n",
       "    <tr>\n",
       "      <th>62640</th>\n",
       "      <td>Software Engineer</td>\n",
       "      <td>Salesforce</td>\n",
       "      <td>194688</td>\n",
       "      <td>280000</td>\n",
       "      <td>NaN</td>\n",
       "      <td>8.0</td>\n",
       "      <td>4.0</td>\n",
       "      <td>NaN</td>\n",
       "      <td>NaN</td>\n",
       "      <td>CA</td>\n",
       "    </tr>\n",
       "    <tr>\n",
       "      <th>62641</th>\n",
       "      <td>Software Engineer</td>\n",
       "      <td>apple</td>\n",
       "      <td>155000</td>\n",
       "      <td>200000</td>\n",
       "      <td>NaN</td>\n",
       "      <td>0.0</td>\n",
       "      <td>0.0</td>\n",
       "      <td>Male</td>\n",
       "      <td>NaN</td>\n",
       "      <td>CA</td>\n",
       "    </tr>\n",
       "  </tbody>\n",
       "</table>\n",
       "<p>52840 rows × 10 columns</p>\n",
       "</div>"
      ],
      "text/plain": [
       "                              title     company  basesalary  \\\n",
       "0                   Product Manager      Oracle      107000   \n",
       "1                 Software Engineer        eBay           0   \n",
       "2                   Product Manager      Amazon      155000   \n",
       "3      Software Engineering Manager       Apple      157000   \n",
       "4                 Software Engineer   Microsoft           0   \n",
       "...                             ...         ...         ...   \n",
       "62637             Software Engineer      Google      155000   \n",
       "62638             Software Engineer   Microsoft      146900   \n",
       "62639             Software Engineer        MSFT      157000   \n",
       "62640             Software Engineer  Salesforce      194688   \n",
       "62641             Software Engineer       apple      155000   \n",
       "\n",
       "       totalyearlycompensation Race  yearsofexperience  yearsatcompany gender  \\\n",
       "0                       127000  NaN                1.5             1.5    NaN   \n",
       "1                       100000  NaN                5.0             3.0    NaN   \n",
       "2                       310000  NaN                8.0             0.0    NaN   \n",
       "3                       372000  NaN                7.0             5.0    NaN   \n",
       "4                       157000  NaN                5.0             3.0    NaN   \n",
       "...                        ...  ...                ...             ...    ...   \n",
       "62637                   327000  NaN               10.0             1.0    NaN   \n",
       "62638                   237000  NaN                2.0             2.0    NaN   \n",
       "62639                   220000  NaN               14.0            12.0    NaN   \n",
       "62640                   280000  NaN                8.0             4.0    NaN   \n",
       "62641                   200000  NaN                0.0             0.0   Male   \n",
       "\n",
       "      Education state  \n",
       "0           NaN    CA  \n",
       "1           NaN    CA  \n",
       "2           NaN    WA  \n",
       "3           NaN    CA  \n",
       "4           NaN    CA  \n",
       "...         ...   ...  \n",
       "62637       NaN    WA  \n",
       "62638       NaN    WA  \n",
       "62639       NaN    WA  \n",
       "62640       NaN    CA  \n",
       "62641       NaN    CA  \n",
       "\n",
       "[52840 rows x 10 columns]"
      ]
     },
     "execution_count": 11,
     "metadata": {},
     "output_type": "execute_result"
    }
   ],
   "source": [
    "df_clean_buckets = df_clean.copy()\n",
    "df_clean_buckets"
   ]
  },
  {
   "cell_type": "code",
   "execution_count": 12,
   "id": "07b9354f",
   "metadata": {},
   "outputs": [
    {
     "data": {
      "text/plain": [
       "array([ 1.5 ,  5.  ,  8.  ,  7.  ,  8.5 , 15.  ,  4.  ,  3.  , 12.  ,\n",
       "       16.  , 10.  ,  1.  ,  9.  , 17.  , 14.  ,  6.  , 20.  , 28.  ,\n",
       "       13.  , 19.  ,  0.5 ,  2.  , 11.  , 23.  ,  0.  , 11.5 ,  3.5 ,\n",
       "       22.  ,  6.5 , 18.  ,  2.5 ,  5.5 , 21.  , 25.  ,  3.8 ,  7.5 ,\n",
       "       37.  ,  0.8 ,  6.75, 38.  , 24.  , 30.  ,  0.58,  1.6 , 32.  ,\n",
       "       26.  , 34.  , 27.  , 29.  , 35.  , 33.  , 40.  , 39.  , 31.  ,\n",
       "       42.  , 41.  ,  0.3 ,  0.25, 36.  , 45.  , 69.  ,  4.5 ,  0.6 ,\n",
       "        1.4 , 10.5 ])"
      ]
     },
     "execution_count": 12,
     "metadata": {},
     "output_type": "execute_result"
    }
   ],
   "source": [
    "df_clean_buckets['yearsofexperience'].unique()"
   ]
  },
  {
   "cell_type": "code",
   "execution_count": 13,
   "id": "00bc6625",
   "metadata": {},
   "outputs": [],
   "source": [
    "############################# changed from 4 to 3\n",
    "\n",
    "\n",
    "### 3 to 2"
   ]
  },
  {
   "cell_type": "code",
   "execution_count": 14,
   "id": "72a1dab4",
   "metadata": {},
   "outputs": [
    {
     "data": {
      "text/html": [
       "<div>\n",
       "<style scoped>\n",
       "    .dataframe tbody tr th:only-of-type {\n",
       "        vertical-align: middle;\n",
       "    }\n",
       "\n",
       "    .dataframe tbody tr th {\n",
       "        vertical-align: top;\n",
       "    }\n",
       "\n",
       "    .dataframe thead th {\n",
       "        text-align: right;\n",
       "    }\n",
       "</style>\n",
       "<table border=\"1\" class=\"dataframe\">\n",
       "  <thead>\n",
       "    <tr style=\"text-align: right;\">\n",
       "      <th></th>\n",
       "      <th>title</th>\n",
       "      <th>company</th>\n",
       "      <th>basesalary</th>\n",
       "      <th>totalyearlycompensation</th>\n",
       "      <th>Race</th>\n",
       "      <th>yearsofexperience</th>\n",
       "      <th>yearsatcompany</th>\n",
       "      <th>gender</th>\n",
       "      <th>Education</th>\n",
       "      <th>state</th>\n",
       "      <th>experience_years</th>\n",
       "    </tr>\n",
       "  </thead>\n",
       "  <tbody>\n",
       "    <tr>\n",
       "      <th>0</th>\n",
       "      <td>Product Manager</td>\n",
       "      <td>Oracle</td>\n",
       "      <td>107000</td>\n",
       "      <td>127000</td>\n",
       "      <td>NaN</td>\n",
       "      <td>1.5</td>\n",
       "      <td>1.5</td>\n",
       "      <td>NaN</td>\n",
       "      <td>NaN</td>\n",
       "      <td>CA</td>\n",
       "      <td>0-2</td>\n",
       "    </tr>\n",
       "    <tr>\n",
       "      <th>1</th>\n",
       "      <td>Software Engineer</td>\n",
       "      <td>eBay</td>\n",
       "      <td>0</td>\n",
       "      <td>100000</td>\n",
       "      <td>NaN</td>\n",
       "      <td>5.0</td>\n",
       "      <td>3.0</td>\n",
       "      <td>NaN</td>\n",
       "      <td>NaN</td>\n",
       "      <td>CA</td>\n",
       "      <td>4-6</td>\n",
       "    </tr>\n",
       "    <tr>\n",
       "      <th>2</th>\n",
       "      <td>Product Manager</td>\n",
       "      <td>Amazon</td>\n",
       "      <td>155000</td>\n",
       "      <td>310000</td>\n",
       "      <td>NaN</td>\n",
       "      <td>8.0</td>\n",
       "      <td>0.0</td>\n",
       "      <td>NaN</td>\n",
       "      <td>NaN</td>\n",
       "      <td>WA</td>\n",
       "      <td>8-10</td>\n",
       "    </tr>\n",
       "    <tr>\n",
       "      <th>3</th>\n",
       "      <td>Software Engineering Manager</td>\n",
       "      <td>Apple</td>\n",
       "      <td>157000</td>\n",
       "      <td>372000</td>\n",
       "      <td>NaN</td>\n",
       "      <td>7.0</td>\n",
       "      <td>5.0</td>\n",
       "      <td>NaN</td>\n",
       "      <td>NaN</td>\n",
       "      <td>CA</td>\n",
       "      <td>6-8</td>\n",
       "    </tr>\n",
       "    <tr>\n",
       "      <th>4</th>\n",
       "      <td>Software Engineer</td>\n",
       "      <td>Microsoft</td>\n",
       "      <td>0</td>\n",
       "      <td>157000</td>\n",
       "      <td>NaN</td>\n",
       "      <td>5.0</td>\n",
       "      <td>3.0</td>\n",
       "      <td>NaN</td>\n",
       "      <td>NaN</td>\n",
       "      <td>CA</td>\n",
       "      <td>4-6</td>\n",
       "    </tr>\n",
       "  </tbody>\n",
       "</table>\n",
       "</div>"
      ],
      "text/plain": [
       "                          title    company  basesalary  \\\n",
       "0               Product Manager     Oracle      107000   \n",
       "1             Software Engineer       eBay           0   \n",
       "2               Product Manager     Amazon      155000   \n",
       "3  Software Engineering Manager      Apple      157000   \n",
       "4             Software Engineer  Microsoft           0   \n",
       "\n",
       "   totalyearlycompensation Race  yearsofexperience  yearsatcompany gender  \\\n",
       "0                   127000  NaN                1.5             1.5    NaN   \n",
       "1                   100000  NaN                5.0             3.0    NaN   \n",
       "2                   310000  NaN                8.0             0.0    NaN   \n",
       "3                   372000  NaN                7.0             5.0    NaN   \n",
       "4                   157000  NaN                5.0             3.0    NaN   \n",
       "\n",
       "  Education state experience_years  \n",
       "0       NaN    CA              0-2  \n",
       "1       NaN    CA              4-6  \n",
       "2       NaN    WA             8-10  \n",
       "3       NaN    CA              6-8  \n",
       "4       NaN    CA              4-6  "
      ]
     },
     "execution_count": 14,
     "metadata": {},
     "output_type": "execute_result"
    }
   ],
   "source": [
    "# Define the bucket intervals and labels\n",
    "bucket_intervals = list(range(0, 46, 2))\n",
    "bucket_labels = [f'{i}-{i+2}' for i in bucket_intervals[:-1]]\n",
    "\n",
    "# Create the 'experience_years' column using pd.cut()\n",
    "df_clean_buckets['experience_years'] = pd.cut(df_clean_buckets['yearsofexperience'], bins=bucket_intervals, labels=bucket_labels, right=False)\n",
    "\n",
    "# Print the updated DataFrame\n",
    "df_clean_buckets.head()"
   ]
  },
  {
   "cell_type": "code",
   "execution_count": 15,
   "id": "950b8f6d",
   "metadata": {},
   "outputs": [
    {
     "data": {
      "text/plain": [
       " CA        22824\n",
       " WA        12353\n",
       " NY         4715\n",
       " TX         2702\n",
       " MA         1738\n",
       " VA          917\n",
       " IL          885\n",
       " OR          637\n",
       " DC          592\n",
       " CO          590\n",
       " GA          573\n",
       " NC          504\n",
       " PA          480\n",
       " NJ          460\n",
       " AZ          379\n",
       " FL          298\n",
       " MN          278\n",
       " UT          224\n",
       " MI          218\n",
       " OH          202\n",
       " MO          190\n",
       " WI          155\n",
       " CT          106\n",
       " MD          105\n",
       " IN          100\n",
       " AR           88\n",
       " TN           79\n",
       " DE           59\n",
       " ID           45\n",
       " KS           37\n",
       " NH           35\n",
       " LA           31\n",
       " IA           31\n",
       " AL           25\n",
       " NE           25\n",
       " KY           24\n",
       " NV           24\n",
       " SC           22\n",
       " OK           18\n",
       " RI           18\n",
       " WV           11\n",
       " NM           10\n",
       " VT            7\n",
       " MT            7\n",
       " ND            5\n",
       " ME            4\n",
       " HI            4\n",
       " MS            3\n",
       " Israel        2\n",
       " WY            1\n",
       "Name: state, dtype: int64"
      ]
     },
     "execution_count": 15,
     "metadata": {},
     "output_type": "execute_result"
    }
   ],
   "source": [
    "df_clean_buckets['state'].value_counts()\n"
   ]
  },
  {
   "cell_type": "code",
   "execution_count": 16,
   "id": "c6af8e4d",
   "metadata": {},
   "outputs": [],
   "source": [
    "##### 100 to 150 ######"
   ]
  },
  {
   "cell_type": "code",
   "execution_count": 17,
   "id": "28649bda",
   "metadata": {},
   "outputs": [
    {
     "name": "stdout",
     "output_type": "stream",
     "text": [
      "<class 'pandas.core.frame.DataFrame'>\n",
      "Int64Index: 52840 entries, 0 to 62641\n",
      "Data columns (total 12 columns):\n",
      " #   Column                   Non-Null Count  Dtype   \n",
      "---  ------                   --------------  -----   \n",
      " 0   title                    52840 non-null  object  \n",
      " 1   company                  52837 non-null  object  \n",
      " 2   basesalary               52840 non-null  int64   \n",
      " 3   totalyearlycompensation  52840 non-null  int64   \n",
      " 4   Race                     17593 non-null  object  \n",
      " 5   yearsofexperience        52840 non-null  float64 \n",
      " 6   yearsatcompany           52840 non-null  float64 \n",
      " 7   gender                   35737 non-null  object  \n",
      " 8   Education                24422 non-null  object  \n",
      " 9   state                    52840 non-null  object  \n",
      " 10  experience_years         52838 non-null  category\n",
      " 11  state_group              52840 non-null  object  \n",
      "dtypes: category(1), float64(2), int64(2), object(7)\n",
      "memory usage: 4.9+ MB\n"
     ]
    }
   ],
   "source": [
    "threshold = 150\n",
    "state_counts = df_clean_buckets['state'].value_counts()\n",
    "df_clean_buckets['state_group'] = df_clean_buckets['state'].apply(lambda x: x if state_counts[x] >= threshold else 'Other')\n",
    "df_clean_buckets.info()"
   ]
  },
  {
   "cell_type": "code",
   "execution_count": 18,
   "id": "1a402f06",
   "metadata": {},
   "outputs": [
    {
     "data": {
      "text/plain": [
       " CA      22824\n",
       " WA      12353\n",
       " NY       4715\n",
       " TX       2702\n",
       " MA       1738\n",
       "Other      926\n",
       " VA        917\n",
       " IL        885\n",
       " OR        637\n",
       " DC        592\n",
       " CO        590\n",
       " GA        573\n",
       " NC        504\n",
       " PA        480\n",
       " NJ        460\n",
       " AZ        379\n",
       " FL        298\n",
       " MN        278\n",
       " UT        224\n",
       " MI        218\n",
       " OH        202\n",
       " MO        190\n",
       " WI        155\n",
       "Name: state_group, dtype: int64"
      ]
     },
     "execution_count": 18,
     "metadata": {},
     "output_type": "execute_result"
    }
   ],
   "source": [
    "df_clean_buckets['state_group'].value_counts()"
   ]
  },
  {
   "cell_type": "code",
   "execution_count": 19,
   "id": "6d2d7221",
   "metadata": {},
   "outputs": [
    {
     "name": "stdout",
     "output_type": "stream",
     "text": [
      "<class 'pandas.core.frame.DataFrame'>\n",
      "Int64Index: 52837 entries, 0 to 62641\n",
      "Data columns (total 13 columns):\n",
      " #   Column                   Non-Null Count  Dtype   \n",
      "---  ------                   --------------  -----   \n",
      " 0   title                    52837 non-null  object  \n",
      " 1   company                  52837 non-null  object  \n",
      " 2   basesalary               52837 non-null  int64   \n",
      " 3   totalyearlycompensation  52837 non-null  int64   \n",
      " 4   Race                     17592 non-null  object  \n",
      " 5   yearsofexperience        52837 non-null  float64 \n",
      " 6   yearsatcompany           52837 non-null  float64 \n",
      " 7   gender                   35735 non-null  object  \n",
      " 8   Education                24421 non-null  object  \n",
      " 9   state                    52837 non-null  object  \n",
      " 10  experience_years         52835 non-null  category\n",
      " 11  state_group              52837 non-null  object  \n",
      " 12  company_group            52837 non-null  object  \n",
      "dtypes: category(1), float64(2), int64(2), object(8)\n",
      "memory usage: 5.3+ MB\n"
     ]
    },
    {
     "name": "stderr",
     "output_type": "stream",
     "text": [
      "/var/folders/nb/349wvybs4q78vd9dwqkvglj00000gn/T/ipykernel_21626/2724385997.py:8: SettingWithCopyWarning: \n",
      "A value is trying to be set on a copy of a slice from a DataFrame.\n",
      "Try using .loc[row_indexer,col_indexer] = value instead\n",
      "\n",
      "See the caveats in the documentation: https://pandas.pydata.org/pandas-docs/stable/user_guide/indexing.html#returning-a-view-versus-a-copy\n",
      "  df_clean_buckets['company_group'] = df_clean_buckets['company'].apply(lambda x: x if state_counts[x] >= threshold else 'Other')\n"
     ]
    }
   ],
   "source": [
    "#### COMPANY BINS #####\n",
    "\n",
    "df_clean_buckets = df_clean_buckets.dropna(subset=['company'])\n",
    "\n",
    "\n",
    "threshold = 1000\n",
    "state_counts = df_clean_buckets['company'].value_counts()\n",
    "df_clean_buckets['company_group'] = df_clean_buckets['company'].apply(lambda x: x if state_counts[x] >= threshold else 'Other')\n",
    "df_clean_buckets.info()\n",
    "\n"
   ]
  },
  {
   "cell_type": "code",
   "execution_count": null,
   "id": "09518258",
   "metadata": {},
   "outputs": [],
   "source": []
  },
  {
   "cell_type": "code",
   "execution_count": null,
   "id": "615b24a6",
   "metadata": {},
   "outputs": [],
   "source": []
  },
  {
   "cell_type": "code",
   "execution_count": 20,
   "id": "c6ccbaf4",
   "metadata": {},
   "outputs": [
    {
     "data": {
      "text/plain": [
       "Master's Degree      12901\n",
       "Bachelor's Degree     9472\n",
       "PhD                   1546\n",
       "Some College           295\n",
       "Highschool             207\n",
       "Name: Education, dtype: int64"
      ]
     },
     "execution_count": 20,
     "metadata": {},
     "output_type": "execute_result"
    }
   ],
   "source": [
    "df_clean_buckets['Education'].value_counts()"
   ]
  },
  {
   "cell_type": "code",
   "execution_count": 21,
   "id": "2cba70ad",
   "metadata": {},
   "outputs": [
    {
     "name": "stderr",
     "output_type": "stream",
     "text": [
      "/var/folders/nb/349wvybs4q78vd9dwqkvglj00000gn/T/ipykernel_21626/562643814.py:1: SettingWithCopyWarning: \n",
      "A value is trying to be set on a copy of a slice from a DataFrame.\n",
      "Try using .loc[row_indexer,col_indexer] = value instead\n",
      "\n",
      "See the caveats in the documentation: https://pandas.pydata.org/pandas-docs/stable/user_guide/indexing.html#returning-a-view-versus-a-copy\n",
      "  df_clean_buckets['education_level'] = df_clean_buckets['Education'].apply(lambda x: 'No Degree' if x in ['Some College', 'Highschool'] else x)\n"
     ]
    },
    {
     "data": {
      "text/html": [
       "<div>\n",
       "<style scoped>\n",
       "    .dataframe tbody tr th:only-of-type {\n",
       "        vertical-align: middle;\n",
       "    }\n",
       "\n",
       "    .dataframe tbody tr th {\n",
       "        vertical-align: top;\n",
       "    }\n",
       "\n",
       "    .dataframe thead th {\n",
       "        text-align: right;\n",
       "    }\n",
       "</style>\n",
       "<table border=\"1\" class=\"dataframe\">\n",
       "  <thead>\n",
       "    <tr style=\"text-align: right;\">\n",
       "      <th></th>\n",
       "      <th>title</th>\n",
       "      <th>company</th>\n",
       "      <th>basesalary</th>\n",
       "      <th>totalyearlycompensation</th>\n",
       "      <th>Race</th>\n",
       "      <th>yearsofexperience</th>\n",
       "      <th>yearsatcompany</th>\n",
       "      <th>gender</th>\n",
       "      <th>Education</th>\n",
       "      <th>state</th>\n",
       "      <th>experience_years</th>\n",
       "      <th>state_group</th>\n",
       "      <th>company_group</th>\n",
       "      <th>education_level</th>\n",
       "    </tr>\n",
       "  </thead>\n",
       "  <tbody>\n",
       "    <tr>\n",
       "      <th>0</th>\n",
       "      <td>Product Manager</td>\n",
       "      <td>Oracle</td>\n",
       "      <td>107000</td>\n",
       "      <td>127000</td>\n",
       "      <td>NaN</td>\n",
       "      <td>1.5</td>\n",
       "      <td>1.5</td>\n",
       "      <td>NaN</td>\n",
       "      <td>NaN</td>\n",
       "      <td>CA</td>\n",
       "      <td>0-2</td>\n",
       "      <td>CA</td>\n",
       "      <td>Other</td>\n",
       "      <td>NaN</td>\n",
       "    </tr>\n",
       "    <tr>\n",
       "      <th>1</th>\n",
       "      <td>Software Engineer</td>\n",
       "      <td>eBay</td>\n",
       "      <td>0</td>\n",
       "      <td>100000</td>\n",
       "      <td>NaN</td>\n",
       "      <td>5.0</td>\n",
       "      <td>3.0</td>\n",
       "      <td>NaN</td>\n",
       "      <td>NaN</td>\n",
       "      <td>CA</td>\n",
       "      <td>4-6</td>\n",
       "      <td>CA</td>\n",
       "      <td>Other</td>\n",
       "      <td>NaN</td>\n",
       "    </tr>\n",
       "    <tr>\n",
       "      <th>2</th>\n",
       "      <td>Product Manager</td>\n",
       "      <td>Amazon</td>\n",
       "      <td>155000</td>\n",
       "      <td>310000</td>\n",
       "      <td>NaN</td>\n",
       "      <td>8.0</td>\n",
       "      <td>0.0</td>\n",
       "      <td>NaN</td>\n",
       "      <td>NaN</td>\n",
       "      <td>WA</td>\n",
       "      <td>8-10</td>\n",
       "      <td>WA</td>\n",
       "      <td>Amazon</td>\n",
       "      <td>NaN</td>\n",
       "    </tr>\n",
       "    <tr>\n",
       "      <th>3</th>\n",
       "      <td>Software Engineering Manager</td>\n",
       "      <td>Apple</td>\n",
       "      <td>157000</td>\n",
       "      <td>372000</td>\n",
       "      <td>NaN</td>\n",
       "      <td>7.0</td>\n",
       "      <td>5.0</td>\n",
       "      <td>NaN</td>\n",
       "      <td>NaN</td>\n",
       "      <td>CA</td>\n",
       "      <td>6-8</td>\n",
       "      <td>CA</td>\n",
       "      <td>Apple</td>\n",
       "      <td>NaN</td>\n",
       "    </tr>\n",
       "    <tr>\n",
       "      <th>4</th>\n",
       "      <td>Software Engineer</td>\n",
       "      <td>Microsoft</td>\n",
       "      <td>0</td>\n",
       "      <td>157000</td>\n",
       "      <td>NaN</td>\n",
       "      <td>5.0</td>\n",
       "      <td>3.0</td>\n",
       "      <td>NaN</td>\n",
       "      <td>NaN</td>\n",
       "      <td>CA</td>\n",
       "      <td>4-6</td>\n",
       "      <td>CA</td>\n",
       "      <td>Microsoft</td>\n",
       "      <td>NaN</td>\n",
       "    </tr>\n",
       "  </tbody>\n",
       "</table>\n",
       "</div>"
      ],
      "text/plain": [
       "                          title    company  basesalary  \\\n",
       "0               Product Manager     Oracle      107000   \n",
       "1             Software Engineer       eBay           0   \n",
       "2               Product Manager     Amazon      155000   \n",
       "3  Software Engineering Manager      Apple      157000   \n",
       "4             Software Engineer  Microsoft           0   \n",
       "\n",
       "   totalyearlycompensation Race  yearsofexperience  yearsatcompany gender  \\\n",
       "0                   127000  NaN                1.5             1.5    NaN   \n",
       "1                   100000  NaN                5.0             3.0    NaN   \n",
       "2                   310000  NaN                8.0             0.0    NaN   \n",
       "3                   372000  NaN                7.0             5.0    NaN   \n",
       "4                   157000  NaN                5.0             3.0    NaN   \n",
       "\n",
       "  Education state experience_years state_group company_group education_level  \n",
       "0       NaN    CA              0-2          CA         Other             NaN  \n",
       "1       NaN    CA              4-6          CA         Other             NaN  \n",
       "2       NaN    WA             8-10          WA        Amazon             NaN  \n",
       "3       NaN    CA              6-8          CA         Apple             NaN  \n",
       "4       NaN    CA              4-6          CA     Microsoft             NaN  "
      ]
     },
     "execution_count": 21,
     "metadata": {},
     "output_type": "execute_result"
    }
   ],
   "source": [
    "df_clean_buckets['education_level'] = df_clean_buckets['Education'].apply(lambda x: 'No Degree' if x in ['Some College', 'Highschool'] else x)\n",
    "df_clean_buckets.head()"
   ]
  },
  {
   "cell_type": "code",
   "execution_count": 22,
   "id": "ada7e9dd",
   "metadata": {},
   "outputs": [
    {
     "data": {
      "text/plain": [
       "Master's Degree      12901\n",
       "Bachelor's Degree     9472\n",
       "PhD                   1546\n",
       "No Degree              502\n",
       "Name: education_level, dtype: int64"
      ]
     },
     "execution_count": 22,
     "metadata": {},
     "output_type": "execute_result"
    }
   ],
   "source": [
    "df_clean_buckets['education_level'].value_counts()"
   ]
  },
  {
   "cell_type": "code",
   "execution_count": 23,
   "id": "65332399",
   "metadata": {},
   "outputs": [
    {
     "data": {
      "text/plain": [
       "Asian          8953\n",
       "White          6390\n",
       "Hispanic        956\n",
       "Two Or More     673\n",
       "Black           620\n",
       "Name: Race, dtype: int64"
      ]
     },
     "execution_count": 23,
     "metadata": {},
     "output_type": "execute_result"
    }
   ],
   "source": [
    "df_clean_buckets['Race'].value_counts()"
   ]
  },
  {
   "cell_type": "code",
   "execution_count": 24,
   "id": "acb23489",
   "metadata": {},
   "outputs": [
    {
     "data": {
      "text/plain": [
       "Software Engineer               34243\n",
       "Product Manager                  4185\n",
       "Software Engineering Manager     3042\n",
       "Data Scientist                   2227\n",
       "Hardware Engineer                1968\n",
       "Product Designer                 1349\n",
       "Technical Program Manager        1234\n",
       "Solution Architect                893\n",
       "Management Consultant             814\n",
       "Business Analyst                  739\n",
       "Marketing                         630\n",
       "Mechanical Engineer               456\n",
       "Recruiter                         406\n",
       "Sales                             337\n",
       "Human Resources                   314\n",
       "Name: title, dtype: int64"
      ]
     },
     "execution_count": 24,
     "metadata": {},
     "output_type": "execute_result"
    }
   ],
   "source": [
    "df_clean_buckets['title'].value_counts()"
   ]
  },
  {
   "cell_type": "code",
   "execution_count": 25,
   "id": "e0c6296c",
   "metadata": {
    "scrolled": true
   },
   "outputs": [
    {
     "name": "stdout",
     "output_type": "stream",
     "text": [
      "<class 'pandas.core.frame.DataFrame'>\n",
      "Int64Index: 52837 entries, 0 to 62641\n",
      "Data columns (total 14 columns):\n",
      " #   Column                   Non-Null Count  Dtype   \n",
      "---  ------                   --------------  -----   \n",
      " 0   title                    52837 non-null  object  \n",
      " 1   company                  52837 non-null  object  \n",
      " 2   basesalary               52837 non-null  int64   \n",
      " 3   totalyearlycompensation  52837 non-null  int64   \n",
      " 4   Race                     17592 non-null  object  \n",
      " 5   yearsofexperience        52837 non-null  float64 \n",
      " 6   yearsatcompany           52837 non-null  float64 \n",
      " 7   gender                   35735 non-null  object  \n",
      " 8   Education                24421 non-null  object  \n",
      " 9   state                    52837 non-null  object  \n",
      " 10  experience_years         52835 non-null  category\n",
      " 11  state_group              52837 non-null  object  \n",
      " 12  company_group            52837 non-null  object  \n",
      " 13  education_level          24421 non-null  object  \n",
      "dtypes: category(1), float64(2), int64(2), object(9)\n",
      "memory usage: 5.7+ MB\n"
     ]
    }
   ],
   "source": [
    "df_clean_buckets.info()"
   ]
  },
  {
   "cell_type": "code",
   "execution_count": 26,
   "id": "f7cfaea2",
   "metadata": {},
   "outputs": [
    {
     "name": "stdout",
     "output_type": "stream",
     "text": [
      "<class 'pandas.core.frame.DataFrame'>\n",
      "Int64Index: 52837 entries, 0 to 62641\n",
      "Data columns (total 9 columns):\n",
      " #   Column            Non-Null Count  Dtype   \n",
      "---  ------            --------------  -----   \n",
      " 0   title             52837 non-null  object  \n",
      " 1   company_group     52837 non-null  object  \n",
      " 2   basesalary        52837 non-null  int64   \n",
      " 3   Race              17592 non-null  object  \n",
      " 4   gender            35735 non-null  object  \n",
      " 5   experience_years  52835 non-null  category\n",
      " 6   yearsatcompany    52837 non-null  float64 \n",
      " 7   state_group       52837 non-null  object  \n",
      " 8   education_level   24421 non-null  object  \n",
      "dtypes: category(1), float64(1), int64(1), object(6)\n",
      "memory usage: 3.7+ MB\n"
     ]
    }
   ],
   "source": [
    "data_df = df_clean_buckets[['title','company_group', 'basesalary', 'Race', 'gender', 'experience_years', 'yearsatcompany', 'state_group', 'education_level']].copy()\n",
    "data_df.info()"
   ]
  },
  {
   "cell_type": "code",
   "execution_count": 27,
   "id": "313bc5ed",
   "metadata": {},
   "outputs": [
    {
     "name": "stdout",
     "output_type": "stream",
     "text": [
      "<class 'pandas.core.frame.DataFrame'>\n",
      "Int64Index: 16960 entries, 15710 to 61991\n",
      "Data columns (total 9 columns):\n",
      " #   Column            Non-Null Count  Dtype   \n",
      "---  ------            --------------  -----   \n",
      " 0   title             16960 non-null  object  \n",
      " 1   company_group     16960 non-null  object  \n",
      " 2   basesalary        16960 non-null  int64   \n",
      " 3   Race              16960 non-null  object  \n",
      " 4   gender            16960 non-null  object  \n",
      " 5   experience_years  16960 non-null  category\n",
      " 6   yearsatcompany    16960 non-null  float64 \n",
      " 7   state_group       16960 non-null  object  \n",
      " 8   education_level   16960 non-null  object  \n",
      "dtypes: category(1), float64(1), int64(1), object(6)\n",
      "memory usage: 1.2+ MB\n"
     ]
    }
   ],
   "source": [
    "data_df = data_df.dropna()\n",
    "data_df.info()"
   ]
  },
  {
   "cell_type": "code",
   "execution_count": 28,
   "id": "b1d13729",
   "metadata": {},
   "outputs": [],
   "source": [
    "# ### Remove outliers\n",
    "# # Calculate the IQR\n",
    "# Q1 = data_df['basesalary'].quantile(0.25)\n",
    "# Q3 = data_df['basesalary'].quantile(0.75)\n",
    "# IQR = Q3 - Q1\n",
    "\n",
    "# # Define the lower and upper bounds for outliers\n",
    "# lower_bound = Q1 - 1.5 * IQR\n",
    "# upper_bound = Q3 + 1.5 * IQR\n",
    "\n",
    "# # Create a boolean mask to identify rows without outliers\n",
    "# mask = (data_df['basesalary'] >= lower_bound) & (data_df['basesalary'] <= upper_bound)\n",
    "\n",
    "# # Filter the DataFrame using the mask\n",
    "# data_df = data_df[mask]"
   ]
  },
  {
   "cell_type": "code",
   "execution_count": 29,
   "id": "5e6cfe22",
   "metadata": {},
   "outputs": [
    {
     "name": "stdout",
     "output_type": "stream",
     "text": [
      "<class 'pandas.core.frame.DataFrame'>\n",
      "Int64Index: 16960 entries, 15710 to 61991\n",
      "Data columns (total 9 columns):\n",
      " #   Column            Non-Null Count  Dtype   \n",
      "---  ------            --------------  -----   \n",
      " 0   title             16960 non-null  object  \n",
      " 1   company_group     16960 non-null  object  \n",
      " 2   basesalary        16960 non-null  int64   \n",
      " 3   Race              16960 non-null  object  \n",
      " 4   gender            16960 non-null  object  \n",
      " 5   experience_years  16960 non-null  category\n",
      " 6   yearsatcompany    16960 non-null  float64 \n",
      " 7   state_group       16960 non-null  object  \n",
      " 8   education_level   16960 non-null  object  \n",
      "dtypes: category(1), float64(1), int64(1), object(6)\n",
      "memory usage: 1.2+ MB\n"
     ]
    }
   ],
   "source": [
    "data_df.info()"
   ]
  },
  {
   "cell_type": "code",
   "execution_count": 30,
   "id": "84bb572f",
   "metadata": {},
   "outputs": [
    {
     "data": {
      "text/plain": [
       "Asian          8683\n",
       "White          6128\n",
       "Hispanic        907\n",
       "Two Or More     647\n",
       "Black           595\n",
       "Name: Race, dtype: int64"
      ]
     },
     "execution_count": 30,
     "metadata": {},
     "output_type": "execute_result"
    }
   ],
   "source": [
    "data_df['Race'].value_counts()"
   ]
  },
  {
   "cell_type": "code",
   "execution_count": 31,
   "id": "0cbab1a4",
   "metadata": {},
   "outputs": [],
   "source": [
    "import numpy as np\n",
    "\n",
    "data_df['Race_Group'] = np.where(data_df['Race'].isin(['Hispanic', 'Two Or More', 'Black']), 'Minority', data_df['Race'])\n"
   ]
  },
  {
   "cell_type": "code",
   "execution_count": 32,
   "id": "a0219760",
   "metadata": {},
   "outputs": [
    {
     "data": {
      "text/html": [
       "<div>\n",
       "<style scoped>\n",
       "    .dataframe tbody tr th:only-of-type {\n",
       "        vertical-align: middle;\n",
       "    }\n",
       "\n",
       "    .dataframe tbody tr th {\n",
       "        vertical-align: top;\n",
       "    }\n",
       "\n",
       "    .dataframe thead th {\n",
       "        text-align: right;\n",
       "    }\n",
       "</style>\n",
       "<table border=\"1\" class=\"dataframe\">\n",
       "  <thead>\n",
       "    <tr style=\"text-align: right;\">\n",
       "      <th></th>\n",
       "      <th>title</th>\n",
       "      <th>company_group</th>\n",
       "      <th>basesalary</th>\n",
       "      <th>Race</th>\n",
       "      <th>gender</th>\n",
       "      <th>experience_years</th>\n",
       "      <th>state_group</th>\n",
       "      <th>education_level</th>\n",
       "      <th>Race_Group</th>\n",
       "      <th>Tenure</th>\n",
       "    </tr>\n",
       "  </thead>\n",
       "  <tbody>\n",
       "    <tr>\n",
       "      <th>15710</th>\n",
       "      <td>Software Engineer</td>\n",
       "      <td>Google</td>\n",
       "      <td>210000</td>\n",
       "      <td>Asian</td>\n",
       "      <td>Male</td>\n",
       "      <td>4-6</td>\n",
       "      <td>CA</td>\n",
       "      <td>PhD</td>\n",
       "      <td>Asian</td>\n",
       "      <td>5-9</td>\n",
       "    </tr>\n",
       "    <tr>\n",
       "      <th>23532</th>\n",
       "      <td>Software Engineer</td>\n",
       "      <td>Microsoft</td>\n",
       "      <td>124000</td>\n",
       "      <td>Two Or More</td>\n",
       "      <td>Male</td>\n",
       "      <td>2-4</td>\n",
       "      <td>WA</td>\n",
       "      <td>Bachelor's Degree</td>\n",
       "      <td>Minority</td>\n",
       "      <td>0-4</td>\n",
       "    </tr>\n",
       "    <tr>\n",
       "      <th>23533</th>\n",
       "      <td>Software Engineer</td>\n",
       "      <td>Google</td>\n",
       "      <td>177000</td>\n",
       "      <td>Asian</td>\n",
       "      <td>Male</td>\n",
       "      <td>6-8</td>\n",
       "      <td>CA</td>\n",
       "      <td>Bachelor's Degree</td>\n",
       "      <td>Asian</td>\n",
       "      <td>5-9</td>\n",
       "    </tr>\n",
       "    <tr>\n",
       "      <th>23534</th>\n",
       "      <td>Software Engineer</td>\n",
       "      <td>Microsoft</td>\n",
       "      <td>164000</td>\n",
       "      <td>Asian</td>\n",
       "      <td>Male</td>\n",
       "      <td>4-6</td>\n",
       "      <td>WA</td>\n",
       "      <td>Master's Degree</td>\n",
       "      <td>Asian</td>\n",
       "      <td>0-4</td>\n",
       "    </tr>\n",
       "    <tr>\n",
       "      <th>23535</th>\n",
       "      <td>Software Engineer</td>\n",
       "      <td>Other</td>\n",
       "      <td>165000</td>\n",
       "      <td>White</td>\n",
       "      <td>Male</td>\n",
       "      <td>4-6</td>\n",
       "      <td>CA</td>\n",
       "      <td>Bachelor's Degree</td>\n",
       "      <td>White</td>\n",
       "      <td>0-4</td>\n",
       "    </tr>\n",
       "    <tr>\n",
       "      <th>...</th>\n",
       "      <td>...</td>\n",
       "      <td>...</td>\n",
       "      <td>...</td>\n",
       "      <td>...</td>\n",
       "      <td>...</td>\n",
       "      <td>...</td>\n",
       "      <td>...</td>\n",
       "      <td>...</td>\n",
       "      <td>...</td>\n",
       "      <td>...</td>\n",
       "    </tr>\n",
       "    <tr>\n",
       "      <th>61981</th>\n",
       "      <td>Software Engineering Manager</td>\n",
       "      <td>Facebook</td>\n",
       "      <td>290000</td>\n",
       "      <td>Asian</td>\n",
       "      <td>Male</td>\n",
       "      <td>8-10</td>\n",
       "      <td>CA</td>\n",
       "      <td>Bachelor's Degree</td>\n",
       "      <td>Asian</td>\n",
       "      <td>5-9</td>\n",
       "    </tr>\n",
       "    <tr>\n",
       "      <th>61982</th>\n",
       "      <td>Product Manager</td>\n",
       "      <td>Google</td>\n",
       "      <td>450000</td>\n",
       "      <td>Asian</td>\n",
       "      <td>Male</td>\n",
       "      <td>20-22</td>\n",
       "      <td>CA</td>\n",
       "      <td>Master's Degree</td>\n",
       "      <td>Asian</td>\n",
       "      <td>10-14</td>\n",
       "    </tr>\n",
       "    <tr>\n",
       "      <th>61984</th>\n",
       "      <td>Software Engineering Manager</td>\n",
       "      <td>Other</td>\n",
       "      <td>250000</td>\n",
       "      <td>White</td>\n",
       "      <td>Female</td>\n",
       "      <td>16-18</td>\n",
       "      <td>CO</td>\n",
       "      <td>Master's Degree</td>\n",
       "      <td>White</td>\n",
       "      <td>0-4</td>\n",
       "    </tr>\n",
       "    <tr>\n",
       "      <th>61987</th>\n",
       "      <td>Software Engineering Manager</td>\n",
       "      <td>Facebook</td>\n",
       "      <td>315000</td>\n",
       "      <td>Black</td>\n",
       "      <td>Male</td>\n",
       "      <td>22-24</td>\n",
       "      <td>CA</td>\n",
       "      <td>Master's Degree</td>\n",
       "      <td>Minority</td>\n",
       "      <td>0-4</td>\n",
       "    </tr>\n",
       "    <tr>\n",
       "      <th>61991</th>\n",
       "      <td>Product Manager</td>\n",
       "      <td>Facebook</td>\n",
       "      <td>380000</td>\n",
       "      <td>Asian</td>\n",
       "      <td>Male</td>\n",
       "      <td>16-18</td>\n",
       "      <td>CA</td>\n",
       "      <td>Master's Degree</td>\n",
       "      <td>Asian</td>\n",
       "      <td>0-4</td>\n",
       "    </tr>\n",
       "  </tbody>\n",
       "</table>\n",
       "<p>16960 rows × 10 columns</p>\n",
       "</div>"
      ],
      "text/plain": [
       "                              title company_group  basesalary         Race  \\\n",
       "15710             Software Engineer        Google      210000        Asian   \n",
       "23532             Software Engineer     Microsoft      124000  Two Or More   \n",
       "23533             Software Engineer        Google      177000        Asian   \n",
       "23534             Software Engineer     Microsoft      164000        Asian   \n",
       "23535             Software Engineer         Other      165000        White   \n",
       "...                             ...           ...         ...          ...   \n",
       "61981  Software Engineering Manager      Facebook      290000        Asian   \n",
       "61982               Product Manager        Google      450000        Asian   \n",
       "61984  Software Engineering Manager         Other      250000        White   \n",
       "61987  Software Engineering Manager      Facebook      315000        Black   \n",
       "61991               Product Manager      Facebook      380000        Asian   \n",
       "\n",
       "       gender experience_years state_group    education_level Race_Group  \\\n",
       "15710    Male              4-6          CA                PhD      Asian   \n",
       "23532    Male              2-4          WA  Bachelor's Degree   Minority   \n",
       "23533    Male              6-8          CA  Bachelor's Degree      Asian   \n",
       "23534    Male              4-6          WA    Master's Degree      Asian   \n",
       "23535    Male              4-6          CA  Bachelor's Degree      White   \n",
       "...       ...              ...         ...                ...        ...   \n",
       "61981    Male             8-10          CA  Bachelor's Degree      Asian   \n",
       "61982    Male            20-22          CA    Master's Degree      Asian   \n",
       "61984  Female            16-18          CO    Master's Degree      White   \n",
       "61987    Male            22-24          CA    Master's Degree   Minority   \n",
       "61991    Male            16-18          CA    Master's Degree      Asian   \n",
       "\n",
       "      Tenure  \n",
       "15710    5-9  \n",
       "23532    0-4  \n",
       "23533    5-9  \n",
       "23534    0-4  \n",
       "23535    0-4  \n",
       "...      ...  \n",
       "61981    5-9  \n",
       "61982  10-14  \n",
       "61984    0-4  \n",
       "61987    0-4  \n",
       "61991    0-4  \n",
       "\n",
       "[16960 rows x 10 columns]"
      ]
     },
     "execution_count": 32,
     "metadata": {},
     "output_type": "execute_result"
    }
   ],
   "source": [
    "###### TENURE BINS ######\n",
    "\n",
    "data_df['yearsatcompany'] = pd.to_numeric(data_df['yearsatcompany'], errors='coerce')\n",
    "\n",
    "# Define the bin intervals and labels\n",
    "start_value = 0\n",
    "end_value = 20\n",
    "bin_increment = 5\n",
    "\n",
    "# Create the bin edges\n",
    "bin_edges = list(range(start_value, end_value + bin_increment, bin_increment))\n",
    "bin_labels = [f'{value}-{value+bin_increment-1}' for value in bin_edges[:-1]]\n",
    "bin_labels.append('20+')\n",
    "\n",
    "# Create the 'tenure' column using pd.cut\n",
    "data_df['Tenure'] = pd.cut(data_df['yearsatcompany'], bins=bin_edges, labels=bin_labels[:-1], right=False)\n",
    "\n",
    "# Update the categories of the 'tenure' column\n",
    "data_df['Tenure'] = pd.Categorical(data_df['Tenure'], categories=bin_labels)\n",
    "\n",
    "# Assign \"20+\" label to values\n",
    "data_df.loc[data_df['yearsatcompany'] > end_value, 'Tenure'] = '20+'\n",
    "\n",
    "# Drop the original 'yearsatcompany' column if not needed anymore\n",
    "data_df.drop(columns=['yearsatcompany'], inplace=True)\n",
    "\n",
    "data_df\n"
   ]
  },
  {
   "cell_type": "code",
   "execution_count": 33,
   "id": "b45d2328",
   "metadata": {},
   "outputs": [
    {
     "data": {
      "text/html": [
       "<div>\n",
       "<style scoped>\n",
       "    .dataframe tbody tr th:only-of-type {\n",
       "        vertical-align: middle;\n",
       "    }\n",
       "\n",
       "    .dataframe tbody tr th {\n",
       "        vertical-align: top;\n",
       "    }\n",
       "\n",
       "    .dataframe thead th {\n",
       "        text-align: right;\n",
       "    }\n",
       "</style>\n",
       "<table border=\"1\" class=\"dataframe\">\n",
       "  <thead>\n",
       "    <tr style=\"text-align: right;\">\n",
       "      <th></th>\n",
       "      <th>title</th>\n",
       "      <th>company_group</th>\n",
       "      <th>basesalary</th>\n",
       "      <th>Race</th>\n",
       "      <th>gender</th>\n",
       "      <th>experience_years</th>\n",
       "      <th>state_group</th>\n",
       "      <th>education_level</th>\n",
       "      <th>Race_Group</th>\n",
       "      <th>Tenure</th>\n",
       "      <th>Salary_Range</th>\n",
       "    </tr>\n",
       "  </thead>\n",
       "  <tbody>\n",
       "    <tr>\n",
       "      <th>15710</th>\n",
       "      <td>Software Engineer</td>\n",
       "      <td>Google</td>\n",
       "      <td>210000</td>\n",
       "      <td>Asian</td>\n",
       "      <td>Male</td>\n",
       "      <td>4-6</td>\n",
       "      <td>CA</td>\n",
       "      <td>PhD</td>\n",
       "      <td>Asian</td>\n",
       "      <td>5-9</td>\n",
       "      <td>$210000-214999k</td>\n",
       "    </tr>\n",
       "    <tr>\n",
       "      <th>23532</th>\n",
       "      <td>Software Engineer</td>\n",
       "      <td>Microsoft</td>\n",
       "      <td>124000</td>\n",
       "      <td>Two Or More</td>\n",
       "      <td>Male</td>\n",
       "      <td>2-4</td>\n",
       "      <td>WA</td>\n",
       "      <td>Bachelor's Degree</td>\n",
       "      <td>Minority</td>\n",
       "      <td>0-4</td>\n",
       "      <td>$120000-124999k</td>\n",
       "    </tr>\n",
       "    <tr>\n",
       "      <th>23533</th>\n",
       "      <td>Software Engineer</td>\n",
       "      <td>Google</td>\n",
       "      <td>177000</td>\n",
       "      <td>Asian</td>\n",
       "      <td>Male</td>\n",
       "      <td>6-8</td>\n",
       "      <td>CA</td>\n",
       "      <td>Bachelor's Degree</td>\n",
       "      <td>Asian</td>\n",
       "      <td>5-9</td>\n",
       "      <td>$175000-179999k</td>\n",
       "    </tr>\n",
       "    <tr>\n",
       "      <th>23534</th>\n",
       "      <td>Software Engineer</td>\n",
       "      <td>Microsoft</td>\n",
       "      <td>164000</td>\n",
       "      <td>Asian</td>\n",
       "      <td>Male</td>\n",
       "      <td>4-6</td>\n",
       "      <td>WA</td>\n",
       "      <td>Master's Degree</td>\n",
       "      <td>Asian</td>\n",
       "      <td>0-4</td>\n",
       "      <td>$160000-164999k</td>\n",
       "    </tr>\n",
       "    <tr>\n",
       "      <th>23535</th>\n",
       "      <td>Software Engineer</td>\n",
       "      <td>Other</td>\n",
       "      <td>165000</td>\n",
       "      <td>White</td>\n",
       "      <td>Male</td>\n",
       "      <td>4-6</td>\n",
       "      <td>CA</td>\n",
       "      <td>Bachelor's Degree</td>\n",
       "      <td>White</td>\n",
       "      <td>0-4</td>\n",
       "      <td>$165000-169999k</td>\n",
       "    </tr>\n",
       "    <tr>\n",
       "      <th>...</th>\n",
       "      <td>...</td>\n",
       "      <td>...</td>\n",
       "      <td>...</td>\n",
       "      <td>...</td>\n",
       "      <td>...</td>\n",
       "      <td>...</td>\n",
       "      <td>...</td>\n",
       "      <td>...</td>\n",
       "      <td>...</td>\n",
       "      <td>...</td>\n",
       "      <td>...</td>\n",
       "    </tr>\n",
       "    <tr>\n",
       "      <th>61981</th>\n",
       "      <td>Software Engineering Manager</td>\n",
       "      <td>Facebook</td>\n",
       "      <td>290000</td>\n",
       "      <td>Asian</td>\n",
       "      <td>Male</td>\n",
       "      <td>8-10</td>\n",
       "      <td>CA</td>\n",
       "      <td>Bachelor's Degree</td>\n",
       "      <td>Asian</td>\n",
       "      <td>5-9</td>\n",
       "      <td>$290000-294999k</td>\n",
       "    </tr>\n",
       "    <tr>\n",
       "      <th>61982</th>\n",
       "      <td>Product Manager</td>\n",
       "      <td>Google</td>\n",
       "      <td>450000</td>\n",
       "      <td>Asian</td>\n",
       "      <td>Male</td>\n",
       "      <td>20-22</td>\n",
       "      <td>CA</td>\n",
       "      <td>Master's Degree</td>\n",
       "      <td>Asian</td>\n",
       "      <td>10-14</td>\n",
       "      <td>$350000+</td>\n",
       "    </tr>\n",
       "    <tr>\n",
       "      <th>61984</th>\n",
       "      <td>Software Engineering Manager</td>\n",
       "      <td>Other</td>\n",
       "      <td>250000</td>\n",
       "      <td>White</td>\n",
       "      <td>Female</td>\n",
       "      <td>16-18</td>\n",
       "      <td>CO</td>\n",
       "      <td>Master's Degree</td>\n",
       "      <td>White</td>\n",
       "      <td>0-4</td>\n",
       "      <td>$250000-254999k</td>\n",
       "    </tr>\n",
       "    <tr>\n",
       "      <th>61987</th>\n",
       "      <td>Software Engineering Manager</td>\n",
       "      <td>Facebook</td>\n",
       "      <td>315000</td>\n",
       "      <td>Black</td>\n",
       "      <td>Male</td>\n",
       "      <td>22-24</td>\n",
       "      <td>CA</td>\n",
       "      <td>Master's Degree</td>\n",
       "      <td>Minority</td>\n",
       "      <td>0-4</td>\n",
       "      <td>$315000-319999k</td>\n",
       "    </tr>\n",
       "    <tr>\n",
       "      <th>61991</th>\n",
       "      <td>Product Manager</td>\n",
       "      <td>Facebook</td>\n",
       "      <td>380000</td>\n",
       "      <td>Asian</td>\n",
       "      <td>Male</td>\n",
       "      <td>16-18</td>\n",
       "      <td>CA</td>\n",
       "      <td>Master's Degree</td>\n",
       "      <td>Asian</td>\n",
       "      <td>0-4</td>\n",
       "      <td>$350000+</td>\n",
       "    </tr>\n",
       "  </tbody>\n",
       "</table>\n",
       "<p>16960 rows × 11 columns</p>\n",
       "</div>"
      ],
      "text/plain": [
       "                              title company_group  basesalary         Race  \\\n",
       "15710             Software Engineer        Google      210000        Asian   \n",
       "23532             Software Engineer     Microsoft      124000  Two Or More   \n",
       "23533             Software Engineer        Google      177000        Asian   \n",
       "23534             Software Engineer     Microsoft      164000        Asian   \n",
       "23535             Software Engineer         Other      165000        White   \n",
       "...                             ...           ...         ...          ...   \n",
       "61981  Software Engineering Manager      Facebook      290000        Asian   \n",
       "61982               Product Manager        Google      450000        Asian   \n",
       "61984  Software Engineering Manager         Other      250000        White   \n",
       "61987  Software Engineering Manager      Facebook      315000        Black   \n",
       "61991               Product Manager      Facebook      380000        Asian   \n",
       "\n",
       "       gender experience_years state_group    education_level Race_Group  \\\n",
       "15710    Male              4-6          CA                PhD      Asian   \n",
       "23532    Male              2-4          WA  Bachelor's Degree   Minority   \n",
       "23533    Male              6-8          CA  Bachelor's Degree      Asian   \n",
       "23534    Male              4-6          WA    Master's Degree      Asian   \n",
       "23535    Male              4-6          CA  Bachelor's Degree      White   \n",
       "...       ...              ...         ...                ...        ...   \n",
       "61981    Male             8-10          CA  Bachelor's Degree      Asian   \n",
       "61982    Male            20-22          CA    Master's Degree      Asian   \n",
       "61984  Female            16-18          CO    Master's Degree      White   \n",
       "61987    Male            22-24          CA    Master's Degree   Minority   \n",
       "61991    Male            16-18          CA    Master's Degree      Asian   \n",
       "\n",
       "      Tenure     Salary_Range  \n",
       "15710    5-9  $210000-214999k  \n",
       "23532    0-4  $120000-124999k  \n",
       "23533    5-9  $175000-179999k  \n",
       "23534    0-4  $160000-164999k  \n",
       "23535    0-4  $165000-169999k  \n",
       "...      ...              ...  \n",
       "61981    5-9  $290000-294999k  \n",
       "61982  10-14         $350000+  \n",
       "61984    0-4  $250000-254999k  \n",
       "61987    0-4  $315000-319999k  \n",
       "61991    0-4         $350000+  \n",
       "\n",
       "[16960 rows x 11 columns]"
      ]
     },
     "execution_count": 33,
     "metadata": {},
     "output_type": "execute_result"
    }
   ],
   "source": [
    "# # Define the bin intervals and labels\n",
    "# start_value = 10000\n",
    "# end_value = 250000\n",
    "# bin_increment = 10000\n",
    "\n",
    "# # Create the bin edges\n",
    "# bin_edges = list(range(start_value, end_value + bin_increment, bin_increment))\n",
    "# bin_labels = [f'${value}-{value+bin_increment-1}k' for value in bin_edges[:-1]]\n",
    "# bin_labels.append('$250000+')\n",
    "\n",
    "# # Create the 'Pay_Range' column\n",
    "# data_df['Pay_Range'] = pd.cut(data_df['basesalary'], bins=bin_edges, labels=bin_labels[:-1], right=False)\n",
    "\n",
    "# # Update the categories of the 'Pay_Range' column\n",
    "# data_df['Pay_Range'] = pd.Categorical(data_df['Pay_Range'], categories=bin_labels)\n",
    "# data_df.loc[data_df['basesalary'] >= end_value, 'Pay_Range'] = '$250000+'\n",
    "# data_df\n",
    "\n",
    "# Define the bin intervals and labels\n",
    "start_value = 50000\n",
    "end_value = 350000\n",
    "bin_increment = 5000\n",
    "\n",
    "# Create the bin edges\n",
    "bin_edges = list(range(start_value, end_value + bin_increment, bin_increment))\n",
    "bin_labels = [f'${value}-{value+bin_increment-1}k' for value in bin_edges[:-1]]\n",
    "bin_labels.append('$350000+')\n",
    "\n",
    "# Create the 'Salary_Range' column\n",
    "data_df['Salary_Range'] = pd.cut(data_df['basesalary'], bins=bin_edges, labels=bin_labels[:-1], right=False)\n",
    "\n",
    "# Update the categories of the 'Salary_Range' column\n",
    "bin_labels.insert(0, '<$50000')\n",
    "data_df['Salary_Range'] = pd.Categorical(data_df['Salary_Range'], categories=bin_labels)\n",
    "\n",
    "# Assign \"<$60000\" label to values less than $60000\n",
    "data_df.loc[data_df['basesalary'] < start_value, 'Salary_Range'] = '<$50000'\n",
    "data_df.loc[data_df['basesalary'] > end_value, 'Salary_Range'] = '$350000+'\n",
    "\n",
    "data_df\n",
    "\n",
    "\n"
   ]
  },
  {
   "cell_type": "code",
   "execution_count": 97,
   "id": "a4956d77",
   "metadata": {},
   "outputs": [
    {
     "data": {
      "text/html": [
       "<div>\n",
       "<style scoped>\n",
       "    .dataframe tbody tr th:only-of-type {\n",
       "        vertical-align: middle;\n",
       "    }\n",
       "\n",
       "    .dataframe tbody tr th {\n",
       "        vertical-align: top;\n",
       "    }\n",
       "\n",
       "    .dataframe thead th {\n",
       "        text-align: right;\n",
       "    }\n",
       "</style>\n",
       "<table border=\"1\" class=\"dataframe\">\n",
       "  <thead>\n",
       "    <tr style=\"text-align: right;\">\n",
       "      <th></th>\n",
       "      <th>title</th>\n",
       "      <th>company_group</th>\n",
       "      <th>Race_Group</th>\n",
       "      <th>gender</th>\n",
       "      <th>experience_years</th>\n",
       "      <th>state_group</th>\n",
       "      <th>education_level</th>\n",
       "      <th>Salary_Range</th>\n",
       "      <th>Tenure</th>\n",
       "      <th>basesalary</th>\n",
       "    </tr>\n",
       "  </thead>\n",
       "  <tbody>\n",
       "    <tr>\n",
       "      <th>15710</th>\n",
       "      <td>Software Engineer</td>\n",
       "      <td>Google</td>\n",
       "      <td>Asian</td>\n",
       "      <td>Male</td>\n",
       "      <td>4-6</td>\n",
       "      <td>CA</td>\n",
       "      <td>PhD</td>\n",
       "      <td>$210000-214999k</td>\n",
       "      <td>5-9</td>\n",
       "      <td>210000</td>\n",
       "    </tr>\n",
       "    <tr>\n",
       "      <th>23532</th>\n",
       "      <td>Software Engineer</td>\n",
       "      <td>Microsoft</td>\n",
       "      <td>Minority</td>\n",
       "      <td>Male</td>\n",
       "      <td>2-4</td>\n",
       "      <td>WA</td>\n",
       "      <td>Bachelor's Degree</td>\n",
       "      <td>$120000-124999k</td>\n",
       "      <td>0-4</td>\n",
       "      <td>124000</td>\n",
       "    </tr>\n",
       "    <tr>\n",
       "      <th>23533</th>\n",
       "      <td>Software Engineer</td>\n",
       "      <td>Google</td>\n",
       "      <td>Asian</td>\n",
       "      <td>Male</td>\n",
       "      <td>6-8</td>\n",
       "      <td>CA</td>\n",
       "      <td>Bachelor's Degree</td>\n",
       "      <td>$175000-179999k</td>\n",
       "      <td>5-9</td>\n",
       "      <td>177000</td>\n",
       "    </tr>\n",
       "    <tr>\n",
       "      <th>23534</th>\n",
       "      <td>Software Engineer</td>\n",
       "      <td>Microsoft</td>\n",
       "      <td>Asian</td>\n",
       "      <td>Male</td>\n",
       "      <td>4-6</td>\n",
       "      <td>WA</td>\n",
       "      <td>Master's Degree</td>\n",
       "      <td>$160000-164999k</td>\n",
       "      <td>0-4</td>\n",
       "      <td>164000</td>\n",
       "    </tr>\n",
       "    <tr>\n",
       "      <th>23535</th>\n",
       "      <td>Software Engineer</td>\n",
       "      <td>Other</td>\n",
       "      <td>White</td>\n",
       "      <td>Male</td>\n",
       "      <td>4-6</td>\n",
       "      <td>CA</td>\n",
       "      <td>Bachelor's Degree</td>\n",
       "      <td>$165000-169999k</td>\n",
       "      <td>0-4</td>\n",
       "      <td>165000</td>\n",
       "    </tr>\n",
       "    <tr>\n",
       "      <th>...</th>\n",
       "      <td>...</td>\n",
       "      <td>...</td>\n",
       "      <td>...</td>\n",
       "      <td>...</td>\n",
       "      <td>...</td>\n",
       "      <td>...</td>\n",
       "      <td>...</td>\n",
       "      <td>...</td>\n",
       "      <td>...</td>\n",
       "      <td>...</td>\n",
       "    </tr>\n",
       "    <tr>\n",
       "      <th>61981</th>\n",
       "      <td>Software Engineering Manager</td>\n",
       "      <td>Facebook</td>\n",
       "      <td>Asian</td>\n",
       "      <td>Male</td>\n",
       "      <td>8-10</td>\n",
       "      <td>CA</td>\n",
       "      <td>Bachelor's Degree</td>\n",
       "      <td>$290000-294999k</td>\n",
       "      <td>5-9</td>\n",
       "      <td>290000</td>\n",
       "    </tr>\n",
       "    <tr>\n",
       "      <th>61982</th>\n",
       "      <td>Product Manager</td>\n",
       "      <td>Google</td>\n",
       "      <td>Asian</td>\n",
       "      <td>Male</td>\n",
       "      <td>20-22</td>\n",
       "      <td>CA</td>\n",
       "      <td>Master's Degree</td>\n",
       "      <td>$350000+</td>\n",
       "      <td>10-14</td>\n",
       "      <td>450000</td>\n",
       "    </tr>\n",
       "    <tr>\n",
       "      <th>61984</th>\n",
       "      <td>Software Engineering Manager</td>\n",
       "      <td>Other</td>\n",
       "      <td>White</td>\n",
       "      <td>Female</td>\n",
       "      <td>16-18</td>\n",
       "      <td>CO</td>\n",
       "      <td>Master's Degree</td>\n",
       "      <td>$250000-254999k</td>\n",
       "      <td>0-4</td>\n",
       "      <td>250000</td>\n",
       "    </tr>\n",
       "    <tr>\n",
       "      <th>61987</th>\n",
       "      <td>Software Engineering Manager</td>\n",
       "      <td>Facebook</td>\n",
       "      <td>Minority</td>\n",
       "      <td>Male</td>\n",
       "      <td>22-24</td>\n",
       "      <td>CA</td>\n",
       "      <td>Master's Degree</td>\n",
       "      <td>$315000-319999k</td>\n",
       "      <td>0-4</td>\n",
       "      <td>315000</td>\n",
       "    </tr>\n",
       "    <tr>\n",
       "      <th>61991</th>\n",
       "      <td>Product Manager</td>\n",
       "      <td>Facebook</td>\n",
       "      <td>Asian</td>\n",
       "      <td>Male</td>\n",
       "      <td>16-18</td>\n",
       "      <td>CA</td>\n",
       "      <td>Master's Degree</td>\n",
       "      <td>$350000+</td>\n",
       "      <td>0-4</td>\n",
       "      <td>380000</td>\n",
       "    </tr>\n",
       "  </tbody>\n",
       "</table>\n",
       "<p>16960 rows × 10 columns</p>\n",
       "</div>"
      ],
      "text/plain": [
       "                              title company_group Race_Group  gender  \\\n",
       "15710             Software Engineer        Google      Asian    Male   \n",
       "23532             Software Engineer     Microsoft   Minority    Male   \n",
       "23533             Software Engineer        Google      Asian    Male   \n",
       "23534             Software Engineer     Microsoft      Asian    Male   \n",
       "23535             Software Engineer         Other      White    Male   \n",
       "...                             ...           ...        ...     ...   \n",
       "61981  Software Engineering Manager      Facebook      Asian    Male   \n",
       "61982               Product Manager        Google      Asian    Male   \n",
       "61984  Software Engineering Manager         Other      White  Female   \n",
       "61987  Software Engineering Manager      Facebook   Minority    Male   \n",
       "61991               Product Manager      Facebook      Asian    Male   \n",
       "\n",
       "      experience_years state_group    education_level     Salary_Range Tenure  \\\n",
       "15710              4-6          CA                PhD  $210000-214999k    5-9   \n",
       "23532              2-4          WA  Bachelor's Degree  $120000-124999k    0-4   \n",
       "23533              6-8          CA  Bachelor's Degree  $175000-179999k    5-9   \n",
       "23534              4-6          WA    Master's Degree  $160000-164999k    0-4   \n",
       "23535              4-6          CA  Bachelor's Degree  $165000-169999k    0-4   \n",
       "...                ...         ...                ...              ...    ...   \n",
       "61981             8-10          CA  Bachelor's Degree  $290000-294999k    5-9   \n",
       "61982            20-22          CA    Master's Degree         $350000+  10-14   \n",
       "61984            16-18          CO    Master's Degree  $250000-254999k    0-4   \n",
       "61987            22-24          CA    Master's Degree  $315000-319999k    0-4   \n",
       "61991            16-18          CA    Master's Degree         $350000+    0-4   \n",
       "\n",
       "       basesalary  \n",
       "15710      210000  \n",
       "23532      124000  \n",
       "23533      177000  \n",
       "23534      164000  \n",
       "23535      165000  \n",
       "...           ...  \n",
       "61981      290000  \n",
       "61982      450000  \n",
       "61984      250000  \n",
       "61987      315000  \n",
       "61991      380000  \n",
       "\n",
       "[16960 rows x 10 columns]"
      ]
     },
     "execution_count": 97,
     "metadata": {},
     "output_type": "execute_result"
    }
   ],
   "source": [
    "new_df = data_df[['title', 'company_group', 'Race_Group', 'gender', 'experience_years', 'state_group', 'education_level', 'Salary_Range', 'Tenure', 'basesalary']].copy()\n",
    "new_df"
   ]
  },
  {
   "cell_type": "code",
   "execution_count": 98,
   "id": "55824e7d",
   "metadata": {},
   "outputs": [
    {
     "data": {
      "text/plain": [
       "$160000-164999k    1072\n",
       "$150000-154999k     992\n",
       "$140000-144999k     933\n",
       "$130000-134999k     913\n",
       "$120000-124999k     801\n",
       "                   ... \n",
       "$345000-349999k       3\n",
       "$320000-324999k       2\n",
       "$325000-329999k       2\n",
       "$330000-334999k       1\n",
       "$335000-339999k       0\n",
       "Name: Salary_Range, Length: 62, dtype: int64"
      ]
     },
     "execution_count": 98,
     "metadata": {},
     "output_type": "execute_result"
    }
   ],
   "source": [
    "\n",
    "new_df['Salary_Range'].value_counts()"
   ]
  },
  {
   "cell_type": "code",
   "execution_count": 99,
   "id": "a9335c22",
   "metadata": {
    "scrolled": true
   },
   "outputs": [
    {
     "name": "stdout",
     "output_type": "stream",
     "text": [
      "<class 'pandas.core.frame.DataFrame'>\n",
      "Int64Index: 16950 entries, 15710 to 61991\n",
      "Data columns (total 10 columns):\n",
      " #   Column            Non-Null Count  Dtype   \n",
      "---  ------            --------------  -----   \n",
      " 0   title             16950 non-null  object  \n",
      " 1   company_group     16950 non-null  object  \n",
      " 2   Race_Group        16950 non-null  object  \n",
      " 3   gender            16950 non-null  object  \n",
      " 4   experience_years  16950 non-null  category\n",
      " 5   state_group       16950 non-null  object  \n",
      " 6   education_level   16950 non-null  object  \n",
      " 7   Salary_Range      16950 non-null  category\n",
      " 8   Tenure            16897 non-null  category\n",
      " 9   basesalary        16950 non-null  int64   \n",
      "dtypes: category(3), int64(1), object(6)\n",
      "memory usage: 1.1+ MB\n"
     ]
    }
   ],
   "source": [
    "new_df = new_df.dropna(subset=['Salary_Range'])\n",
    "new_df.info()\n"
   ]
  },
  {
   "cell_type": "code",
   "execution_count": 100,
   "id": "41165c92",
   "metadata": {},
   "outputs": [
    {
     "name": "stdout",
     "output_type": "stream",
     "text": [
      "<class 'pandas.core.frame.DataFrame'>\n",
      "Int64Index: 16897 entries, 15710 to 61991\n",
      "Data columns (total 10 columns):\n",
      " #   Column            Non-Null Count  Dtype   \n",
      "---  ------            --------------  -----   \n",
      " 0   title             16897 non-null  object  \n",
      " 1   company_group     16897 non-null  object  \n",
      " 2   Race_Group        16897 non-null  object  \n",
      " 3   gender            16897 non-null  object  \n",
      " 4   experience_years  16897 non-null  category\n",
      " 5   state_group       16897 non-null  object  \n",
      " 6   education_level   16897 non-null  object  \n",
      " 7   Salary_Range      16897 non-null  category\n",
      " 8   Tenure            16897 non-null  category\n",
      " 9   basesalary        16897 non-null  int64   \n",
      "dtypes: category(3), int64(1), object(6)\n",
      "memory usage: 1.1+ MB\n"
     ]
    }
   ],
   "source": [
    "######### TENURE \n",
    "\n",
    "\n",
    "\n",
    "new_df = new_df.dropna(subset=['Tenure'])\n",
    "new_df.info()\n",
    "\n"
   ]
  },
  {
   "cell_type": "code",
   "execution_count": 101,
   "id": "6f5380ec",
   "metadata": {},
   "outputs": [
    {
     "name": "stdout",
     "output_type": "stream",
     "text": [
      "Unique values for title: ['Software Engineer' 'Software Engineering Manager' 'Hardware Engineer'\n",
      " 'Product Designer' 'Management Consultant' 'Product Manager'\n",
      " 'Solution Architect' 'Sales' 'Technical Program Manager' 'Data Scientist'\n",
      " 'Recruiter' 'Mechanical Engineer' 'Business Analyst' 'Human Resources'\n",
      " 'Marketing']\n",
      "Unique values for company_group: ['Google' 'Microsoft' 'Other' 'Amazon' 'Facebook' 'Apple']\n",
      "Unique values for Race_Group: ['Asian' 'Minority' 'White']\n",
      "Unique values for gender: ['Male' 'Female' 'Other']\n",
      "Unique values for experience_years: ['4-6', '2-4', '6-8', '14-16', '18-20', ..., '36-38', '34-36', '38-40', '32-34', '40-42']\n",
      "Length: 21\n",
      "Categories (22, object): ['0-2' < '2-4' < '4-6' < '6-8' ... '36-38' < '38-40' < '40-42' < '42-44']\n",
      "Unique values for state_group: [' CA' ' WA' ' TX' ' AZ' ' NY' ' IL' ' MA' ' NC' ' VA' ' CO' ' FL' ' WI'\n",
      " ' DC' ' OR' ' MN' ' MO' ' PA' ' UT' ' NJ' ' MI' 'Other' ' GA' ' OH']\n",
      "Unique values for education_level: ['PhD' \"Bachelor's Degree\" \"Master's Degree\" 'No Degree']\n",
      "Unique values for Salary_Range: ['$210000-214999k', '$120000-124999k', '$175000-179999k', '$160000-164999k', '$165000-169999k', ..., '$255000-259999k', '$305000-309999k', '$320000-324999k', '$295000-299999k', '$315000-319999k']\n",
      "Length: 61\n",
      "Categories (62, object): ['<$50000' < '$50000-54999k' < '$55000-59999k' < '$60000-64999k' ... '$335000-339999k' < '$340000-344999k' < '$345000-349999k' < '$350000+']\n",
      "Unique values for Tenure: ['5-9', '0-4', '15-19', '10-14', '20+']\n",
      "Categories (5, object): ['0-4' < '5-9' < '10-14' < '15-19' < '20+']\n",
      "Unique values for basesalary: [210000 124000 177000 164000 165000 160000 103000 140000 150000 112000\n",
      " 114000 167000 155000 187000 110000 153000 130000 111000 215000 201000\n",
      " 180000 170000 250000 126000 246000 220000 135000 120000  90000 127000\n",
      " 185000 198000 163000 191000 107000 142000  86000 134000 192000  95000\n",
      " 117000 183000 194000 137000 147000 145000 123000 159000 171000  73000\n",
      " 178000 228000 148000 280000 144000 129000  55000  83000 270000 121000\n",
      "  85000 175000 152000 115000  84000 200000 119000 225000 207000 128000\n",
      " 151000 143000 182000 195000 122000 100000 162000 174000 156000  89000\n",
      " 190000  68000 108000 500000 125000  80000 650000 146000 275000 118000\n",
      " 181000 154000  92000  70000 179000  40000 166000 184000  75000 186000\n",
      " 133000 105000 136000  71000 149000 158000 109000  93000  87000 131000\n",
      " 132000 169000 234000 189000 227000 231000 141000 260000 101000 139000\n",
      "  64000 172000  98000  65000 205000 203000  67000 168000 188000  78000\n",
      " 157000  69000 138000 116000  88000 235000 230000 214000 240000 204000\n",
      "  77000 219000 176000 193000  48000 206000  45000 104000 113000 300000\n",
      " 216000 286000 173000  54000 208000 102000  13000 245000  97000 196000\n",
      "  59000  96000  82000  57000 106000 202000  60000 212000 261000 325000\n",
      " 197000 400000 420000  79000  76000 242000 450000  99000 285000 237000\n",
      " 265000  66000 221000 290000  42000 232000 213000 345000 211000 209000\n",
      "  52000  91000  74000 340000  50000 161000 224000  30000 249000 223000\n",
      "  94000 217000  58000 222000 239000 238000 226000 252000  72000 550000\n",
      " 267000 700000 430000 236000 233000 229000 218000 600000 465000  81000\n",
      " 241000 247000 312000  41000 334000 347000 199000 255000 485000  61000\n",
      " 248000 268000 305000 320000 680000  28000 276000  53000 360000 306000\n",
      " 480000 295000 441000 800000 279000 283000 278000 435000  21000 315000\n",
      " 262000  63000 525000 760000 282000 256000 258000 296000 253000 307000\n",
      "  38000 630000 243000  10000  18000 900000 277000 310000 244000 540000\n",
      " 269000 281000 446000 385000 390000 489000 292000  56000 287000 274000\n",
      " 475000 608000 493000 356000  36000 683000 271000 565000 264000 893000\n",
      " 263000 259000 294000 861000 504000 291000 490000 374000 380000 341000\n",
      " 254000 266000 425000 605000 288000]\n"
     ]
    }
   ],
   "source": [
    "for column in new_df.columns:\n",
    "    unique_values = new_df[column].unique()\n",
    "    print(f\"Unique values for {column}: {unique_values}\")"
   ]
  },
  {
   "cell_type": "code",
   "execution_count": 125,
   "id": "8629a6d3",
   "metadata": {},
   "outputs": [
    {
     "data": {
      "text/plain": [
       "Male      13443\n",
       "Female     3369\n",
       "Other        85\n",
       "Name: gender, dtype: int64"
      ]
     },
     "execution_count": 125,
     "metadata": {},
     "output_type": "execute_result"
    }
   ],
   "source": []
  },
  {
   "cell_type": "code",
   "execution_count": 180,
   "id": "3de6db75",
   "metadata": {},
   "outputs": [
    {
     "name": "stdout",
     "output_type": "stream",
     "text": [
      "Software Engineer               10352\n",
      "Product Manager                  5260\n",
      "Data Scientist                   3096\n",
      "Technical Program Manager        2456\n",
      "Product Designer                 2276\n",
      "Management Consultant            1582\n",
      "Business Analyst                 1576\n",
      "Marketing                        1385\n",
      "Solution Architect               1327\n",
      "Mechanical Engineer               996\n",
      "Software Engineering Manager      792\n",
      "Recruiter                         769\n",
      "Sales                             661\n",
      "Hardware Engineer                 653\n",
      "Human Resources                   613\n",
      "Name: title, dtype: int64\n"
     ]
    }
   ],
   "source": [
    "from sklearn.utils import resample\n",
    "\n",
    "# List of titles to oversample\n",
    "titles_to_oversample = ['Product Designer', 'Management Consultant', 'Product Manager',\n",
    "                        'Solution Architect', 'Sales', 'Technical Program Manager',\n",
    "                        'Data Scientist', 'Recruiter', 'Mechanical Engineer',\n",
    "                        'Business Analyst', 'Human Resources', 'Marketing']\n",
    "\n",
    "# Filter the rows with the specified titles\n",
    "oversample_df = new_df[new_df['title'].isin(titles_to_oversample)]\n",
    "\n",
    "# Oversample the filtered DataFrame\n",
    "oversampled_df = resample(oversample_df, replace=True, n_samples=len(new_df), random_state=42)\n",
    "\n",
    "# Concatenate the oversampled DataFrame with the original DataFrame\n",
    "new_oversampled_df = pd.concat([new_df, oversampled_df], ignore_index=True)\n",
    "\n",
    "# Verify the counts of unique values in the 'title' column\n",
    "print(new_oversampled_df['title'].value_counts())\n"
   ]
  },
  {
   "cell_type": "code",
   "execution_count": 181,
   "id": "3160c64f",
   "metadata": {},
   "outputs": [
    {
     "data": {
      "text/plain": [
       "Index(['title', 'company_group', 'Race_Group', 'gender', 'experience_years',\n",
       "       'state_group', 'education_level', 'Salary_Range', 'Tenure',\n",
       "       'basesalary'],\n",
       "      dtype='object')"
      ]
     },
     "execution_count": 181,
     "metadata": {},
     "output_type": "execute_result"
    }
   ],
   "source": [
    "new_oversampled_df.columns"
   ]
  },
  {
   "cell_type": "code",
   "execution_count": 182,
   "id": "142928b9",
   "metadata": {},
   "outputs": [
    {
     "data": {
      "text/plain": [
       "Asian       8654\n",
       "White       6102\n",
       "Minority    2141\n",
       "Name: Race_Group, dtype: int64"
      ]
     },
     "execution_count": 182,
     "metadata": {},
     "output_type": "execute_result"
    }
   ],
   "source": [
    "new_df['Race_Group'].value_counts()"
   ]
  },
  {
   "cell_type": "code",
   "execution_count": 183,
   "id": "2c73a777",
   "metadata": {},
   "outputs": [
    {
     "data": {
      "text/plain": [
       "Asian       15899\n",
       "White       13177\n",
       "Minority     4718\n",
       "Name: Race_Group, dtype: int64"
      ]
     },
     "execution_count": 183,
     "metadata": {},
     "output_type": "execute_result"
    }
   ],
   "source": [
    "new_oversampled_df['Race_Group'].value_counts()"
   ]
  },
  {
   "cell_type": "code",
   "execution_count": 184,
   "id": "24edb346",
   "metadata": {},
   "outputs": [
    {
     "data": {
      "text/plain": [
       "Male      13443\n",
       "Female     3369\n",
       "Other        85\n",
       "Name: gender, dtype: int64"
      ]
     },
     "execution_count": 184,
     "metadata": {},
     "output_type": "execute_result"
    }
   ],
   "source": [
    "new_df['gender'].value_counts()"
   ]
  },
  {
   "cell_type": "code",
   "execution_count": 185,
   "id": "5778df84",
   "metadata": {},
   "outputs": [
    {
     "data": {
      "text/plain": [
       "Male      24778\n",
       "Female     8859\n",
       "Other       157\n",
       "Name: gender, dtype: int64"
      ]
     },
     "execution_count": 185,
     "metadata": {},
     "output_type": "execute_result"
    }
   ],
   "source": [
    "new_oversampled_df['gender'].value_counts()"
   ]
  },
  {
   "cell_type": "code",
   "execution_count": 186,
   "id": "d9eddee0",
   "metadata": {},
   "outputs": [],
   "source": [
    "# new_oversampled_df.to_csv('new_oversampled_df.csv', index=False)"
   ]
  },
  {
   "cell_type": "code",
   "execution_count": 187,
   "id": "d9625f29",
   "metadata": {},
   "outputs": [],
   "source": [
    "# from sklearn.utils import resample\n",
    "\n",
    "# # List of titles to oversample\n",
    "# gender_oversample = ['Product Designer', 'Management Consultant']\n",
    "\n",
    "# # Filter the rows with the specified titles\n",
    "# oversample_df = new_df[new_df['title'].isin(titles_to_oversample)]\n",
    "\n",
    "# # Oversample the filtered DataFrame\n",
    "# oversampled_df = resample(oversample_df, replace=True, n_samples=len(new_df), random_state=42)\n",
    "\n",
    "# # Concatenate the oversampled DataFrame with the original DataFrame\n",
    "# new_oversampled_df = pd.concat([new_df, oversampled_df], ignore_index=True)\n",
    "\n",
    "# # Verify the counts of unique values in the 'title' column\n",
    "# print(new_oversampled_df['title'].value_counts())\n",
    "\n"
   ]
  },
  {
   "cell_type": "code",
   "execution_count": 188,
   "id": "c89ae92e",
   "metadata": {},
   "outputs": [
    {
     "data": {
      "text/plain": [
       "Male      24778\n",
       "Female     8859\n",
       "Other       157\n",
       "Name: gender, dtype: int64"
      ]
     },
     "execution_count": 188,
     "metadata": {},
     "output_type": "execute_result"
    }
   ],
   "source": [
    "new_oversampled_df['gender'].value_counts()"
   ]
  },
  {
   "cell_type": "code",
   "execution_count": null,
   "id": "2bb2949f",
   "metadata": {},
   "outputs": [],
   "source": []
  },
  {
   "cell_type": "code",
   "execution_count": null,
   "id": "2ce18d94",
   "metadata": {},
   "outputs": [],
   "source": []
  },
  {
   "cell_type": "code",
   "execution_count": null,
   "id": "34907838",
   "metadata": {},
   "outputs": [],
   "source": []
  },
  {
   "cell_type": "code",
   "execution_count": 189,
   "id": "5356ac59",
   "metadata": {},
   "outputs": [],
   "source": [
    "X = new_oversampled_df.drop(columns=['Salary_Range', 'basesalary'])\n",
    "y = new_oversampled_df['Salary_Range']\n"
   ]
  },
  {
   "cell_type": "code",
   "execution_count": 190,
   "id": "8a75aee9",
   "metadata": {},
   "outputs": [],
   "source": [
    "X_encoded = pd.get_dummies(X)"
   ]
  },
  {
   "cell_type": "code",
   "execution_count": 191,
   "id": "407bfc8e",
   "metadata": {},
   "outputs": [
    {
     "name": "stdout",
     "output_type": "stream",
     "text": [
      "Index(['title_Business Analyst', 'title_Data Scientist',\n",
      "       'title_Hardware Engineer', 'title_Human Resources',\n",
      "       'title_Management Consultant', 'title_Marketing',\n",
      "       'title_Mechanical Engineer', 'title_Product Designer',\n",
      "       'title_Product Manager', 'title_Recruiter', 'title_Sales',\n",
      "       'title_Software Engineer', 'title_Software Engineering Manager',\n",
      "       'title_Solution Architect', 'title_Technical Program Manager',\n",
      "       'company_group_Amazon', 'company_group_Apple', 'company_group_Facebook',\n",
      "       'company_group_Google', 'company_group_Microsoft',\n",
      "       'company_group_Other', 'Race_Group_Asian', 'Race_Group_Minority',\n",
      "       'Race_Group_White', 'gender_Female', 'gender_Male', 'gender_Other',\n",
      "       'experience_years_0-2', 'experience_years_2-4', 'experience_years_4-6',\n",
      "       'experience_years_6-8', 'experience_years_8-10',\n",
      "       'experience_years_10-12', 'experience_years_12-14',\n",
      "       'experience_years_14-16', 'experience_years_16-18',\n",
      "       'experience_years_18-20', 'experience_years_20-22',\n",
      "       'experience_years_22-24', 'experience_years_24-26',\n",
      "       'experience_years_26-28', 'experience_years_28-30',\n",
      "       'experience_years_30-32', 'experience_years_32-34',\n",
      "       'experience_years_34-36', 'experience_years_36-38',\n",
      "       'experience_years_38-40', 'experience_years_40-42',\n",
      "       'experience_years_42-44', 'state_group_ AZ', 'state_group_ CA',\n",
      "       'state_group_ CO', 'state_group_ DC', 'state_group_ FL',\n",
      "       'state_group_ GA', 'state_group_ IL', 'state_group_ MA',\n",
      "       'state_group_ MI', 'state_group_ MN', 'state_group_ MO',\n",
      "       'state_group_ NC', 'state_group_ NJ', 'state_group_ NY',\n",
      "       'state_group_ OH', 'state_group_ OR', 'state_group_ PA',\n",
      "       'state_group_ TX', 'state_group_ UT', 'state_group_ VA',\n",
      "       'state_group_ WA', 'state_group_ WI', 'state_group_Other',\n",
      "       'education_level_Bachelor's Degree', 'education_level_Master's Degree',\n",
      "       'education_level_No Degree', 'education_level_PhD', 'Tenure_0-4',\n",
      "       'Tenure_5-9', 'Tenure_10-14', 'Tenure_15-19', 'Tenure_20+'],\n",
      "      dtype='object')\n"
     ]
    }
   ],
   "source": [
    "print(X_encoded.columns)\n"
   ]
  },
  {
   "cell_type": "code",
   "execution_count": 192,
   "id": "448a334a",
   "metadata": {},
   "outputs": [
    {
     "name": "stdout",
     "output_type": "stream",
     "text": [
      "0    24935\n",
      "1     8859\n",
      "Name: gender_Female, dtype: int64\n"
     ]
    }
   ],
   "source": [
    "print(X_encoded['gender_Female'].value_counts())\n"
   ]
  },
  {
   "cell_type": "code",
   "execution_count": null,
   "id": "aab01917",
   "metadata": {},
   "outputs": [],
   "source": []
  },
  {
   "cell_type": "code",
   "execution_count": null,
   "id": "d9cd00e3",
   "metadata": {},
   "outputs": [],
   "source": []
  },
  {
   "cell_type": "code",
   "execution_count": 193,
   "id": "07e18597",
   "metadata": {},
   "outputs": [
    {
     "name": "stdout",
     "output_type": "stream",
     "text": [
      "Accuracy: 0.5645805592543276\n"
     ]
    }
   ],
   "source": [
    "from sklearn.model_selection import train_test_split\n",
    "from sklearn.tree import DecisionTreeClassifier\n",
    "from sklearn.metrics import accuracy_score\n",
    "\n",
    "# Split the data into training and test sets\n",
    "X_train, X_test, y_train, y_test = train_test_split(X_encoded, y, test_size=0.2, random_state=42)\n",
    "\n",
    "# Initialize the Decision Tree classifier\n",
    "model = DecisionTreeClassifier()\n",
    "\n",
    "# Fit the model on the training data\n",
    "model.fit(X_train, y_train)\n",
    "\n",
    "# Predict the target variable for the test set\n",
    "y_pred = model.predict(X_test)\n",
    "\n",
    "# Calculate accuracy score\n",
    "accuracy = accuracy_score(y_test, y_pred)\n",
    "print(\"Accuracy:\", accuracy)"
   ]
  },
  {
   "cell_type": "code",
   "execution_count": null,
   "id": "01ac83a1",
   "metadata": {},
   "outputs": [],
   "source": []
  },
  {
   "cell_type": "code",
   "execution_count": 194,
   "id": "fbac3d73",
   "metadata": {},
   "outputs": [
    {
     "name": "stdout",
     "output_type": "stream",
     "text": [
      "Accuracy: 0.715186127714979\n"
     ]
    }
   ],
   "source": [
    "### Random Forrest ###\n",
    "\n",
    "from sklearn.ensemble import RandomForestClassifier\n",
    "model = RandomForestClassifier(random_state=42)\n",
    "model.fit(X_encoded, y)\n",
    "y_pred = model.predict(X_encoded)\n",
    "from sklearn.metrics import accuracy_score\n",
    "\n",
    "accuracy = accuracy_score(y, y_pred)\n",
    "print('Accuracy:', accuracy)\n"
   ]
  },
  {
   "cell_type": "code",
   "execution_count": null,
   "id": "07c40483",
   "metadata": {},
   "outputs": [],
   "source": []
  },
  {
   "cell_type": "code",
   "execution_count": 195,
   "id": "3dceaff0",
   "metadata": {},
   "outputs": [],
   "source": [
    "### OVERSAMPLE ###\n",
    "\n",
    "# from imblearn.over_sampling import KNeighborsSMOTE\n",
    "\n",
    "# smote = KNeighborsSMOTE(n_neighbors=3)  # Adjust the value of n_neighbors as needed\n",
    "# X_oversampled, y_oversampled = smote.fit_resample(X_encoded, y)\n",
    "\n",
    "from imblearn.over_sampling import RandomOverSampler\n",
    "\n",
    "ros = RandomOverSampler()\n",
    "X_oversampled, y_oversampled = ros.fit_resample(X_encoded, y)\n"
   ]
  },
  {
   "cell_type": "code",
   "execution_count": 196,
   "id": "bfb101f3",
   "metadata": {},
   "outputs": [
    {
     "name": "stdout",
     "output_type": "stream",
     "text": [
      "Accuracy: 0.8098853424233033\n"
     ]
    }
   ],
   "source": [
    "X_train, X_test, y_train, y_test = train_test_split(X_oversampled, y_oversampled, test_size=0.15, random_state=42)\n",
    "clf = DecisionTreeClassifier()\n",
    "clf.fit(X_train, y_train)\n",
    "y_pred = clf.predict(X_test)\n",
    "accuracy = accuracy_score(y_test, y_pred)\n",
    "print(f\"Accuracy: {accuracy}\")\n"
   ]
  },
  {
   "cell_type": "code",
   "execution_count": null,
   "id": "df923918",
   "metadata": {},
   "outputs": [],
   "source": []
  },
  {
   "cell_type": "code",
   "execution_count": 197,
   "id": "5602b1fb",
   "metadata": {},
   "outputs": [
    {
     "name": "stdout",
     "output_type": "stream",
     "text": [
      "Accuracy: 0.8097820473091623\n"
     ]
    }
   ],
   "source": [
    "### Random Forrest OVERSAMPLED ###\n",
    "\n",
    "X_train, X_test, y_train, y_test = train_test_split(X_oversampled, y_oversampled, test_size=0.15, random_state=42)\n",
    "clf = RandomForestClassifier()\n",
    "clf.fit(X_train, y_train)\n",
    "y_pred = clf.predict(X_test)\n",
    "accuracy = accuracy_score(y_test, y_pred)\n",
    "print(f\"Accuracy: {accuracy}\")\n",
    "\n",
    "\n"
   ]
  },
  {
   "cell_type": "code",
   "execution_count": 198,
   "id": "b19b02ca",
   "metadata": {},
   "outputs": [
    {
     "name": "stdout",
     "output_type": "stream",
     "text": [
      "Accuracy: 0.8100919326515856\n"
     ]
    }
   ],
   "source": [
    "# Random Forrest OVERSAMPLED\n",
    "from sklearn.model_selection import train_test_split\n",
    "from sklearn.ensemble import RandomForestClassifier\n",
    "from sklearn.metrics import accuracy_score\n",
    "\n",
    "X_train, X_test, y_train, y_test = train_test_split(X_oversampled, y_oversampled, test_size=0.15, random_state=42)\n",
    "clf = RandomForestClassifier(n_estimators=500)\n",
    "clf.fit(X_train, y_train)\n",
    "y_pred = clf.predict(X_test)\n",
    "accuracy = accuracy_score(y_test, y_pred)\n",
    "print(f\"Accuracy: {accuracy}\")\n"
   ]
  },
  {
   "cell_type": "code",
   "execution_count": 199,
   "id": "26e0d3eb",
   "metadata": {},
   "outputs": [
    {
     "data": {
      "text/plain": [
       "['salary_predictor_model.pkl']"
      ]
     },
     "execution_count": 199,
     "metadata": {},
     "output_type": "execute_result"
    }
   ],
   "source": [
    "import joblib\n",
    "\n",
    "joblib.dump(clf, 'salary_predictor_model.pkl')\n",
    "\n"
   ]
  },
  {
   "cell_type": "code",
   "execution_count": 200,
   "id": "cc65fb33",
   "metadata": {},
   "outputs": [
    {
     "data": {
      "image/png": "[encoded data removed]",
      "text/plain": [
       "<Figure size 1000x600 with 1 Axes>"
      ]
     },
     "metadata": {},
     "output_type": "display_data"
    },
    {
     "name": "stdout",
     "output_type": "stream",
     "text": [
      "                    Feature  Importance\n",
      "23         Race_Group_White    0.036140\n",
      "21         Race_Group_Asian    0.035025\n",
      "20      company_group_Other    0.031674\n",
      "11  title_Software Engineer    0.030084\n",
      "8     title_Product Manager    0.028301\n",
      "..                      ...         ...\n",
      "43   experience_years_32-34    0.001856\n",
      "70          state_group_ WI    0.000827\n",
      "47   experience_years_40-42    0.000324\n",
      "45   experience_years_36-38    0.000035\n",
      "48   experience_years_42-44    0.000000\n",
      "\n",
      "[81 rows x 2 columns]\n"
     ]
    }
   ],
   "source": [
    "import pandas as pd\n",
    "import matplotlib.pyplot as plt\n",
    "from sklearn.ensemble import RandomForestClassifier\n",
    "\n",
    "# Assuming 'X' is your input features and 'y' is your target variable\n",
    "\n",
    "# Train the Random Forest model\n",
    "clf = RandomForestClassifier(random_state=42)\n",
    "clf.fit(X_oversampled, y_oversampled)\n",
    "\n",
    "# Get the feature importances\n",
    "feature_importances = clf.feature_importances_\n",
    "\n",
    "# Create a DataFrame to store feature importances and their corresponding feature names\n",
    "importance_df = pd.DataFrame({'Feature': X_oversampled.columns, 'Importance': feature_importances})\n",
    "\n",
    "# Sort the DataFrame by importance in descending order\n",
    "importance_df = importance_df.sort_values(by='Importance', ascending=False)\n",
    "\n",
    "# Plot the feature importances\n",
    "plt.figure(figsize=(10, 6))\n",
    "plt.bar(importance_df['Feature'], importance_df['Importance'])\n",
    "plt.xticks(rotation=90)\n",
    "plt.xlabel('Features')\n",
    "plt.ylabel('Importance')\n",
    "plt.title('Feature Importances')\n",
    "plt.show()\n",
    "\n",
    "# Print the feature importances in descending order\n",
    "print(importance_df)\n"
   ]
  },
  {
   "cell_type": "code",
   "execution_count": null,
   "id": "b8ed792e",
   "metadata": {},
   "outputs": [],
   "source": []
  },
  {
   "cell_type": "code",
   "execution_count": 208,
   "id": "5343a4e8",
   "metadata": {},
   "outputs": [
    {
     "name": "stdout",
     "output_type": "stream",
     "text": [
      "Features (X):\n",
      "               title company_group Race_Group gender experience_years  \\\n",
      "0  Software Engineer        Google      Asian   Male              4-6   \n",
      "1  Software Engineer     Microsoft   Minority   Male              2-4   \n",
      "2  Software Engineer        Google      Asian   Male              6-8   \n",
      "3  Software Engineer     Microsoft      Asian   Male              4-6   \n",
      "4  Software Engineer         Other      White   Male              4-6   \n",
      "\n",
      "  state_group    education_level  \n",
      "0          CA                PhD  \n",
      "1          WA  Bachelor's Degree  \n",
      "2          CA  Bachelor's Degree  \n",
      "3          WA    Master's Degree  \n",
      "4          CA  Bachelor's Degree  \n",
      "\n",
      "Target Variable (y):\n",
      "0    210000\n",
      "1    124000\n",
      "2    177000\n",
      "3    164000\n",
      "4    165000\n",
      "Name: basesalary, dtype: int64\n",
      "   title_Data Scientist  title_Hardware Engineer  title_Human Resources  \\\n",
      "0                     0                        0                      0   \n",
      "1                     0                        0                      0   \n",
      "2                     0                        0                      0   \n",
      "3                     0                        0                      0   \n",
      "4                     0                        0                      0   \n",
      "\n",
      "   title_Management Consultant  title_Marketing  title_Mechanical Engineer  \\\n",
      "0                            0                0                          0   \n",
      "1                            0                0                          0   \n",
      "2                            0                0                          0   \n",
      "3                            0                0                          0   \n",
      "4                            0                0                          0   \n",
      "\n",
      "   title_Product Designer  title_Product Manager  title_Recruiter  \\\n",
      "0                       0                      0                0   \n",
      "1                       0                      0                0   \n",
      "2                       0                      0                0   \n",
      "3                       0                      0                0   \n",
      "4                       0                      0                0   \n",
      "\n",
      "   title_Sales  ...  state_group_ PA  state_group_ TX  state_group_ UT  \\\n",
      "0            0  ...                0                0                0   \n",
      "1            0  ...                0                0                0   \n",
      "2            0  ...                0                0                0   \n",
      "3            0  ...                0                0                0   \n",
      "4            0  ...                0                0                0   \n",
      "\n",
      "   state_group_ VA  state_group_ WA  state_group_ WI  state_group_Other  \\\n",
      "0                0                0                0                  0   \n",
      "1                0                1                0                  0   \n",
      "2                0                0                0                  0   \n",
      "3                0                1                0                  0   \n",
      "4                0                0                0                  0   \n",
      "\n",
      "   education_level_Master's Degree  education_level_No Degree  \\\n",
      "0                                0                          0   \n",
      "1                                0                          0   \n",
      "2                                0                          0   \n",
      "3                                1                          0   \n",
      "4                                0                          0   \n",
      "\n",
      "   education_level_PhD  \n",
      "0                    1  \n",
      "1                    0  \n",
      "2                    0  \n",
      "3                    0  \n",
      "4                    0  \n",
      "\n",
      "[5 rows x 69 columns]\n"
     ]
    }
   ],
   "source": [
    "#### LINEAR REGRESSION ##### \n",
    "\n",
    "# Drop the erroneous row\n",
    "new_oversampled_df = new_oversampled_df.drop(11010)\n",
    "\n",
    "# Select the desired features and target variable\n",
    "selected_features = ['title', 'company_group', 'Race_Group', 'gender', 'experience_years',\n",
    "                     'state_group', 'education_level']\n",
    "target_variable = 'basesalary'\n",
    "\n",
    "# Extract the selected features and target variable\n",
    "X = new_oversampled_df[selected_features]\n",
    "y = new_oversampled_df[target_variable]\n",
    "\n",
    "# Display the first few rows of X and y to verify the separation\n",
    "print(\"Features (X):\")\n",
    "print(X.head())\n",
    "\n",
    "print(\"\\nTarget Variable (y):\")\n",
    "print(y.head())\n",
    "\n",
    "categorical_features = ['title', 'company_group', 'Race_Group', 'gender', 'experience_years', 'state_group', 'education_level']\n",
    "\n",
    "# One-hot encode the categorical features\n",
    "X_encoded = pd.get_dummies(X, columns=categorical_features, drop_first=True)\n",
    "\n",
    "# Display the first few rows of the encoded X DataFrame\n",
    "print(X_encoded.head())\n"
   ]
  },
  {
   "cell_type": "code",
   "execution_count": null,
   "id": "839c64c0",
   "metadata": {},
   "outputs": [],
   "source": []
  },
  {
   "cell_type": "code",
   "execution_count": 209,
   "id": "289c67d0",
   "metadata": {},
   "outputs": [
    {
     "name": "stdout",
     "output_type": "stream",
     "text": [
      "Coefficients:\n",
      "title_Data Scientist: 30492.35617652964\n",
      "title_Hardware Engineer: 13401.61891617639\n",
      "title_Human Resources: 2467.462488223726\n",
      "title_Management Consultant: 22658.19421444524\n",
      "title_Marketing: 8037.529152157596\n",
      "title_Mechanical Engineer: 3030.5344949392456\n",
      "title_Product Designer: 22584.30222758576\n",
      "title_Product Manager: 28491.157500856345\n",
      "title_Recruiter: -4890.520917671183\n",
      "title_Sales: -7369.476708781398\n",
      "title_Software Engineer: 30365.202070099967\n",
      "title_Software Engineering Manager: 44148.64734191168\n",
      "title_Solution Architect: 21748.437543273634\n",
      "title_Technical Program Manager: 15967.472139416328\n",
      "company_group_Apple: 14066.811831492714\n",
      "company_group_Facebook: 27496.4250024682\n",
      "company_group_Google: 10900.54678953424\n",
      "company_group_Microsoft: 12995.0896818642\n",
      "company_group_Other: 6142.482646443634\n",
      "Race_Group_Minority: -181.05214342869112\n",
      "Race_Group_White: 2137.2846141503796\n",
      "gender_Male: 4453.32919311801\n",
      "gender_Other: 21157.502888572028\n",
      "experience_years_2-4: 15343.002909005887\n",
      "experience_years_4-6: 29383.565073253318\n",
      "experience_years_6-8: 41922.23883769386\n",
      "experience_years_8-10: 49227.02065925709\n",
      "experience_years_10-12: 57583.25246707935\n",
      "experience_years_12-14: 62297.97231766654\n",
      "experience_years_14-16: 69790.93326580292\n",
      "experience_years_16-18: 72126.2545418553\n",
      "experience_years_18-20: 80559.71928357775\n",
      "experience_years_20-22: 85757.8510450934\n",
      "experience_years_22-24: 104625.11795883442\n",
      "experience_years_24-26: 89748.06814573868\n",
      "experience_years_26-28: 97272.73954211439\n",
      "experience_years_28-30: 108250.05854886222\n",
      "experience_years_30-32: 97132.54362939944\n",
      "experience_years_32-34: 118762.46075653187\n",
      "experience_years_34-36: 74819.81908754357\n",
      "experience_years_36-38: 26537.71869438077\n",
      "experience_years_38-40: 124178.73663323587\n",
      "experience_years_40-42: 52463.87628631717\n",
      "experience_years_42-44: -2.1827872842550278e-11\n",
      "state_group_ CA: 46041.993561683055\n",
      "state_group_ CO: 14348.832838084292\n",
      "state_group_ DC: 20948.35224205073\n",
      "state_group_ FL: 1717.9532367036704\n",
      "state_group_ GA: 8662.488984171474\n",
      "state_group_ IL: 15816.637262540462\n",
      "state_group_ MA: 20284.947995604296\n",
      "state_group_ MI: 5786.434589066858\n",
      "state_group_ MN: 10302.974787393365\n",
      "state_group_ MO: -2672.971038672616\n",
      "state_group_ NC: 13763.925567061035\n",
      "state_group_ NJ: 20243.161918945785\n",
      "state_group_ NY: 37307.85894650471\n",
      "state_group_ OH: -359.0998273389439\n",
      "state_group_ OR: 15456.720274367028\n",
      "state_group_ PA: 7093.869876770439\n",
      "state_group_ TX: 13173.578304771268\n",
      "state_group_ UT: 5906.673824956275\n",
      "state_group_ VA: 20466.641311244286\n",
      "state_group_ WA: 29397.955269172006\n",
      "state_group_ WI: 3495.341704466236\n",
      "state_group_Other: -1495.0210970665955\n",
      "education_level_Master's Degree: 6536.85187938775\n",
      "education_level_No Degree: -2789.1775178790867\n",
      "education_level_PhD: 25750.469904754005\n",
      "Intercept: 37792.91427268353\n"
     ]
    }
   ],
   "source": [
    "from sklearn.linear_model import LinearRegression\n",
    "\n",
    "# Assuming 'X_encoded' is the one-hot encoded DataFrame and 'y' is the target variable\n",
    "\n",
    "# Create a linear regression model\n",
    "linear_reg = LinearRegression()\n",
    "\n",
    "# Fit the model on the data\n",
    "linear_reg.fit(X_encoded, y)\n",
    "\n",
    "# Get the coefficients for each feature\n",
    "coefficients = linear_reg.coef_\n",
    "\n",
    "# Get the y-intercept\n",
    "intercept = linear_reg.intercept_\n",
    "\n",
    "# Print the coefficients and the y-intercept\n",
    "print(\"Coefficients:\")\n",
    "for feature, coef in zip(X_encoded.columns, coefficients):\n",
    "    print(f\"{feature}: {coef}\")\n",
    "\n",
    "print(\"Intercept:\", intercept)\n"
   ]
  },
  {
   "cell_type": "code",
   "execution_count": 210,
   "id": "31840b31",
   "metadata": {},
   "outputs": [
    {
     "name": "stdout",
     "output_type": "stream",
     "text": [
      "R-Squared Score (Train): 0.47589355798859156\n",
      "R-Squared Score (Test): 0.4939088632474672\n"
     ]
    }
   ],
   "source": [
    "from sklearn.model_selection import train_test_split\n",
    "\n",
    "# Assuming 'X_encoded' is the one-hot encoded DataFrame and 'y' is the target variable\n",
    "\n",
    "# Split the dataset into training and testing datasets\n",
    "X_train, X_test, y_train, y_test = train_test_split(X_encoded, y, test_size=0.2, random_state=42)\n",
    "\n",
    "# Create a linear regression model\n",
    "linear_reg = LinearRegression()\n",
    "\n",
    "# Fit the model on the training data\n",
    "linear_reg.fit(X_train, y_train)\n",
    "\n",
    "# Calculate the R-Squared score for the training dataset\n",
    "r_squared_train = linear_reg.score(X_train, y_train)\n",
    "\n",
    "# Calculate the R-Squared score for the testing dataset\n",
    "r_squared_test = linear_reg.score(X_test, y_test)\n",
    "\n",
    "# Print the R-Squared scores\n",
    "print(\"R-Squared Score (Train):\", r_squared_train)\n",
    "print(\"R-Squared Score (Test):\", r_squared_test)\n"
   ]
  },
  {
   "cell_type": "code",
   "execution_count": 213,
   "id": "acc75365",
   "metadata": {},
   "outputs": [
    {
     "name": "stdout",
     "output_type": "stream",
     "text": [
      "gender\n",
      "Female    141078.564172\n",
      "Male      150383.258667\n",
      "Other     165050.955414\n",
      "Name: basesalary, dtype: float64\n"
     ]
    }
   ],
   "source": [
    "# Assuming 'df' is your DataFrame\n",
    "average_base_salary_by_gender = new_oversampled_df.groupby('gender')['basesalary'].mean()\n",
    "\n",
    "# Print the result\n",
    "print(average_base_salary_by_gender)\n"
   ]
  },
  {
   "cell_type": "code",
   "execution_count": null,
   "id": "800ed1ee",
   "metadata": {},
   "outputs": [],
   "source": []
  },
  {
   "cell_type": "code",
   "execution_count": 226,
   "id": "385fc5ac",
   "metadata": {},
   "outputs": [
    {
     "data": {
      "application/vnd.jupyter.widget-view+json": {
       "model_id": "21ec1d3488a7430d9c6dc4299b72801d",
       "version_major": 2,
       "version_minor": 0
      },
      "text/plain": [
       "Dropdown(description='Title:', options=('Software Engineer', 'Software Engineering Manager', 'Hardware Enginee…"
      ]
     },
     "metadata": {},
     "output_type": "display_data"
    },
    {
     "data": {
      "application/vnd.jupyter.widget-view+json": {
       "model_id": "f5789544f5494bb59dea7120cc946d1a",
       "version_major": 2,
       "version_minor": 0
      },
      "text/plain": [
       "Dropdown(description='Company:', options=('Google', 'Microsoft', 'Other', 'Amazon', 'Facebook', 'Apple'), valu…"
      ]
     },
     "metadata": {},
     "output_type": "display_data"
    },
    {
     "data": {
      "application/vnd.jupyter.widget-view+json": {
       "model_id": "31a8087dbec548e6809c7589ee1c62d7",
       "version_major": 2,
       "version_minor": 0
      },
      "text/plain": [
       "Dropdown(description='Race:', options=('Asian', 'Minority', 'White'), value='Asian')"
      ]
     },
     "metadata": {},
     "output_type": "display_data"
    },
    {
     "data": {
      "application/vnd.jupyter.widget-view+json": {
       "model_id": "440e27f1a3554bf49312dc4078272ad8",
       "version_major": 2,
       "version_minor": 0
      },
      "text/plain": [
       "Dropdown(description='Gender:', options=('Male', 'Female', 'Other'), value='Male')"
      ]
     },
     "metadata": {},
     "output_type": "display_data"
    },
    {
     "data": {
      "application/vnd.jupyter.widget-view+json": {
       "model_id": "5c9e24793b0f4df6aabe9c7f7d7e295e",
       "version_major": 2,
       "version_minor": 0
      },
      "text/plain": [
       "Dropdown(description='Experience:', options=('4-6', '2-4', '6-8', '14-16', '18-20', '0-2', '10-12', '8-10', '1…"
      ]
     },
     "metadata": {},
     "output_type": "display_data"
    },
    {
     "data": {
      "application/vnd.jupyter.widget-view+json": {
       "model_id": "4443e51f09b942858295e76ed198366e",
       "version_major": 2,
       "version_minor": 0
      },
      "text/plain": [
       "Dropdown(description='State:', options=(' CA', ' WA', ' TX', ' AZ', ' NY', ' IL', ' MA', ' NC', ' VA', ' CO', …"
      ]
     },
     "metadata": {},
     "output_type": "display_data"
    },
    {
     "data": {
      "application/vnd.jupyter.widget-view+json": {
       "model_id": "7cb64f63ee8245308798b64483982d93",
       "version_major": 2,
       "version_minor": 0
      },
      "text/plain": [
       "Dropdown(description='Education:', options=('PhD', \"Bachelor's Degree\", \"Master's Degree\", 'No Degree'), value…"
      ]
     },
     "metadata": {},
     "output_type": "display_data"
    },
    {
     "data": {
      "application/vnd.jupyter.widget-view+json": {
       "model_id": "47c441d82bb8446f90850bb8d20fce5f",
       "version_major": 2,
       "version_minor": 0
      },
      "text/plain": [
       "Button(description='Predict Salary', style=ButtonStyle())"
      ]
     },
     "metadata": {},
     "output_type": "display_data"
    },
    {
     "data": {
      "application/vnd.jupyter.widget-view+json": {
       "model_id": "3b6b4a86bee34bc88fa12a922995f9d2",
       "version_major": 2,
       "version_minor": 0
      },
      "text/plain": [
       "Output()"
      ]
     },
     "metadata": {},
     "output_type": "display_data"
    }
   ],
   "source": [
    "import ipywidgets as widgets\n",
    "from IPython.display import display, clear_output\n",
    "import pandas as pd\n",
    "import numpy as np\n",
    "\n",
    "# Define the widgets for each dropdown menu\n",
    "title_widget = widgets.Dropdown(options=X['title'].unique(), description='Title:')\n",
    "company_widget = widgets.Dropdown(options=X['company_group'].unique(), description='Company:')\n",
    "race_widget = widgets.Dropdown(options=X['Race_Group'].unique(), description='Race:')\n",
    "gender_widget = widgets.Dropdown(options=X['gender'].unique(), description='Gender:')\n",
    "experience_widget = widgets.Dropdown(options=X['experience_years'].unique(), description='Experience:')\n",
    "state_widget = widgets.Dropdown(options=X['state_group'].unique(), description='State:')\n",
    "education_widget = widgets.Dropdown(options=X['education_level'].unique(), description='Education:')\n",
    "\n",
    "# Create a button to trigger the prediction\n",
    "predict_button = widgets.Button(description='Predict Salary')\n",
    "\n",
    "output = widgets.Output()\n",
    "\n",
    "def on_button_clicked(b):\n",
    "    with output:\n",
    "        # Create a DataFrame from the selected options\n",
    "        user_input = pd.DataFrame({\n",
    "            'title': [title_widget.value],\n",
    "            'company_group': [company_widget.value],\n",
    "            'Race_Group': [race_widget.value],\n",
    "            'gender': [gender_widget.value],\n",
    "            'experience_years': [experience_widget.value],\n",
    "            'state_group': [state_widget.value],\n",
    "            'education_level': [education_widget.value]\n",
    "        })\n",
    "\n",
    "        # One-hot encode the input\n",
    "        user_input_encoded = pd.get_dummies(user_input)\n",
    "\n",
    "        # Create a dataframe with same columns as training data\n",
    "        user_input_aligned = pd.DataFrame(columns=X_encoded.columns)\n",
    "\n",
    "        # Update the relevant columns with user data\n",
    "        for column in user_input_encoded.columns:\n",
    "            if column in user_input_aligned.columns:\n",
    "                user_input_aligned[column] = user_input_encoded[column]\n",
    "        \n",
    "        # Fill remaining columns with 0\n",
    "        user_input_aligned.fillna(0, inplace=True)\n",
    "\n",
    "        # Use the model to predict the output\n",
    "        predicted_output = linear_reg.predict(user_input_aligned)\n",
    "\n",
    "        # Clear previous output\n",
    "        clear_output()\n",
    "\n",
    "        # Display the predicted output\n",
    "        print(f\"Predicted base salary: ${predicted_output[0]:.2f}\")\n",
    "\n",
    "# Trigger the function when the button is clicked\n",
    "predict_button.on_click(on_button_clicked)\n",
    "\n",
    "# Display the widgets and the output\n",
    "display(title_widget, company_widget, race_widget, gender_widget, experience_widget, state_widget, education_widget, predict_button, output)\n"
   ]
  },
  {
   "cell_type": "code",
   "execution_count": 229,
   "id": "a9ee9977",
   "metadata": {},
   "outputs": [
    {
     "name": "stdout",
     "output_type": "stream",
     "text": [
      "Intercept: 37983.51\n",
      "Coefficients: \n",
      "                                    Coefficient\n",
      "title_Data Scientist                   29825.17\n",
      "title_Hardware Engineer                12610.53\n",
      "title_Human Resources                   2096.71\n",
      "title_Management Consultant            21937.63\n",
      "title_Marketing                         7139.76\n",
      "title_Mechanical Engineer               2434.73\n",
      "title_Product Designer                 21819.94\n",
      "title_Product Manager                  27471.12\n",
      "title_Recruiter                        -5719.43\n",
      "title_Sales                            -9936.64\n",
      "title_Software Engineer                29986.13\n",
      "title_Software Engineering Manager     43546.19\n",
      "title_Solution Architect               19938.91\n",
      "title_Technical Program Manager        15353.21\n",
      "company_group_Apple                    13623.17\n",
      "company_group_Facebook                 27785.55\n",
      "company_group_Google                   10597.56\n",
      "company_group_Microsoft                13034.32\n",
      "company_group_Other                     5859.47\n",
      "Race_Group_Minority                     -363.85\n",
      "Race_Group_White                        2100.69\n",
      "gender_Male                             4188.20\n",
      "gender_Other                           15113.50\n",
      "experience_years_2-4                   15412.24\n",
      "experience_years_4-6                   29386.78\n",
      "experience_years_6-8                   41926.65\n",
      "experience_years_8-10                  49449.02\n",
      "experience_years_10-12                 58175.36\n",
      "experience_years_12-14                 62090.27\n",
      "experience_years_14-16                 70070.75\n",
      "experience_years_16-18                 72053.49\n",
      "experience_years_18-20                 82219.72\n",
      "experience_years_20-22                 85564.82\n",
      "experience_years_22-24                108801.92\n",
      "experience_years_24-26                 89989.78\n",
      "experience_years_26-28                 97111.23\n",
      "experience_years_28-30                103958.85\n",
      "experience_years_30-32                 98866.43\n",
      "experience_years_32-34                118216.56\n",
      "experience_years_34-36                 74183.59\n",
      "experience_years_36-38                 41043.65\n",
      "experience_years_38-40                117509.39\n",
      "experience_years_40-42                 56075.12\n",
      "experience_years_42-44                     0.00\n",
      "state_group_ CA                        46862.28\n",
      "state_group_ CO                        14933.61\n",
      "state_group_ DC                        21149.69\n",
      "state_group_ FL                         2316.74\n",
      "state_group_ GA                        10107.84\n",
      "state_group_ IL                        17579.87\n",
      "state_group_ MA                        21692.17\n",
      "state_group_ MI                         6072.23\n",
      "state_group_ MN                        11130.20\n",
      "state_group_ MO                         -321.52\n",
      "state_group_ NC                        15632.02\n",
      "state_group_ NJ                        19971.81\n",
      "state_group_ NY                        38240.07\n",
      "state_group_ OH                         -193.16\n",
      "state_group_ OR                        15254.76\n",
      "state_group_ PA                         7434.30\n",
      "state_group_ TX                        13980.80\n",
      "state_group_ UT                         6526.04\n",
      "state_group_ VA                        21328.34\n",
      "state_group_ WA                        29899.26\n",
      "state_group_ WI                         4485.51\n",
      "state_group_Other                       -559.24\n",
      "education_level_Master's Degree         6680.37\n",
      "education_level_No Degree              -3229.65\n",
      "education_level_PhD                    25417.89\n"
     ]
    }
   ],
   "source": [
    "# Set pandas options\n",
    "pd.set_option('display.max_rows', None)\n",
    "\n",
    "# Set the float format\n",
    "pd.set_option('display.float_format', '{:.2f}'.format)\n",
    "\n",
    "# This is your y-intercept\n",
    "intercept = linear_reg.intercept_\n",
    "\n",
    "# These are your coefficients\n",
    "coefficients = linear_reg.coef_\n",
    "\n",
    "# If you'd like to display them together with the feature names, you can do:\n",
    "feature_names = X_encoded.columns\n",
    "coefficients_df = pd.DataFrame(coefficients, feature_names, columns=['Coefficient'])\n",
    "\n",
    "print(\"Intercept: {:.2f}\".format(intercept))\n",
    "print(\"Coefficients: \")\n",
    "print(coefficients_df)\n"
   ]
  },
  {
   "cell_type": "code",
   "execution_count": 230,
   "id": "7b67febb",
   "metadata": {},
   "outputs": [
    {
     "data": {
      "image/png": "[encoded data removed]",
      "text/plain": [
       "<Figure size 1000x500 with 1 Axes>"
      ]
     },
     "metadata": {},
     "output_type": "display_data"
    },
    {
     "data": {
      "image/png": "[encoded data removed]",
      "text/plain": [
       "<Figure size 1000x500 with 1 Axes>"
      ]
     },
     "metadata": {},
     "output_type": "display_data"
    },
    {
     "data": {
      "image/png": "[encoded data removed]",
      "text/plain": [
       "<Figure size 1000x500 with 1 Axes>"
      ]
     },
     "metadata": {},
     "output_type": "display_data"
    },
    {
     "data": {
      "image/png": "[encoded data removed]",
      "text/plain": [
       "<Figure size 1000x500 with 1 Axes>"
      ]
     },
     "metadata": {},
     "output_type": "display_data"
    },
    {
     "data": {
      "image/png": "[encoded data removed]",
      "text/plain": [
       "<Figure size 1000x500 with 1 Axes>"
      ]
     },
     "metadata": {},
     "output_type": "display_data"
    },
    {
     "data": {
      "image/png": "[encoded data removed]",
      "text/plain": [
       "<Figure size 1000x500 with 1 Axes>"
      ]
     },
     "metadata": {},
     "output_type": "display_data"
    },
    {
     "data": {
      "image/png": "[encoded data removed]",
      "text/plain": [
       "<Figure size 1000x500 with 1 Axes>"
      ]
     },
     "metadata": {},
     "output_type": "display_data"
    }
   ],
   "source": [
    "import matplotlib.pyplot as plt\n",
    "\n",
    "# Split the column names by underscore to separate the groups\n",
    "coefficients_df['groups'] = [name.split('_')[0] for name in coefficients_df.index]\n",
    "\n",
    "# Get the unique groups\n",
    "groups = coefficients_df['groups'].unique()\n",
    "\n",
    "# For each group, plot the coefficients\n",
    "for group in groups:\n",
    "    group_data = coefficients_df[coefficients_df['groups'] == group]\n",
    "    group_data = group_data.drop(columns='groups') # drop the groups column for plotting\n",
    "\n",
    "    plt.figure(figsize=(10, 5))\n",
    "    plt.bar(group_data.index, group_data['Coefficient'])\n",
    "    plt.xticks(rotation=90)\n",
    "    plt.title(f'Coefficients for {group}')\n",
    "    plt.xlabel('Categories')\n",
    "    plt.ylabel('Coefficient')\n",
    "    plt.show()\n"
   ]
  },
  {
   "cell_type": "code",
   "execution_count": null,
   "id": "8863022f",
   "metadata": {},
   "outputs": [],
   "source": []
  },
  {
   "cell_type": "code",
   "execution_count": null,
   "id": "dff36815",
   "metadata": {},
   "outputs": [],
   "source": []
  },
  {
   "cell_type": "code",
   "execution_count": null,
   "id": "9623fe2f",
   "metadata": {},
   "outputs": [],
   "source": []
  },
  {
   "cell_type": "code",
   "execution_count": null,
   "id": "5ee411bd",
   "metadata": {},
   "outputs": [],
   "source": []
  },
  {
   "cell_type": "code",
   "execution_count": null,
   "id": "5e255650",
   "metadata": {},
   "outputs": [],
   "source": []
  },
  {
   "cell_type": "code",
   "execution_count": null,
   "id": "13ac9f20",
   "metadata": {},
   "outputs": [],
   "source": []
  },
  {
   "cell_type": "code",
   "execution_count": 53,
   "id": "9ca0fa35",
   "metadata": {},
   "outputs": [
    {
     "data": {
      "text/plain": [
       "['salary_predictor_model.pkl']"
      ]
     },
     "execution_count": 53,
     "metadata": {},
     "output_type": "execute_result"
    }
   ],
   "source": []
  },
  {
   "cell_type": "code",
   "execution_count": 54,
   "id": "d095fec3",
   "metadata": {},
   "outputs": [],
   "source": [
    "# pip install ipywidgets joblib\n"
   ]
  },
  {
   "cell_type": "code",
   "execution_count": 61,
   "id": "e3e85cdc",
   "metadata": {
    "scrolled": true
   },
   "outputs": [
    {
     "data": {
      "application/vnd.jupyter.widget-view+json": {
       "model_id": "2b8188b5ab6d4999b09bbbccb923ff28",
       "version_major": 2,
       "version_minor": 0
      },
      "text/plain": [
       "Dropdown(description='title', options=('Software Engineer', 'Software Engineering Manager', 'Hardware Engineer…"
      ]
     },
     "metadata": {},
     "output_type": "display_data"
    },
    {
     "data": {
      "application/vnd.jupyter.widget-view+json": {
       "model_id": "24e278af0a05438f81ad45e61dd8b006",
       "version_major": 2,
       "version_minor": 0
      },
      "text/plain": [
       "Dropdown(description='company_group', options=('Google', 'Microsoft', 'Other', 'Amazon', 'Facebook', 'Apple'),…"
      ]
     },
     "metadata": {},
     "output_type": "display_data"
    },
    {
     "data": {
      "application/vnd.jupyter.widget-view+json": {
       "model_id": "81ac91857a8f40af876926498fbbce0e",
       "version_major": 2,
       "version_minor": 0
      },
      "text/plain": [
       "Dropdown(description='Race_Group', options=('Asian', 'Minority', 'White'), value='Asian')"
      ]
     },
     "metadata": {},
     "output_type": "display_data"
    },
    {
     "data": {
      "application/vnd.jupyter.widget-view+json": {
       "model_id": "76083a08975c4957a7f5bf6582aa5d21",
       "version_major": 2,
       "version_minor": 0
      },
      "text/plain": [
       "Dropdown(description='gender', options=('Male', 'Female', 'Other'), value='Male')"
      ]
     },
     "metadata": {},
     "output_type": "display_data"
    },
    {
     "data": {
      "application/vnd.jupyter.widget-view+json": {
       "model_id": "b596600e4f7f40d89ad46e7256f98ec2",
       "version_major": 2,
       "version_minor": 0
      },
      "text/plain": [
       "Dropdown(description='experience_years', options=('4-6', '2-4', '6-8', '14-16', '18-20', '36-38', '34-36', '38…"
      ]
     },
     "metadata": {},
     "output_type": "display_data"
    },
    {
     "data": {
      "application/vnd.jupyter.widget-view+json": {
       "model_id": "9446db2797894f4cbe623953a91b93a1",
       "version_major": 2,
       "version_minor": 0
      },
      "text/plain": [
       "Dropdown(description='state_group', options=('CA', 'WA', 'TX', 'AZ', 'NY', 'IL', 'MA', 'NC', 'VA', 'CO', 'FL',…"
      ]
     },
     "metadata": {},
     "output_type": "display_data"
    },
    {
     "data": {
      "application/vnd.jupyter.widget-view+json": {
       "model_id": "dd8a20402a28423b8e50ed25685a3e51",
       "version_major": 2,
       "version_minor": 0
      },
      "text/plain": [
       "Dropdown(description='education_level', options=('PhD', \"Bachelor's Degree\", \"Master's Degree\", 'No Degree'), …"
      ]
     },
     "metadata": {},
     "output_type": "display_data"
    },
    {
     "data": {
      "application/vnd.jupyter.widget-view+json": {
       "model_id": "a1fd464ac3e64cfd953e57470a6e20b8",
       "version_major": 2,
       "version_minor": 0
      },
      "text/plain": [
       "Dropdown(description='Tenure', options=('5-9', '0-4', '15-19', '10-14', '20+'), value='5-9')"
      ]
     },
     "metadata": {},
     "output_type": "display_data"
    },
    {
     "data": {
      "application/vnd.jupyter.widget-view+json": {
       "model_id": "f99f56f3622c4b48b68231c93826b329",
       "version_major": 2,
       "version_minor": 0
      },
      "text/plain": [
       "Button(description='Predict', style=ButtonStyle())"
      ]
     },
     "metadata": {},
     "output_type": "display_data"
    },
    {
     "data": {
      "application/vnd.jupyter.widget-view+json": {
       "model_id": "e66536f827d24b239b2c511a043deb01",
       "version_major": 2,
       "version_minor": 0
      },
      "text/plain": [
       "Output()"
      ]
     },
     "metadata": {},
     "output_type": "display_data"
    },
    {
     "name": "stdout",
     "output_type": "stream",
     "text": [
      "Selected features:\n",
      "title: Software Engineer\n",
      "company_group: Google\n",
      "Race_Group: Asian\n",
      "gender: Male\n",
      "experience_years: 4-6\n",
      "state_group: CA\n",
      "education_level: PhD\n",
      "Tenure: 5-9\n"
     ]
    },
    {
     "name": "stderr",
     "output_type": "stream",
     "text": [
      "/Users/jorgedennis/opt/anaconda3/lib/python3.9/site-packages/sklearn/utils/validation.py:1688: FutureWarning: Feature names only support names that are all strings. Got feature names with dtypes: ['float']. An error will be raised in 1.2.\n",
      "  warnings.warn(\n",
      "/Users/jorgedennis/opt/anaconda3/lib/python3.9/site-packages/sklearn/base.py:450: UserWarning: X does not have valid feature names, but RandomForestClassifier was fitted with feature names\n",
      "  warnings.warn(\n"
     ]
    },
    {
     "name": "stdout",
     "output_type": "stream",
     "text": [
      "Selected features:\n",
      "title: Software Engineer\n",
      "company_group: Google\n",
      "Race_Group: Asian\n",
      "gender: Male\n",
      "experience_years: 4-6\n",
      "state_group: CA\n",
      "education_level: Bachelor's Degree\n",
      "Tenure: 5-9\n"
     ]
    },
    {
     "name": "stderr",
     "output_type": "stream",
     "text": [
      "/Users/jorgedennis/opt/anaconda3/lib/python3.9/site-packages/sklearn/utils/validation.py:1688: FutureWarning: Feature names only support names that are all strings. Got feature names with dtypes: ['float']. An error will be raised in 1.2.\n",
      "  warnings.warn(\n",
      "/Users/jorgedennis/opt/anaconda3/lib/python3.9/site-packages/sklearn/base.py:450: UserWarning: X does not have valid feature names, but RandomForestClassifier was fitted with feature names\n",
      "  warnings.warn(\n"
     ]
    },
    {
     "name": "stdout",
     "output_type": "stream",
     "text": [
      "Selected features:\n",
      "title: Software Engineer\n",
      "company_group: Google\n",
      "Race_Group: Asian\n",
      "gender: Female\n",
      "experience_years: 4-6\n",
      "state_group: CA\n",
      "education_level: Bachelor's Degree\n",
      "Tenure: 5-9\n"
     ]
    },
    {
     "name": "stderr",
     "output_type": "stream",
     "text": [
      "/Users/jorgedennis/opt/anaconda3/lib/python3.9/site-packages/sklearn/utils/validation.py:1688: FutureWarning: Feature names only support names that are all strings. Got feature names with dtypes: ['float']. An error will be raised in 1.2.\n",
      "  warnings.warn(\n",
      "/Users/jorgedennis/opt/anaconda3/lib/python3.9/site-packages/sklearn/base.py:450: UserWarning: X does not have valid feature names, but RandomForestClassifier was fitted with feature names\n",
      "  warnings.warn(\n"
     ]
    }
   ],
   "source": [
    "# import ipywidgets as widgets\n",
    "# from IPython.display import display, clear_output\n",
    "# import joblib\n",
    "# import pandas as pd\n",
    "\n",
    "# # Load the trained Random Forest model\n",
    "# clf = joblib.load(\"random_forest_oversampled_model.pkl\")\n",
    "\n",
    "# # Features and their corresponding unique values\n",
    "# features = {\n",
    "#     \"title\": ['Software Engineer', 'Software Engineering Manager', 'Hardware Engineer',\n",
    "#               'Product Designer', 'Management Consultant', 'Product Manager',\n",
    "#               'Solution Architect', 'Sales', 'Technical Program Manager', 'Data Scientist',\n",
    "#               'Recruiter', 'Mechanical Engineer', 'Business Analyst', 'Human Resources',\n",
    "#               'Marketing'],\n",
    "#     \"company_group\": ['Google', 'Microsoft', 'Other', 'Amazon', 'Facebook', 'Apple'],\n",
    "#     \"Race_Group\": ['Asian', 'Minority', 'White'],\n",
    "#     \"gender\": ['Male', 'Female', 'Other'],\n",
    "#     \"experience_years\": ['4-6', '2-4', '6-8', '14-16', '18-20', '36-38', '34-36',\n",
    "#                          '38-40', '32-34', '40-42'],\n",
    "#     \"state_group\": ['CA', 'WA', 'TX', 'AZ', 'NY', 'IL', 'MA', 'NC', 'VA', 'CO', 'FL', 'WI',\n",
    "#                     'DC', 'OR', 'MN', 'MO', 'PA', 'UT', 'NJ', 'MI', 'Other', 'GA', 'OH'],\n",
    "#     \"education_level\": ['PhD', \"Bachelor's Degree\", \"Master's Degree\", 'No Degree'],\n",
    "#     \"Tenure\": ['5-9', '0-4', '15-19', '10-14', '20+']\n",
    "# }\n",
    "\n",
    "# # Create dropdown widgets for each feature\n",
    "# dropdowns = {feature: widgets.Dropdown(options=values, description=feature)\n",
    "#              for feature, values in features.items() if feature != \"Salary_Range\"}\n",
    "\n",
    "# # Output widget for displaying the prediction\n",
    "# output_prediction = widgets.Output()\n",
    "\n",
    "# def predict_salary(btn):\n",
    "#     # Collect the selected feature values from the dropdown widgets\n",
    "#     selected_features = {feature: dropdowns[feature].value for feature in features.keys() if feature != \"Salary_Range\"}\n",
    "\n",
    "#     # Create a data frame with the selected feature values\n",
    "#     input_data = pd.DataFrame(selected_features, index=[0])\n",
    "\n",
    "#     # One-hot encode the selected features using get_dummies with explicit columns\n",
    "#     input_data_encoded = pd.get_dummies(input_data, columns=list(features.keys()), drop_first=True)\n",
    "\n",
    "#     # Fill missing columns (if any) in input_data_encoded with 0\n",
    "#     missing_columns = set(clf.feature_importances_) - set(input_data_encoded.columns)\n",
    "#     for column in missing_columns:\n",
    "#         input_data_encoded[column] = 0\n",
    "\n",
    "#     # Make the prediction using the loaded Random Forest model\n",
    "#     predicted_salary = clf.predict(input_data_encoded)[0]\n",
    "\n",
    "#     # Display the predicted salary\n",
    "#     with output_prediction:\n",
    "#         clear_output(wait=True)\n",
    "#         print(\"Predicted Salary:\", predicted_salary)\n",
    "\n",
    "# # Create a button for triggering the prediction\n",
    "# predict_button = widgets.Button(description=\"Predict\")\n",
    "# predict_button.on_click(predict_salary)\n",
    "\n",
    "# # Arrange the widgets in the desired layout\n",
    "# feature_widgets = [dropdowns[feature] for feature in features.keys() if feature != \"Salary_Range\"]\n",
    "# display(*feature_widgets, predict_button, output_prediction)\n",
    "\n",
    "import ipywidgets as widgets\n",
    "from IPython.display import display, clear_output\n",
    "import joblib\n",
    "import pandas as pd\n",
    "\n",
    "# Load the trained Random Forest model\n",
    "clf = joblib.load('salary_predictor_model.pkl')\n",
    "\n",
    "# Features and their corresponding unique values\n",
    "features = {\n",
    "    \"title\": ['Software Engineer', 'Software Engineering Manager', 'Hardware Engineer',\n",
    "              'Product Designer', 'Management Consultant', 'Product Manager',\n",
    "              'Solution Architect', 'Sales', 'Technical Program Manager', 'Data Scientist',\n",
    "              'Recruiter', 'Mechanical Engineer', 'Business Analyst', 'Human Resources',\n",
    "              'Marketing'],\n",
    "    \"company_group\": ['Google', 'Microsoft', 'Other', 'Amazon', 'Facebook', 'Apple'],\n",
    "    \"Race_Group\": ['Asian', 'Minority', 'White'],\n",
    "    \"gender\": ['Male', 'Female', 'Other'],\n",
    "    \"experience_years\": ['4-6', '2-4', '6-8', '14-16', '18-20', '36-38', '34-36',\n",
    "                         '38-40', '32-34', '40-42'],\n",
    "    \"state_group\": ['CA', 'WA', 'TX', 'AZ', 'NY', 'IL', 'MA', 'NC', 'VA', 'CO', 'FL', 'WI',\n",
    "                    'DC', 'OR', 'MN', 'MO', 'PA', 'UT', 'NJ', 'MI', 'Other', 'GA', 'OH'],\n",
    "    \"education_level\": ['PhD', \"Bachelor's Degree\", \"Master's Degree\", 'No Degree'],\n",
    "    \"Tenure\": ['5-9', '0-4', '15-19', '10-14', '20+']\n",
    "}\n",
    "\n",
    "# Create dropdown widgets for each feature\n",
    "dropdowns = {feature: widgets.Dropdown(options=values, description=feature)\n",
    "             for feature, values in features.items() if feature != \"Salary_Range\"}\n",
    "\n",
    "# Output widget for displaying the prediction\n",
    "output_prediction = widgets.Output()\n",
    "\n",
    "def predict_salary(btn):\n",
    "    # Collect the selected feature values from the dropdown widgets\n",
    "    selected_features = {feature: dropdowns[feature].value for feature in features.keys() if feature != \"Salary_Range\"}\n",
    "\n",
    "    # Print selected features\n",
    "    print(\"Selected features:\")\n",
    "    for feature, value in selected_features.items():\n",
    "        print(f\"{feature}: {value}\")\n",
    "\n",
    "    # Create a data frame with the selected feature values\n",
    "    input_data = pd.DataFrame(selected_features, index=[0])\n",
    "\n",
    "    # One-hot encode the selected features using get_dummies with explicit columns\n",
    "    input_data_encoded = pd.get_dummies(input_data, columns=list(features.keys()), drop_first=True)\n",
    "\n",
    "    # Fill missing columns (if any) in input_data_encoded with 0\n",
    "    missing_columns = set(clf.feature_importances_) - set(input_data_encoded.columns)\n",
    "    for column in missing_columns:\n",
    "        input_data_encoded[column] = 0\n",
    "\n",
    "    # Make the prediction using the loaded Random Forest model\n",
    "    predicted_salary = clf.predict(input_data_encoded)[0]\n",
    "\n",
    "    # Display the predicted salary\n",
    "    with output_prediction:\n",
    "        clear_output(wait=True)\n",
    "        print(\"Predicted Salary:\", predicted_salary)\n",
    "\n",
    "# Create a button for triggering the prediction\n",
    "predict_button = widgets.Button(description=\"Predict\")\n",
    "predict_button.on_click(predict_salary)\n",
    "\n",
    "# Arrange the widgets in the desired layout\n",
    "feature_widgets = [dropdowns[feature] for feature in features.keys() if feature != \"Salary_Range\"]\n",
    "display(*feature_widgets, predict_button, output_prediction)\n",
    "\n"
   ]
  },
  {
   "cell_type": "code",
   "execution_count": null,
   "id": "c22b9ba9",
   "metadata": {},
   "outputs": [],
   "source": []
  },
  {
   "cell_type": "code",
   "execution_count": null,
   "id": "b7cf4718",
   "metadata": {},
   "outputs": [],
   "source": []
  },
  {
   "cell_type": "code",
   "execution_count": null,
   "id": "bdef0688",
   "metadata": {},
   "outputs": [],
   "source": []
  },
  {
   "cell_type": "code",
   "execution_count": null,
   "id": "a3b4cf85",
   "metadata": {},
   "outputs": [],
   "source": []
  },
  {
   "cell_type": "code",
   "execution_count": null,
   "id": "85150d66",
   "metadata": {},
   "outputs": [],
   "source": []
  },
  {
   "cell_type": "code",
   "execution_count": null,
   "id": "3250aaa4",
   "metadata": {},
   "outputs": [],
   "source": []
  },
  {
   "cell_type": "code",
   "execution_count": null,
   "id": "72adcc5f",
   "metadata": {},
   "outputs": [],
   "source": []
  },
  {
   "cell_type": "code",
   "execution_count": 63,
   "id": "252e8657",
   "metadata": {
    "scrolled": false
   },
   "outputs": [
    {
     "data": {
      "application/vnd.jupyter.widget-view+json": {
       "model_id": "bef5583306fb4008b155bb6b43b9a4ab",
       "version_major": 2,
       "version_minor": 0
      },
      "text/plain": [
       "Dropdown(description='title', options=('Software Engineer', 'Software Engineering Manager', 'Hardware Engineer…"
      ]
     },
     "metadata": {},
     "output_type": "display_data"
    },
    {
     "data": {
      "application/vnd.jupyter.widget-view+json": {
       "model_id": "0cdd47a8b76444de811f649b657e22a1",
       "version_major": 2,
       "version_minor": 0
      },
      "text/plain": [
       "Dropdown(description='company_group', options=('Google', 'Microsoft', 'Other', 'Amazon', 'Facebook', 'Apple'),…"
      ]
     },
     "metadata": {},
     "output_type": "display_data"
    },
    {
     "data": {
      "application/vnd.jupyter.widget-view+json": {
       "model_id": "7235ed3ff1514ca2bb0be24144cb6d01",
       "version_major": 2,
       "version_minor": 0
      },
      "text/plain": [
       "Dropdown(description='Race_Group', options=('Asian', 'Minority', 'White'), value='Asian')"
      ]
     },
     "metadata": {},
     "output_type": "display_data"
    },
    {
     "data": {
      "application/vnd.jupyter.widget-view+json": {
       "model_id": "91c922d470d246588faac2a60962c519",
       "version_major": 2,
       "version_minor": 0
      },
      "text/plain": [
       "Dropdown(description='gender', options=('Male', 'Female', 'Other'), value='Male')"
      ]
     },
     "metadata": {},
     "output_type": "display_data"
    },
    {
     "data": {
      "application/vnd.jupyter.widget-view+json": {
       "model_id": "29ecbb137d7a415eb4a67567393a9aeb",
       "version_major": 2,
       "version_minor": 0
      },
      "text/plain": [
       "Dropdown(description='experience_years', options=('4-6', '2-4', '6-8', '14-16', '18-20', '36-38', '34-36', '38…"
      ]
     },
     "metadata": {},
     "output_type": "display_data"
    },
    {
     "data": {
      "application/vnd.jupyter.widget-view+json": {
       "model_id": "7d019a5fc69a4b61b7cb836b70b6e62b",
       "version_major": 2,
       "version_minor": 0
      },
      "text/plain": [
       "Dropdown(description='state_group', options=('CA', 'WA', 'TX', 'AZ', 'NY', 'IL', 'MA', 'NC', 'VA', 'CO', 'FL',…"
      ]
     },
     "metadata": {},
     "output_type": "display_data"
    },
    {
     "data": {
      "application/vnd.jupyter.widget-view+json": {
       "model_id": "323f1f2c4f5b442c838340a17d422652",
       "version_major": 2,
       "version_minor": 0
      },
      "text/plain": [
       "Dropdown(description='education_level', options=('PhD', \"Bachelor's Degree\", \"Master's Degree\", 'No Degree'), …"
      ]
     },
     "metadata": {},
     "output_type": "display_data"
    },
    {
     "data": {
      "application/vnd.jupyter.widget-view+json": {
       "model_id": "a80ad3f461aa4d85a527cf744f647431",
       "version_major": 2,
       "version_minor": 0
      },
      "text/plain": [
       "Dropdown(description='Tenure', options=('5-9', '0-4', '15-19', '10-14', '20+'), value='5-9')"
      ]
     },
     "metadata": {},
     "output_type": "display_data"
    },
    {
     "data": {
      "application/vnd.jupyter.widget-view+json": {
       "model_id": "b76a8421ea21497086db4cac47e8b16f",
       "version_major": 2,
       "version_minor": 0
      },
      "text/plain": [
       "Button(description='Predict', style=ButtonStyle())"
      ]
     },
     "metadata": {},
     "output_type": "display_data"
    },
    {
     "data": {
      "application/vnd.jupyter.widget-view+json": {
       "model_id": "3cd2d26efc2d43cab73159019a6d2def",
       "version_major": 2,
       "version_minor": 0
      },
      "text/plain": [
       "Output()"
      ]
     },
     "metadata": {},
     "output_type": "display_data"
    },
    {
     "name": "stderr",
     "output_type": "stream",
     "text": [
      "/Users/jorgedennis/opt/anaconda3/lib/python3.9/site-packages/sklearn/base.py:493: FutureWarning: The feature names should match those that were passed during fit. Starting version 1.2, an error will be raised.\n",
      "Feature names unseen at fit time:\n",
      "- features\n",
      "- list\n",
      "- model\n",
      "- of\n",
      "- your\n",
      "Feature names seen at fit time, yet now missing:\n",
      "- Race_Group_Asian\n",
      "- Race_Group_Minority\n",
      "- Race_Group_White\n",
      "- Tenure_0-4\n",
      "- Tenure_10-14\n",
      "- ...\n",
      "\n",
      "  warnings.warn(message, FutureWarning)\n"
     ]
    },
    {
     "ename": "ValueError",
     "evalue": "X has 5 features, but RandomForestClassifier is expecting 81 features as input.",
     "output_type": "error",
     "traceback": [
      "\u001b[0;31m---------------------------------------------------------------------------\u001b[0m",
      "\u001b[0;31mValueError\u001b[0m                                Traceback (most recent call last)",
      "\u001b[0;32m/var/folders/nb/349wvybs4q78vd9dwqkvglj00000gn/T/ipykernel_21626/2677816461.py\u001b[0m in \u001b[0;36mpredict_salary\u001b[0;34m(btn)\u001b[0m\n\u001b[1;32m     54\u001b[0m \u001b[0;34m\u001b[0m\u001b[0m\n\u001b[1;32m     55\u001b[0m     \u001b[0;31m# Make the prediction using the loaded Random Forest model\u001b[0m\u001b[0;34m\u001b[0m\u001b[0;34m\u001b[0m\u001b[0m\n\u001b[0;32m---> 56\u001b[0;31m     \u001b[0mpredicted_salary\u001b[0m \u001b[0;34m=\u001b[0m \u001b[0mclf\u001b[0m\u001b[0;34m.\u001b[0m\u001b[0mpredict\u001b[0m\u001b[0;34m(\u001b[0m\u001b[0minput_data_encoded\u001b[0m\u001b[0;34m)\u001b[0m\u001b[0;34m[\u001b[0m\u001b[0;36m0\u001b[0m\u001b[0;34m]\u001b[0m\u001b[0;34m\u001b[0m\u001b[0;34m\u001b[0m\u001b[0m\n\u001b[0m\u001b[1;32m     57\u001b[0m \u001b[0;34m\u001b[0m\u001b[0m\n\u001b[1;32m     58\u001b[0m     \u001b[0;31m# Display the predicted salary\u001b[0m\u001b[0;34m\u001b[0m\u001b[0;34m\u001b[0m\u001b[0m\n",
      "\u001b[0;32m~/opt/anaconda3/lib/python3.9/site-packages/sklearn/ensemble/_forest.py\u001b[0m in \u001b[0;36mpredict\u001b[0;34m(self, X)\u001b[0m\n\u001b[1;32m    806\u001b[0m             \u001b[0mThe\u001b[0m \u001b[0mpredicted\u001b[0m \u001b[0mclasses\u001b[0m\u001b[0;34m.\u001b[0m\u001b[0;34m\u001b[0m\u001b[0;34m\u001b[0m\u001b[0m\n\u001b[1;32m    807\u001b[0m         \"\"\"\n\u001b[0;32m--> 808\u001b[0;31m         \u001b[0mproba\u001b[0m \u001b[0;34m=\u001b[0m \u001b[0mself\u001b[0m\u001b[0;34m.\u001b[0m\u001b[0mpredict_proba\u001b[0m\u001b[0;34m(\u001b[0m\u001b[0mX\u001b[0m\u001b[0;34m)\u001b[0m\u001b[0;34m\u001b[0m\u001b[0;34m\u001b[0m\u001b[0m\n\u001b[0m\u001b[1;32m    809\u001b[0m \u001b[0;34m\u001b[0m\u001b[0m\n\u001b[1;32m    810\u001b[0m         \u001b[0;32mif\u001b[0m \u001b[0mself\u001b[0m\u001b[0;34m.\u001b[0m\u001b[0mn_outputs_\u001b[0m \u001b[0;34m==\u001b[0m \u001b[0;36m1\u001b[0m\u001b[0;34m:\u001b[0m\u001b[0;34m\u001b[0m\u001b[0;34m\u001b[0m\u001b[0m\n",
      "\u001b[0;32m~/opt/anaconda3/lib/python3.9/site-packages/sklearn/ensemble/_forest.py\u001b[0m in \u001b[0;36mpredict_proba\u001b[0;34m(self, X)\u001b[0m\n\u001b[1;32m    848\u001b[0m         \u001b[0mcheck_is_fitted\u001b[0m\u001b[0;34m(\u001b[0m\u001b[0mself\u001b[0m\u001b[0;34m)\u001b[0m\u001b[0;34m\u001b[0m\u001b[0;34m\u001b[0m\u001b[0m\n\u001b[1;32m    849\u001b[0m         \u001b[0;31m# Check data\u001b[0m\u001b[0;34m\u001b[0m\u001b[0;34m\u001b[0m\u001b[0m\n\u001b[0;32m--> 850\u001b[0;31m         \u001b[0mX\u001b[0m \u001b[0;34m=\u001b[0m \u001b[0mself\u001b[0m\u001b[0;34m.\u001b[0m\u001b[0m_validate_X_predict\u001b[0m\u001b[0;34m(\u001b[0m\u001b[0mX\u001b[0m\u001b[0;34m)\u001b[0m\u001b[0;34m\u001b[0m\u001b[0;34m\u001b[0m\u001b[0m\n\u001b[0m\u001b[1;32m    851\u001b[0m \u001b[0;34m\u001b[0m\u001b[0m\n\u001b[1;32m    852\u001b[0m         \u001b[0;31m# Assign chunk of trees to jobs\u001b[0m\u001b[0;34m\u001b[0m\u001b[0;34m\u001b[0m\u001b[0m\n",
      "\u001b[0;32m~/opt/anaconda3/lib/python3.9/site-packages/sklearn/ensemble/_forest.py\u001b[0m in \u001b[0;36m_validate_X_predict\u001b[0;34m(self, X)\u001b[0m\n\u001b[1;32m    577\u001b[0m         Validate X whenever one tries to predict, apply, predict_proba.\"\"\"\n\u001b[1;32m    578\u001b[0m         \u001b[0mcheck_is_fitted\u001b[0m\u001b[0;34m(\u001b[0m\u001b[0mself\u001b[0m\u001b[0;34m)\u001b[0m\u001b[0;34m\u001b[0m\u001b[0;34m\u001b[0m\u001b[0m\n\u001b[0;32m--> 579\u001b[0;31m         \u001b[0mX\u001b[0m \u001b[0;34m=\u001b[0m \u001b[0mself\u001b[0m\u001b[0;34m.\u001b[0m\u001b[0m_validate_data\u001b[0m\u001b[0;34m(\u001b[0m\u001b[0mX\u001b[0m\u001b[0;34m,\u001b[0m \u001b[0mdtype\u001b[0m\u001b[0;34m=\u001b[0m\u001b[0mDTYPE\u001b[0m\u001b[0;34m,\u001b[0m \u001b[0maccept_sparse\u001b[0m\u001b[0;34m=\u001b[0m\u001b[0;34m\"csr\"\u001b[0m\u001b[0;34m,\u001b[0m \u001b[0mreset\u001b[0m\u001b[0;34m=\u001b[0m\u001b[0;32mFalse\u001b[0m\u001b[0;34m)\u001b[0m\u001b[0;34m\u001b[0m\u001b[0;34m\u001b[0m\u001b[0m\n\u001b[0m\u001b[1;32m    580\u001b[0m         \u001b[0;32mif\u001b[0m \u001b[0missparse\u001b[0m\u001b[0;34m(\u001b[0m\u001b[0mX\u001b[0m\u001b[0;34m)\u001b[0m \u001b[0;32mand\u001b[0m \u001b[0;34m(\u001b[0m\u001b[0mX\u001b[0m\u001b[0;34m.\u001b[0m\u001b[0mindices\u001b[0m\u001b[0;34m.\u001b[0m\u001b[0mdtype\u001b[0m \u001b[0;34m!=\u001b[0m \u001b[0mnp\u001b[0m\u001b[0;34m.\u001b[0m\u001b[0mintc\u001b[0m \u001b[0;32mor\u001b[0m \u001b[0mX\u001b[0m\u001b[0;34m.\u001b[0m\u001b[0mindptr\u001b[0m\u001b[0;34m.\u001b[0m\u001b[0mdtype\u001b[0m \u001b[0;34m!=\u001b[0m \u001b[0mnp\u001b[0m\u001b[0;34m.\u001b[0m\u001b[0mintc\u001b[0m\u001b[0;34m)\u001b[0m\u001b[0;34m:\u001b[0m\u001b[0;34m\u001b[0m\u001b[0;34m\u001b[0m\u001b[0m\n\u001b[1;32m    581\u001b[0m             \u001b[0;32mraise\u001b[0m \u001b[0mValueError\u001b[0m\u001b[0;34m(\u001b[0m\u001b[0;34m\"No support for np.int64 index based sparse matrices\"\u001b[0m\u001b[0;34m)\u001b[0m\u001b[0;34m\u001b[0m\u001b[0;34m\u001b[0m\u001b[0m\n",
      "\u001b[0;32m~/opt/anaconda3/lib/python3.9/site-packages/sklearn/base.py\u001b[0m in \u001b[0;36m_validate_data\u001b[0;34m(self, X, y, reset, validate_separately, **check_params)\u001b[0m\n\u001b[1;32m    583\u001b[0m \u001b[0;34m\u001b[0m\u001b[0m\n\u001b[1;32m    584\u001b[0m         \u001b[0;32mif\u001b[0m \u001b[0;32mnot\u001b[0m \u001b[0mno_val_X\u001b[0m \u001b[0;32mand\u001b[0m \u001b[0mcheck_params\u001b[0m\u001b[0;34m.\u001b[0m\u001b[0mget\u001b[0m\u001b[0;34m(\u001b[0m\u001b[0;34m\"ensure_2d\"\u001b[0m\u001b[0;34m,\u001b[0m \u001b[0;32mTrue\u001b[0m\u001b[0;34m)\u001b[0m\u001b[0;34m:\u001b[0m\u001b[0;34m\u001b[0m\u001b[0;34m\u001b[0m\u001b[0m\n\u001b[0;32m--> 585\u001b[0;31m             \u001b[0mself\u001b[0m\u001b[0;34m.\u001b[0m\u001b[0m_check_n_features\u001b[0m\u001b[0;34m(\u001b[0m\u001b[0mX\u001b[0m\u001b[0;34m,\u001b[0m \u001b[0mreset\u001b[0m\u001b[0;34m=\u001b[0m\u001b[0mreset\u001b[0m\u001b[0;34m)\u001b[0m\u001b[0;34m\u001b[0m\u001b[0;34m\u001b[0m\u001b[0m\n\u001b[0m\u001b[1;32m    586\u001b[0m \u001b[0;34m\u001b[0m\u001b[0m\n\u001b[1;32m    587\u001b[0m         \u001b[0;32mreturn\u001b[0m \u001b[0mout\u001b[0m\u001b[0;34m\u001b[0m\u001b[0;34m\u001b[0m\u001b[0m\n",
      "\u001b[0;32m~/opt/anaconda3/lib/python3.9/site-packages/sklearn/base.py\u001b[0m in \u001b[0;36m_check_n_features\u001b[0;34m(self, X, reset)\u001b[0m\n\u001b[1;32m    398\u001b[0m \u001b[0;34m\u001b[0m\u001b[0m\n\u001b[1;32m    399\u001b[0m         \u001b[0;32mif\u001b[0m \u001b[0mn_features\u001b[0m \u001b[0;34m!=\u001b[0m \u001b[0mself\u001b[0m\u001b[0;34m.\u001b[0m\u001b[0mn_features_in_\u001b[0m\u001b[0;34m:\u001b[0m\u001b[0;34m\u001b[0m\u001b[0;34m\u001b[0m\u001b[0m\n\u001b[0;32m--> 400\u001b[0;31m             raise ValueError(\n\u001b[0m\u001b[1;32m    401\u001b[0m                 \u001b[0;34mf\"X has {n_features} features, but {self.__class__.__name__} \"\u001b[0m\u001b[0;34m\u001b[0m\u001b[0;34m\u001b[0m\u001b[0m\n\u001b[1;32m    402\u001b[0m                 \u001b[0;34mf\"is expecting {self.n_features_in_} features as input.\"\u001b[0m\u001b[0;34m\u001b[0m\u001b[0;34m\u001b[0m\u001b[0m\n",
      "\u001b[0;31mValueError\u001b[0m: X has 5 features, but RandomForestClassifier is expecting 81 features as input."
     ]
    }
   ],
   "source": [
    "import ipywidgets as widgets\n",
    "from IPython.display import display, clear_output\n",
    "import joblib\n",
    "import pandas as pd\n",
    "\n",
    "# Load the trained Random Forest model\n",
    "clf = joblib.load('salary_predictor_model.pkl')\n",
    "\n",
    "# Features and their corresponding unique values\n",
    "features = {\n",
    "    \"title\": ['Software Engineer', 'Software Engineering Manager', 'Hardware Engineer',\n",
    "              'Product Designer', 'Management Consultant', 'Product Manager',\n",
    "              'Solution Architect', 'Sales', 'Technical Program Manager', 'Data Scientist',\n",
    "              'Recruiter', 'Mechanical Engineer', 'Business Analyst', 'Human Resources',\n",
    "              'Marketing'],\n",
    "    \"company_group\": ['Google', 'Microsoft', 'Other', 'Amazon', 'Facebook', 'Apple'],\n",
    "    \"Race_Group\": ['Asian', 'Minority', 'White'],\n",
    "    \"gender\": ['Male', 'Female', 'Other'],\n",
    "    \"experience_years\": ['4-6', '2-4', '6-8', '14-16', '18-20', '36-38', '34-36',\n",
    "                         '38-40', '32-34', '40-42'],\n",
    "    \"state_group\": ['CA', 'WA', 'TX', 'AZ', 'NY', 'IL', 'MA', 'NC', 'VA', 'CO', 'FL', 'WI',\n",
    "                    'DC', 'OR', 'MN', 'MO', 'PA', 'UT', 'NJ', 'MI', 'Other', 'GA', 'OH'],\n",
    "    \"education_level\": ['PhD', \"Bachelor's Degree\", \"Master's Degree\", 'No Degree'],\n",
    "    \"Tenure\": ['5-9', '0-4', '15-19', '10-14', '20+']\n",
    "}\n",
    "\n",
    "# Create dropdown widgets for each feature\n",
    "dropdowns = {feature: widgets.Dropdown(options=values, description=feature)\n",
    "             for feature, values in features.items()}\n",
    "\n",
    "# Output widget for displaying the prediction\n",
    "output_prediction = widgets.Output()\n",
    "\n",
    "# List of model features\n",
    "model_features = ['list', 'of', 'your', 'model', 'features']\n",
    "\n",
    "def predict_salary(btn):\n",
    "    # Collect the selected feature values from the dropdown widgets\n",
    "    selected_features = {feature: dropdowns[feature].value for feature in features.keys()}\n",
    "\n",
    "    # Create a data frame with the selected feature values\n",
    "    input_data = pd.DataFrame(selected_features, index=[0])\n",
    "\n",
    "    # One-hot encode the selected features using get_dummies\n",
    "    input_data_encoded = pd.get_dummies(input_data)\n",
    "\n",
    "    # Fill missing columns (if any) in input_data_encoded with 0\n",
    "    missing_columns = set(model_features) - set(input_data_encoded.columns)\n",
    "    for column in missing_columns:\n",
    "        input_data_encoded[column] = 0\n",
    "\n",
    "    # Ensure the order of column matches the original data\n",
    "    input_data_encoded = input_data_encoded[model_features]\n",
    "\n",
    "    # Make the prediction using the loaded Random Forest model\n",
    "    predicted_salary = clf.predict(input_data_encoded)[0]\n",
    "\n",
    "    # Display the predicted salary\n",
    "    with output_prediction:\n",
    "        clear_output(wait=True)\n",
    "        print(\"Predicted Salary:\", predicted_salary)\n",
    "\n",
    "# Create a button for triggering the prediction\n",
    "predict_button = widgets.Button(description=\"Predict\")\n",
    "predict_button.on_click(predict_salary)\n",
    "\n",
    "# Arrange the widgets in the desired layout\n",
    "feature_widgets = [dropdowns[feature] for feature in features.keys()]\n",
    "display(*feature_widgets, predict_button, output_prediction)\n"
   ]
  },
  {
   "cell_type": "code",
   "execution_count": null,
   "id": "2137bb34",
   "metadata": {},
   "outputs": [],
   "source": []
  },
  {
   "cell_type": "code",
   "execution_count": null,
   "id": "a5b9ae97",
   "metadata": {},
   "outputs": [],
   "source": []
  },
  {
   "cell_type": "code",
   "execution_count": null,
   "id": "079f200b",
   "metadata": {},
   "outputs": [],
   "source": []
  },
  {
   "cell_type": "code",
   "execution_count": null,
   "id": "69a81fe1",
   "metadata": {},
   "outputs": [],
   "source": []
  },
  {
   "cell_type": "code",
   "execution_count": 602,
   "id": "34a8bd48",
   "metadata": {},
   "outputs": [
    {
     "name": "stdout",
     "output_type": "stream",
     "text": [
      "Collecting streamlit\n",
      "  Downloading streamlit-1.25.0-py2.py3-none-any.whl (8.1 MB)\n",
      "\u001b[2K     \u001b[90m━━━━━━━━━━━━━━━━━━━━━━━━━━━━━━━━━━━━━━━━\u001b[0m \u001b[32m8.1/8.1 MB\u001b[0m \u001b[31m550.6 kB/s\u001b[0m eta \u001b[36m0:00:00\u001b[0m00:01\u001b[0m00:01\u001b[0m\n",
      "\u001b[?25hRequirement already satisfied: requests<3,>=2.18 in /Users/jorgedennis/opt/anaconda3/lib/python3.9/site-packages (from streamlit) (2.28.1)\n",
      "Collecting tenacity<9,>=8.1.0\n",
      "  Downloading tenacity-8.2.2-py3-none-any.whl (24 kB)\n",
      "Requirement already satisfied: cachetools<6,>=4.0 in /Users/jorgedennis/opt/anaconda3/lib/python3.9/site-packages (from streamlit) (5.3.1)\n",
      "Collecting altair<6,>=4.0\n",
      "  Downloading altair-5.0.1-py3-none-any.whl (471 kB)\n",
      "\u001b[2K     \u001b[90m━━━━━━━━━━━━━━━━━━━━━━━━━━━━━━━━━━━━━\u001b[0m \u001b[32m471.5/471.5 kB\u001b[0m \u001b[31m632.1 kB/s\u001b[0m eta \u001b[36m0:00:00\u001b[0ma \u001b[36m0:00:01\u001b[0m\n",
      "\u001b[?25hRequirement already satisfied: click<9,>=7.0 in /Users/jorgedennis/opt/anaconda3/lib/python3.9/site-packages (from streamlit) (8.0.4)\n",
      "Requirement already satisfied: pandas<3,>=1.3.0 in /Users/jorgedennis/opt/anaconda3/lib/python3.9/site-packages (from streamlit) (1.4.4)\n",
      "Requirement already satisfied: pillow<10,>=7.1.0 in /Users/jorgedennis/opt/anaconda3/lib/python3.9/site-packages (from streamlit) (9.2.0)\n",
      "Collecting validators<1,>=0.2\n",
      "  Downloading validators-0.20.0.tar.gz (30 kB)\n",
      "  Preparing metadata (setup.py) ... \u001b[?25ldone\n",
      "\u001b[?25hRequirement already satisfied: tornado<7,>=6.0.3 in /Users/jorgedennis/opt/anaconda3/lib/python3.9/site-packages (from streamlit) (6.1)\n",
      "Requirement already satisfied: numpy<2,>=1.19.3 in /Users/jorgedennis/opt/anaconda3/lib/python3.9/site-packages (from streamlit) (1.24.3)\n",
      "Requirement already satisfied: packaging<24,>=16.8 in /Users/jorgedennis/opt/anaconda3/lib/python3.9/site-packages (from streamlit) (21.3)\n",
      "Collecting pydeck<1,>=0.8\n",
      "  Downloading pydeck-0.8.0-py2.py3-none-any.whl (4.7 MB)\n",
      "\u001b[2K     \u001b[90m━━━━━━━━━━━━━━━━━━━━━━━━━━━━━━━━━━━━━━━━\u001b[0m \u001b[32m4.7/4.7 MB\u001b[0m \u001b[31m760.0 kB/s\u001b[0m eta \u001b[36m0:00:00\u001b[0m00:01\u001b[0m00:01\u001b[0m\n",
      "\u001b[?25hRequirement already satisfied: importlib-metadata<7,>=1.4 in /Users/jorgedennis/opt/anaconda3/lib/python3.9/site-packages (from streamlit) (4.11.3)\n",
      "Collecting pympler<2,>=0.9\n",
      "  Downloading Pympler-1.0.1-py3-none-any.whl (164 kB)\n",
      "\u001b[2K     \u001b[90m━━━━━━━━━━━━━━━━━━━━━━━━━━━━━━━━━━━━━\u001b[0m \u001b[32m164.8/164.8 kB\u001b[0m \u001b[31m798.8 kB/s\u001b[0m eta \u001b[36m0:00:00\u001b[0m00:01\u001b[0m00:01\u001b[0m\n",
      "\u001b[?25hCollecting pyarrow>=6.0\n",
      "  Downloading pyarrow-12.0.1-cp39-cp39-macosx_10_14_x86_64.whl (24.8 MB)\n",
      "\u001b[2K     \u001b[90m━━━━━━━━━━━━━━━━━━━━━━━━━━━━━━━━━━━━━━━━\u001b[0m \u001b[32m24.8/24.8 MB\u001b[0m \u001b[31m2.0 MB/s\u001b[0m eta \u001b[36m0:00:00\u001b[0m00:01\u001b[0m00:01\u001b[0mm\n",
      "\u001b[?25hRequirement already satisfied: typing-extensions<5,>=4.1.0 in /Users/jorgedennis/opt/anaconda3/lib/python3.9/site-packages (from streamlit) (4.3.0)\n",
      "Requirement already satisfied: protobuf<5,>=3.20 in /Users/jorgedennis/opt/anaconda3/lib/python3.9/site-packages (from streamlit) (4.23.4)\n",
      "Requirement already satisfied: toml<2,>=0.10.1 in /Users/jorgedennis/opt/anaconda3/lib/python3.9/site-packages (from streamlit) (0.10.2)\n",
      "Collecting rich<14,>=10.14.0\n",
      "  Downloading rich-13.4.2-py3-none-any.whl (239 kB)\n",
      "\u001b[2K     \u001b[90m━━━━━━━━━━━━━━━━━━━━━━━━━━━━━━━━━━━━━━━\u001b[0m \u001b[32m239.4/239.4 kB\u001b[0m \u001b[31m5.7 MB/s\u001b[0m eta \u001b[36m0:00:00\u001b[0m00:01\u001b[0m\n",
      "\u001b[?25hCollecting blinker<2,>=1.0.0\n",
      "  Downloading blinker-1.6.2-py3-none-any.whl (13 kB)\n",
      "Collecting gitpython!=3.1.19,<4,>=3.0.7\n",
      "  Downloading GitPython-3.1.32-py3-none-any.whl (188 kB)\n",
      "\u001b[2K     \u001b[90m━━━━━━━━━━━━━━━━━━━━━━━━━━━━━━━━━━━━━━━\u001b[0m \u001b[32m188.5/188.5 kB\u001b[0m \u001b[31m1.3 MB/s\u001b[0m eta \u001b[36m0:00:00\u001b[0ma \u001b[36m0:00:01\u001b[0m\n",
      "\u001b[?25hRequirement already satisfied: python-dateutil<3,>=2.7.3 in /Users/jorgedennis/opt/anaconda3/lib/python3.9/site-packages (from streamlit) (2.8.2)\n",
      "Collecting tzlocal<5,>=1.1\n",
      "  Downloading tzlocal-4.3.1-py3-none-any.whl (20 kB)\n",
      "Requirement already satisfied: toolz in /Users/jorgedennis/opt/anaconda3/lib/python3.9/site-packages (from altair<6,>=4.0->streamlit) (0.11.2)\n",
      "Requirement already satisfied: jinja2 in /Users/jorgedennis/opt/anaconda3/lib/python3.9/site-packages (from altair<6,>=4.0->streamlit) (2.11.3)\n",
      "Requirement already satisfied: jsonschema>=3.0 in /Users/jorgedennis/opt/anaconda3/lib/python3.9/site-packages (from altair<6,>=4.0->streamlit) (4.16.0)\n",
      "Collecting gitdb<5,>=4.0.1\n",
      "  Downloading gitdb-4.0.10-py3-none-any.whl (62 kB)\n",
      "\u001b[2K     \u001b[90m━━━━━━━━━━━━━━━━━━━━━━━━━━━━━━━━━━━━━━━━\u001b[0m \u001b[32m62.7/62.7 kB\u001b[0m \u001b[31m2.1 MB/s\u001b[0m eta \u001b[36m0:00:00\u001b[0m\n",
      "\u001b[?25hRequirement already satisfied: zipp>=0.5 in /Users/jorgedennis/opt/anaconda3/lib/python3.9/site-packages (from importlib-metadata<7,>=1.4->streamlit) (3.8.0)\n",
      "Requirement already satisfied: pyparsing!=3.0.5,>=2.0.2 in /Users/jorgedennis/opt/anaconda3/lib/python3.9/site-packages (from packaging<24,>=16.8->streamlit) (3.0.9)\n",
      "Requirement already satisfied: pytz>=2020.1 in /Users/jorgedennis/opt/anaconda3/lib/python3.9/site-packages (from pandas<3,>=1.3.0->streamlit) (2022.1)\n",
      "Requirement already satisfied: six>=1.5 in /Users/jorgedennis/opt/anaconda3/lib/python3.9/site-packages (from python-dateutil<3,>=2.7.3->streamlit) (1.16.0)\n",
      "Requirement already satisfied: idna<4,>=2.5 in /Users/jorgedennis/opt/anaconda3/lib/python3.9/site-packages (from requests<3,>=2.18->streamlit) (3.3)\n",
      "Requirement already satisfied: certifi>=2017.4.17 in /Users/jorgedennis/opt/anaconda3/lib/python3.9/site-packages (from requests<3,>=2.18->streamlit) (2022.9.24)\n",
      "Requirement already satisfied: urllib3<1.27,>=1.21.1 in /Users/jorgedennis/opt/anaconda3/lib/python3.9/site-packages (from requests<3,>=2.18->streamlit) (1.26.16)\n",
      "Requirement already satisfied: charset-normalizer<3,>=2 in /Users/jorgedennis/opt/anaconda3/lib/python3.9/site-packages (from requests<3,>=2.18->streamlit) (2.0.4)\n",
      "Collecting pygments<3.0.0,>=2.13.0\n",
      "  Downloading Pygments-2.15.1-py3-none-any.whl (1.1 MB)\n",
      "\u001b[2K     \u001b[90m━━━━━━━━━━━━━━━━━━━━━━━━━━━━━━━━━━━━━━━━\u001b[0m \u001b[32m1.1/1.1 MB\u001b[0m \u001b[31m958.8 kB/s\u001b[0m eta \u001b[36m0:00:00\u001b[0m00:01\u001b[0m00:01\u001b[0m\n",
      "\u001b[?25hRequirement already satisfied: markdown-it-py>=2.2.0 in /Users/jorgedennis/opt/anaconda3/lib/python3.9/site-packages (from rich<14,>=10.14.0->streamlit) (2.2.0)\n",
      "Collecting pytz-deprecation-shim\n",
      "  Downloading pytz_deprecation_shim-0.1.0.post0-py2.py3-none-any.whl (15 kB)\n",
      "Requirement already satisfied: decorator>=3.4.0 in /Users/jorgedennis/opt/anaconda3/lib/python3.9/site-packages (from validators<1,>=0.2->streamlit) (5.1.1)\n",
      "Collecting smmap<6,>=3.0.1\n",
      "  Downloading smmap-5.0.0-py3-none-any.whl (24 kB)\n",
      "Requirement already satisfied: MarkupSafe>=0.23 in /Users/jorgedennis/opt/anaconda3/lib/python3.9/site-packages (from jinja2->altair<6,>=4.0->streamlit) (2.0.1)\n",
      "Requirement already satisfied: attrs>=17.4.0 in /Users/jorgedennis/opt/anaconda3/lib/python3.9/site-packages (from jsonschema>=3.0->altair<6,>=4.0->streamlit) (21.4.0)\n",
      "Requirement already satisfied: pyrsistent!=0.17.0,!=0.17.1,!=0.17.2,>=0.14.0 in /Users/jorgedennis/opt/anaconda3/lib/python3.9/site-packages (from jsonschema>=3.0->altair<6,>=4.0->streamlit) (0.18.0)\n",
      "Requirement already satisfied: mdurl~=0.1 in /Users/jorgedennis/opt/anaconda3/lib/python3.9/site-packages (from markdown-it-py>=2.2.0->rich<14,>=10.14.0->streamlit) (0.1.2)\n",
      "Collecting tzdata\n",
      "  Downloading tzdata-2023.3-py2.py3-none-any.whl (341 kB)\n",
      "\u001b[2K     \u001b[90m━━━━━━━━━━━━━━━━━━━━━━━━━━━━━━━━━━━━━\u001b[0m \u001b[32m341.8/341.8 kB\u001b[0m \u001b[31m136.9 kB/s\u001b[0m eta \u001b[36m0:00:00\u001b[0m00:01\u001b[0m00:01\u001b[0m\n",
      "\u001b[?25hBuilding wheels for collected packages: validators\n",
      "  Building wheel for validators (setup.py) ... \u001b[?25ldone\n",
      "\u001b[?25h  Created wheel for validators: filename=validators-0.20.0-py3-none-any.whl size=19579 sha256=dffae2448d9d6a71bdc4cee9941c35c21222838900959d1703bfd83cbe7bda84\n",
      "  Stored in directory: /Users/jorgedennis/Library/Caches/pip/wheels/2d/f0/a8/1094fca7a7e5d0d12ff56e0c64675d72aa5cc81a5fc200e849\n",
      "Successfully built validators\n",
      "Installing collected packages: validators, tzdata, tenacity, smmap, pympler, pygments, pyarrow, blinker, rich, pytz-deprecation-shim, pydeck, gitdb, tzlocal, gitpython, altair, streamlit\n",
      "  Attempting uninstall: tenacity\n",
      "    Found existing installation: tenacity 8.0.1\n",
      "    Uninstalling tenacity-8.0.1:\n",
      "      Successfully uninstalled tenacity-8.0.1\n",
      "  Attempting uninstall: pygments\n",
      "    Found existing installation: Pygments 2.11.2\n"
     ]
    },
    {
     "name": "stdout",
     "output_type": "stream",
     "text": [
      "    Uninstalling Pygments-2.11.2:\n",
      "      Successfully uninstalled Pygments-2.11.2\n",
      "\u001b[31mERROR: pip's dependency resolver does not currently take into account all the packages that are installed. This behaviour is the source of the following dependency conflicts.\n",
      "spyder 5.3.3 requires pyqt5<5.16, which is not installed.\n",
      "spyder 5.3.3 requires pyqtwebengine<5.16, which is not installed.\u001b[0m\u001b[31m\n",
      "\u001b[0mSuccessfully installed altair-5.0.1 blinker-1.6.2 gitdb-4.0.10 gitpython-3.1.32 pyarrow-12.0.1 pydeck-0.8.0 pygments-2.15.1 pympler-1.0.1 pytz-deprecation-shim-0.1.0.post0 rich-13.4.2 smmap-5.0.0 streamlit-1.25.0 tenacity-8.2.2 tzdata-2023.3 tzlocal-4.3.1 validators-0.20.0\n",
      "Note: you may need to restart the kernel to use updated packages.\n"
     ]
    }
   ],
   "source": [
    "pip install streamlit\n"
   ]
  },
  {
   "cell_type": "code",
   "execution_count": 603,
   "id": "ab5a20d4",
   "metadata": {},
   "outputs": [
    {
     "name": "stderr",
     "output_type": "stream",
     "text": [
      "2023-07-22 12:27:30.670 \n",
      "  \u001b[33m\u001b[1mWarning:\u001b[0m to view this Streamlit app on a browser, run it with the following\n",
      "  command:\n",
      "\n",
      "    streamlit run /Users/jorgedennis/opt/anaconda3/lib/python3.9/site-packages/ipykernel_launcher.py [ARGUMENTS]\n"
     ]
    }
   ],
   "source": [
    "import streamlit as st\n",
    "import pandas as pd\n",
    "from joblib import load\n",
    "\n",
    "# load the model\n",
    "model = load('random_forest_oversampled_model.pkl')\n",
    "\n",
    "# define the input selection\n",
    "title = st.selectbox('Job Title', ['Software Engineer', 'Software Engineering Manager', 'Hardware Engineer', 'Product Designer', 'Management Consultant', 'Product Manager', 'Solution Architect', 'Sales', 'Technical Program Manager', 'Data Scientist', 'Recruiter', 'Mechanical Engineer', 'Business Analyst', 'Human Resources', 'Marketing'])\n",
    "company_group = st.selectbox('Company Group', ['Google', 'Microsoft', 'Other', 'Amazon', 'Facebook', 'Apple'])\n",
    "race_group = st.selectbox('Race Group', ['Asian', 'Minority', 'White'])\n",
    "gender = st.selectbox('Gender', ['Male', 'Female', 'Other'])\n",
    "experience_years = st.selectbox('Years of Experience', ['0-2', '2-4', '4-6', '6-8', '8-10', '10-12', '12-14', '14-16', '16-18', '18-20', '20-22', '22-24', '24-26', '26-28', '28-30', '30-32', '32-34', '34-36', '36-38', '38-40', '40-42', '42-44'])\n",
    "state_group = st.selectbox('State Group', [' CA', ' WA', ' TX', ' AZ', ' NY', ' IL', ' MA', ' NC', ' VA', ' CO', ' FL', ' WI', ' DC', ' OR', ' MN', ' MO', ' PA', ' UT', ' NJ', ' MI', 'Other', ' GA', ' OH'])\n",
    "education_level = st.selectbox('Education Level', ['PhD', \"Bachelor's Degree\", \"Master's Degree\", 'No Degree'])\n",
    "tenure = st.selectbox('Tenure', ['0-4', '5-9', '10-14', '15-19', '20+'])\n",
    "\n",
    "# define a function to make predictions\n",
    "def predict(title, company_group, race_group, gender, experience_years, state_group, education_level, tenure):\n",
    "    data = {'title': title, 'company_group': company_group, 'race_group': race_group, 'gender': gender, 'experience_years': experience_years, 'state_group': state_group, 'education_level': education_level, 'tenure': tenure}\n",
    "    df = pd.DataFrame(data, index=[0])\n",
    "    prediction = model.predict(df)\n",
    "    return prediction[0]\n",
    "\n",
    "if st.button('Predict'):\n",
    "    prediction = predict(title, company_group, race_group, gender, experience_years, state_group, education_level, tenure)\n",
    "    st.write('Predicted Salary Range:', prediction)\n"
   ]
  },
  {
   "cell_type": "code",
   "execution_count": null,
   "id": "7cb3d288",
   "metadata": {},
   "outputs": [],
   "source": []
  },
  {
   "cell_type": "code",
   "execution_count": null,
   "id": "36995f07",
   "metadata": {},
   "outputs": [],
   "source": []
  },
  {
   "cell_type": "code",
   "execution_count": null,
   "id": "cd9ebd5b",
   "metadata": {},
   "outputs": [],
   "source": []
  },
  {
   "cell_type": "code",
   "execution_count": null,
   "id": "0afceebd",
   "metadata": {},
   "outputs": [],
   "source": []
  },
  {
   "cell_type": "code",
   "execution_count": 565,
   "id": "92e2cffa",
   "metadata": {},
   "outputs": [],
   "source": [
    "# ### Gradient Boost ###\n",
    "\n",
    "# from sklearn.model_selection import train_test_split\n",
    "# from sklearn.ensemble import GradientBoostingClassifier\n",
    "# from sklearn.metrics import accuracy_score\n",
    "\n",
    "# # Split the data into training and testing sets\n",
    "# X_train, X_test, y_train, y_test = train_test_split(X_oversampled, y_oversampled, test_size=0.15, random_state=42)\n",
    "\n",
    "# # Create the gradient boosting classifier\n",
    "# clf = GradientBoostingClassifier()\n",
    "\n",
    "# # Fit the model to the training data\n",
    "# clf.fit(X_train, y_train)\n",
    "\n",
    "# # Make predictions on the test data\n",
    "# y_pred = clf.predict(X_test)\n",
    "\n",
    "# # Calculate the accuracy of the model\n",
    "# accuracy = accuracy_score(y_test, y_pred)\n",
    "# print(f\"Accuracy: {accuracy}\")\n"
   ]
  },
  {
   "cell_type": "code",
   "execution_count": 550,
   "id": "4c740769",
   "metadata": {},
   "outputs": [],
   "source": [
    "# from sklearn.preprocessing import StandardScaler\n",
    "# from sklearn.decomposition import PCA\n",
    "# from sklearn.ensemble import RandomForestClassifier\n",
    "# from sklearn.metrics import accuracy_score\n",
    "\n",
    "# # Split the data into training and testing sets\n",
    "# X_train, X_test, y_train, y_test = train_test_split(X_oversampled, y_oversampled, test_size=0.2, random_state=42)\n",
    "\n",
    "# # Standardize the data\n",
    "# scaler = StandardScaler()\n",
    "# X_train_scaled = scaler.fit_transform(X_train)\n",
    "# X_test_scaled = scaler.transform(X_test)\n",
    "\n",
    "# # Apply PCA to reduce the number of features\n",
    "# pca = PCA(n_components=60)  # You can choose the number of principal components you want to retain\n",
    "# X_train_pca = pca.fit_transform(X_train_scaled)\n",
    "# X_test_pca = pca.transform(X_test_scaled)\n",
    "\n",
    "# # Create and train the random forest classifier\n",
    "# clf = RandomForestClassifier()\n",
    "# clf.fit(X_train_pca, y_train)\n",
    "\n",
    "# # Make predictions on the test data\n",
    "# y_pred = clf.predict(X_test_pca)\n",
    "\n",
    "# # Calculate the accuracy of the classifier\n",
    "# accuracy = accuracy_score(y_test, y_pred)\n",
    "# print(f\"Accuracy: {accuracy}\")\n"
   ]
  },
  {
   "cell_type": "code",
   "execution_count": null,
   "id": "18c5472a",
   "metadata": {},
   "outputs": [],
   "source": []
  },
  {
   "cell_type": "code",
   "execution_count": null,
   "id": "7bbb5b75",
   "metadata": {},
   "outputs": [],
   "source": []
  },
  {
   "cell_type": "code",
   "execution_count": null,
   "id": "54ef2c77",
   "metadata": {},
   "outputs": [],
   "source": []
  },
  {
   "cell_type": "code",
   "execution_count": null,
   "id": "990e470f",
   "metadata": {},
   "outputs": [],
   "source": []
  },
  {
   "cell_type": "code",
   "execution_count": 551,
   "id": "0f5c0ca0",
   "metadata": {},
   "outputs": [],
   "source": [
    "# ### Linear Regression ###\n",
    "\n",
    "# from sklearn.linear_model import LinearRegression\n",
    "# from sklearn.model_selection import train_test_split\n",
    "# from sklearn.metrics import r2_score\n",
    "\n",
    "# # Split the data into training and testing sets\n",
    "# X_train, X_test, y_train, y_test = train_test_split(X_oversampled, y_oversampled, test_size=0.2, random_state=42)\n",
    "\n",
    "# # Create the linear regression model\n",
    "# linear_reg = LinearRegression()\n",
    "\n",
    "# # Train the model on the training data\n",
    "# linear_reg.fit(X_train, y_train)\n",
    "\n",
    "# # Make predictions on the test data\n",
    "# y_pred = linear_reg.predict(X_test)\n",
    "\n",
    "# # Calculate the R-squared score to evaluate the model's performance\n",
    "# r2 = r2_score(y_test, y_pred)\n",
    "\n",
    "# print(f\"R-squared score: {r2}\")\n",
    "\n",
    "\n"
   ]
  },
  {
   "cell_type": "code",
   "execution_count": 552,
   "id": "b6571200",
   "metadata": {},
   "outputs": [],
   "source": [
    "### Undersample ###"
   ]
  },
  {
   "cell_type": "code",
   "execution_count": 553,
   "id": "2eff678f",
   "metadata": {},
   "outputs": [],
   "source": [
    "# from imblearn.under_sampling import RandomUnderSampler\n",
    "\n",
    "# # Split the data into training and testing sets\n",
    "# X_train, X_test, y_train, y_test = train_test_split(X_encoded, y, test_size=0.2, random_state=42)\n",
    "\n",
    "# # Undersample the training data\n",
    "# rus = RandomUnderSampler(random_state=42)\n",
    "# X_train_resampled, y_train_resampled = rus.fit_resample(X_train, y_train)\n",
    "\n",
    "# # Train the Random Forest classifier\n",
    "# clf = RandomForestClassifier()\n",
    "# clf.fit(X_train_resampled, y_train_resampled)\n",
    "\n",
    "# # Make predictions on the test set\n",
    "# y_pred = clf.predict(X_test)\n",
    "\n",
    "# # Calculate the accuracy of the model\n",
    "# accuracy = accuracy_score(y_test, y_pred)\n",
    "# print(f\"Accuracy: {accuracy}\")\n"
   ]
  },
  {
   "cell_type": "code",
   "execution_count": 554,
   "id": "dd678cac",
   "metadata": {},
   "outputs": [
    {
     "name": "stdout",
     "output_type": "stream",
     "text": [
      "Epoch 1/50\n",
      "381/381 [==============================] - 2s 2ms/step - loss: 3.6043 - accuracy: 0.0672 - val_loss: 3.3490 - val_accuracy: 0.0895\n",
      "Epoch 2/50\n",
      "381/381 [==============================] - 0s 1ms/step - loss: 3.1450 - accuracy: 0.1060 - val_loss: 3.1019 - val_accuracy: 0.1050\n",
      "Epoch 3/50\n",
      "381/381 [==============================] - 1s 1ms/step - loss: 2.9910 - accuracy: 0.1266 - val_loss: 3.0468 - val_accuracy: 0.1072\n",
      "Epoch 4/50\n",
      "381/381 [==============================] - 0s 1ms/step - loss: 2.9259 - accuracy: 0.1356 - val_loss: 3.0307 - val_accuracy: 0.1050\n",
      "Epoch 5/50\n",
      "381/381 [==============================] - 1s 2ms/step - loss: 2.8877 - accuracy: 0.1379 - val_loss: 3.0078 - val_accuracy: 0.1228\n",
      "Epoch 6/50\n",
      "381/381 [==============================] - 1s 2ms/step - loss: 2.8577 - accuracy: 0.1434 - val_loss: 3.0112 - val_accuracy: 0.1146\n",
      "Epoch 7/50\n",
      "381/381 [==============================] - 1s 2ms/step - loss: 2.8311 - accuracy: 0.1527 - val_loss: 3.0098 - val_accuracy: 0.1154\n",
      "Epoch 8/50\n",
      "381/381 [==============================] - 1s 2ms/step - loss: 2.8074 - accuracy: 0.1593 - val_loss: 3.0172 - val_accuracy: 0.1095\n",
      "Epoch 9/50\n",
      "381/381 [==============================] - 1s 2ms/step - loss: 2.7896 - accuracy: 0.1591 - val_loss: 3.0251 - val_accuracy: 0.1124\n",
      "Epoch 10/50\n",
      "381/381 [==============================] - 1s 2ms/step - loss: 2.7691 - accuracy: 0.1659 - val_loss: 3.0392 - val_accuracy: 0.1228\n",
      "Epoch 11/50\n",
      "381/381 [==============================] - 0s 1ms/step - loss: 2.7529 - accuracy: 0.1689 - val_loss: 3.0464 - val_accuracy: 0.1146\n",
      "Epoch 12/50\n",
      "381/381 [==============================] - 0s 1ms/step - loss: 2.7377 - accuracy: 0.1734 - val_loss: 3.0600 - val_accuracy: 0.1117\n",
      "Epoch 13/50\n",
      "381/381 [==============================] - 0s 1ms/step - loss: 2.7254 - accuracy: 0.1797 - val_loss: 3.0613 - val_accuracy: 0.1087\n",
      "Epoch 14/50\n",
      "381/381 [==============================] - 1s 2ms/step - loss: 2.7113 - accuracy: 0.1787 - val_loss: 3.0799 - val_accuracy: 0.1072\n",
      "Epoch 15/50\n",
      "381/381 [==============================] - 1s 2ms/step - loss: 2.6970 - accuracy: 0.1827 - val_loss: 3.1008 - val_accuracy: 0.1132\n",
      "Epoch 16/50\n",
      "381/381 [==============================] - 1s 2ms/step - loss: 2.6849 - accuracy: 0.1841 - val_loss: 3.1083 - val_accuracy: 0.1132\n",
      "Epoch 17/50\n",
      "381/381 [==============================] - 1s 1ms/step - loss: 2.6750 - accuracy: 0.1889 - val_loss: 3.1188 - val_accuracy: 0.1028\n",
      "Epoch 18/50\n",
      "381/381 [==============================] - 0s 1ms/step - loss: 2.6648 - accuracy: 0.1908 - val_loss: 3.1440 - val_accuracy: 0.1124\n",
      "Epoch 19/50\n",
      "381/381 [==============================] - 0s 1ms/step - loss: 2.6562 - accuracy: 0.1984 - val_loss: 3.1470 - val_accuracy: 0.1183\n",
      "Epoch 20/50\n",
      "381/381 [==============================] - 0s 1ms/step - loss: 2.6440 - accuracy: 0.2005 - val_loss: 3.1720 - val_accuracy: 0.1058\n",
      "Epoch 21/50\n",
      "381/381 [==============================] - 0s 1ms/step - loss: 2.6368 - accuracy: 0.1988 - val_loss: 3.1669 - val_accuracy: 0.1043\n",
      "Epoch 22/50\n",
      "381/381 [==============================] - 0s 1ms/step - loss: 2.6266 - accuracy: 0.2037 - val_loss: 3.1641 - val_accuracy: 0.1058\n",
      "Epoch 23/50\n",
      "381/381 [==============================] - 0s 1ms/step - loss: 2.6182 - accuracy: 0.2064 - val_loss: 3.1925 - val_accuracy: 0.1161\n",
      "Epoch 24/50\n",
      "381/381 [==============================] - 0s 1ms/step - loss: 2.6112 - accuracy: 0.2088 - val_loss: 3.1995 - val_accuracy: 0.1058\n",
      "Epoch 25/50\n",
      "381/381 [==============================] - 1s 1ms/step - loss: 2.6038 - accuracy: 0.2096 - val_loss: 3.2233 - val_accuracy: 0.1117\n",
      "Epoch 26/50\n",
      "381/381 [==============================] - 0s 1ms/step - loss: 2.5966 - accuracy: 0.2113 - val_loss: 3.2508 - val_accuracy: 0.1176\n",
      "Epoch 27/50\n",
      "381/381 [==============================] - 1s 1ms/step - loss: 2.5920 - accuracy: 0.2110 - val_loss: 3.2469 - val_accuracy: 0.1198\n",
      "Epoch 28/50\n",
      "381/381 [==============================] - 1s 1ms/step - loss: 2.5828 - accuracy: 0.2143 - val_loss: 3.2470 - val_accuracy: 0.1132\n",
      "Epoch 29/50\n",
      "381/381 [==============================] - 0s 1ms/step - loss: 2.5733 - accuracy: 0.2167 - val_loss: 3.2810 - val_accuracy: 0.1191\n",
      "Epoch 30/50\n",
      "381/381 [==============================] - 0s 1ms/step - loss: 2.5699 - accuracy: 0.2186 - val_loss: 3.2734 - val_accuracy: 0.1161\n",
      "Epoch 31/50\n",
      "381/381 [==============================] - 1s 1ms/step - loss: 2.5642 - accuracy: 0.2174 - val_loss: 3.2880 - val_accuracy: 0.1087\n",
      "Epoch 32/50\n",
      "381/381 [==============================] - 0s 1ms/step - loss: 2.5584 - accuracy: 0.2192 - val_loss: 3.3204 - val_accuracy: 0.1072\n",
      "Epoch 33/50\n",
      "381/381 [==============================] - 1s 1ms/step - loss: 2.5529 - accuracy: 0.2212 - val_loss: 3.3159 - val_accuracy: 0.1124\n",
      "Epoch 34/50\n",
      "381/381 [==============================] - 1s 1ms/step - loss: 2.5486 - accuracy: 0.2228 - val_loss: 3.3400 - val_accuracy: 0.1050\n",
      "Epoch 35/50\n",
      "381/381 [==============================] - 0s 1ms/step - loss: 2.5424 - accuracy: 0.2247 - val_loss: 3.3219 - val_accuracy: 0.1124\n",
      "Epoch 36/50\n",
      "381/381 [==============================] - 0s 1ms/step - loss: 2.5357 - accuracy: 0.2232 - val_loss: 3.3561 - val_accuracy: 0.1080\n",
      "Epoch 37/50\n",
      "381/381 [==============================] - 0s 1ms/step - loss: 2.5336 - accuracy: 0.2250 - val_loss: 3.3409 - val_accuracy: 0.1206\n",
      "Epoch 38/50\n",
      "381/381 [==============================] - 0s 1ms/step - loss: 2.5265 - accuracy: 0.2287 - val_loss: 3.3582 - val_accuracy: 0.1169\n",
      "Epoch 39/50\n",
      "381/381 [==============================] - 0s 1ms/step - loss: 2.5248 - accuracy: 0.2265 - val_loss: 3.3779 - val_accuracy: 0.1036\n",
      "Epoch 40/50\n",
      "381/381 [==============================] - 1s 1ms/step - loss: 2.5198 - accuracy: 0.2316 - val_loss: 3.3792 - val_accuracy: 0.1080\n",
      "Epoch 41/50\n",
      "381/381 [==============================] - 1s 1ms/step - loss: 2.5135 - accuracy: 0.2312 - val_loss: 3.3825 - val_accuracy: 0.1072\n",
      "Epoch 42/50\n",
      "381/381 [==============================] - 0s 1ms/step - loss: 2.5115 - accuracy: 0.2323 - val_loss: 3.3749 - val_accuracy: 0.1176\n",
      "Epoch 43/50\n",
      "381/381 [==============================] - 0s 1ms/step - loss: 2.5071 - accuracy: 0.2312 - val_loss: 3.4019 - val_accuracy: 0.1154\n",
      "Epoch 44/50\n",
      "381/381 [==============================] - 1s 1ms/step - loss: 2.5032 - accuracy: 0.2342 - val_loss: 3.3943 - val_accuracy: 0.1169\n",
      "Epoch 45/50\n",
      "381/381 [==============================] - 0s 1ms/step - loss: 2.4985 - accuracy: 0.2336 - val_loss: 3.4471 - val_accuracy: 0.1109\n",
      "Epoch 46/50\n",
      "381/381 [==============================] - 1s 1ms/step - loss: 2.4926 - accuracy: 0.2401 - val_loss: 3.4347 - val_accuracy: 0.1161\n",
      "Epoch 47/50\n",
      "381/381 [==============================] - 0s 1ms/step - loss: 2.4920 - accuracy: 0.2346 - val_loss: 3.4574 - val_accuracy: 0.1124\n",
      "Epoch 48/50\n",
      "381/381 [==============================] - 0s 1ms/step - loss: 2.4870 - accuracy: 0.2411 - val_loss: 3.4618 - val_accuracy: 0.1065\n",
      "Epoch 49/50\n",
      "381/381 [==============================] - 0s 1ms/step - loss: 2.4824 - accuracy: 0.2353 - val_loss: 3.4715 - val_accuracy: 0.1132\n",
      "Epoch 50/50\n",
      "381/381 [==============================] - 0s 1ms/step - loss: 2.4813 - accuracy: 0.2364 - val_loss: 3.4608 - val_accuracy: 0.1176\n",
      "106/106 [==============================] - 0s 923us/step - loss: 3.3690 - accuracy: 0.1139\n",
      "Accuracy: 0.11390532553195953\n"
     ]
    }
   ],
   "source": [
    "import numpy as np\n",
    "from sklearn.model_selection import train_test_split\n",
    "from sklearn.preprocessing import LabelEncoder, StandardScaler\n",
    "from tensorflow.keras.models import Sequential\n",
    "from tensorflow.keras.layers import Dense\n",
    "from tensorflow.keras.utils import to_categorical\n",
    "\n",
    "# Convert the target labels to numerical values using LabelEncoder\n",
    "label_encoder = LabelEncoder()\n",
    "y_encoded = label_encoder.fit_transform(y)\n",
    "\n",
    "# One-hot encode the target labels\n",
    "y_encoded_categorical = to_categorical(y_encoded)\n",
    "\n",
    "# Split the data into training and testing sets\n",
    "X_train, X_test, y_train, y_test = train_test_split(X_encoded, y_encoded_categorical, test_size=0.2, random_state=42)\n",
    "\n",
    "# Scale the input features for better convergence in the neural network\n",
    "scaler = StandardScaler()\n",
    "X_train_scaled = scaler.fit_transform(X_train)\n",
    "X_test_scaled = scaler.transform(X_test)\n",
    "\n",
    "# Create the neural network model\n",
    "model = Sequential()\n",
    "model.add(Dense(64, input_dim=X_train_scaled.shape[1], activation='relu'))\n",
    "model.add(Dense(32, activation='relu'))\n",
    "model.add(Dense(y_encoded_categorical.shape[1], activation='softmax'))\n",
    "\n",
    "# Compile the model\n",
    "model.compile(loss='categorical_crossentropy', optimizer='adam', metrics=['accuracy'])\n",
    "\n",
    "# Train the neural network model\n",
    "model.fit(X_train_scaled, y_train, epochs=50, batch_size=32, validation_split=0.1)\n",
    "\n",
    "# Evaluate the model on the test set\n",
    "accuracy = model.evaluate(X_test_scaled, y_test)[1]\n",
    "print(f\"Accuracy: {accuracy}\")\n"
   ]
  },
  {
   "cell_type": "code",
   "execution_count": null,
   "id": "7d89b679",
   "metadata": {},
   "outputs": [],
   "source": []
  },
  {
   "cell_type": "code",
   "execution_count": null,
   "id": "79a142a0",
   "metadata": {},
   "outputs": [],
   "source": []
  },
  {
   "cell_type": "code",
   "execution_count": null,
   "id": "6067ad1c",
   "metadata": {},
   "outputs": [],
   "source": []
  },
  {
   "cell_type": "code",
   "execution_count": 63,
   "id": "8c3cfb9a",
   "metadata": {},
   "outputs": [
    {
     "name": "stdout",
     "output_type": "stream",
     "text": [
      "Requirement already satisfied: joblib in /Users/jorgedennis/opt/anaconda3/lib/python3.9/site-packages (1.3.1)\n",
      "Note: you may need to restart the kernel to use updated packages.\n"
     ]
    }
   ],
   "source": [
    "pip install joblib\n"
   ]
  },
  {
   "cell_type": "code",
   "execution_count": 39,
   "id": "103e775b",
   "metadata": {},
   "outputs": [
    {
     "data": {
      "text/plain": [
       "['random_forest_model.pkl']"
      ]
     },
     "execution_count": 39,
     "metadata": {},
     "output_type": "execute_result"
    }
   ],
   "source": [
    "### SAVE ###\n",
    "\n",
    "# from sklearn.externals import joblib\n",
    "# clf = RandomForestClassifier()\n",
    "# clf.fit(X_train, y_train)\n",
    "# joblib.dump(clf, 'salary_random_forest_model.pkl')\n",
    "\n",
    "import joblib\n",
    "\n",
    "# Save the trained model to a file\n",
    "joblib.dump(clf, 'random_forest_model.pkl')\n"
   ]
  },
  {
   "cell_type": "code",
   "execution_count": null,
   "id": "0cb4fb85",
   "metadata": {},
   "outputs": [],
   "source": []
  },
  {
   "cell_type": "code",
   "execution_count": null,
   "id": "b39476a9",
   "metadata": {},
   "outputs": [],
   "source": []
  },
  {
   "cell_type": "code",
   "execution_count": null,
   "id": "7f38f3cc",
   "metadata": {},
   "outputs": [],
   "source": []
  },
  {
   "cell_type": "code",
   "execution_count": null,
   "id": "598e80bb",
   "metadata": {},
   "outputs": [],
   "source": []
  },
  {
   "cell_type": "code",
   "execution_count": null,
   "id": "f4b2486c",
   "metadata": {},
   "outputs": [],
   "source": []
  },
  {
   "cell_type": "code",
   "execution_count": null,
   "id": "d28166d6",
   "metadata": {},
   "outputs": [],
   "source": []
  },
  {
   "cell_type": "code",
   "execution_count": null,
   "id": "1fc25ef7",
   "metadata": {},
   "outputs": [],
   "source": []
  },
  {
   "cell_type": "code",
   "execution_count": null,
   "id": "c5e3532b",
   "metadata": {},
   "outputs": [],
   "source": []
  },
  {
   "cell_type": "code",
   "execution_count": null,
   "id": "320811a9",
   "metadata": {},
   "outputs": [],
   "source": []
  },
  {
   "cell_type": "code",
   "execution_count": null,
   "id": "28d94ebc",
   "metadata": {},
   "outputs": [],
   "source": []
  },
  {
   "cell_type": "code",
   "execution_count": null,
   "id": "7cbfbb52",
   "metadata": {},
   "outputs": [],
   "source": []
  },
  {
   "cell_type": "code",
   "execution_count": 40,
   "id": "c4f545c0",
   "metadata": {},
   "outputs": [],
   "source": [
    "## IQR\n",
    "\n",
    "# Q1 = df_clean['totalyearlycompensation'].quantile(0.25)\n",
    "# Q3 = df_clean['totalyearlycompensation'].quantile(0.75)\n",
    "# IQR = Q3 - Q1\n",
    "\n",
    "# lower_bound = Q1 - 1.5 * IQR\n",
    "# upper_bound = Q3 + 1.5 * IQR\n",
    "\n",
    "# outliers = df_clean[(df_clean['totalyearlycompensation'] < lower_bound) | (df_clean['totalyearlycompensation'] > upper_bound)]\n",
    "# outliers\n"
   ]
  },
  {
   "cell_type": "code",
   "execution_count": null,
   "id": "7af05e0a",
   "metadata": {},
   "outputs": [],
   "source": []
  }
 ],
 "metadata": {
  "kernelspec": {
   "display_name": "Python 3 (ipykernel)",
   "language": "python",
   "name": "python3"
  },
  "language_info": {
   "codemirror_mode": {
    "name": "ipython",
    "version": 3
   },
   "file_extension": ".py",
   "mimetype": "text/x-python",
   "name": "python",
   "nbconvert_exporter": "python",
   "pygments_lexer": "ipython3",
   "version": "3.9.13"
  }
 },
 "nbformat": 4,
 "nbformat_minor": 5
}
