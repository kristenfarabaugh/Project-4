{
 "cells": [
  {
   "cell_type": "code",
   "execution_count": 212,
   "id": "3d623be2",
   "metadata": {},
   "outputs": [],
   "source": [
    "# Import dependencies\n",
    "import pandas as pd\n",
    "import pandas as pd\n",
    "import hvplot.pandas\n",
    "from pathlib import Path\n",
    "from sklearn.linear_model import LinearRegression\n",
    "from sklearn.model_selection import train_test_split\n",
    "from sklearn.preprocessing import StandardScaler\n",
    "import numpy as np\n",
    "from sklearn.metrics import mean_squared_error, r2_score\n",
    "from sklearn.decomposition import PCA\n",
    "from sklearn.tree import DecisionTreeClassifier\n",
    "from sklearn.metrics import accuracy_score\n",
    "from imblearn.under_sampling import RandomUnderSampler\n",
    "from imblearn.over_sampling import RandomOverSampler"
   ]
  },
  {
   "cell_type": "markdown",
   "id": "ff9bc36d",
   "metadata": {},
   "source": [
    "## Pull and Clean the Data "
   ]
  },
  {
   "cell_type": "code",
   "execution_count": 213,
   "id": "05b9e958",
   "metadata": {},
   "outputs": [
    {
     "data": {
      "text/html": [
       "<div>\n",
       "<style scoped>\n",
       "    .dataframe tbody tr th:only-of-type {\n",
       "        vertical-align: middle;\n",
       "    }\n",
       "\n",
       "    .dataframe tbody tr th {\n",
       "        vertical-align: top;\n",
       "    }\n",
       "\n",
       "    .dataframe thead th {\n",
       "        text-align: right;\n",
       "    }\n",
       "</style>\n",
       "<table border=\"1\" class=\"dataframe\">\n",
       "  <thead>\n",
       "    <tr style=\"text-align: right;\">\n",
       "      <th></th>\n",
       "      <th>timestamp</th>\n",
       "      <th>company</th>\n",
       "      <th>level</th>\n",
       "      <th>title</th>\n",
       "      <th>totalyearlycompensation</th>\n",
       "      <th>location</th>\n",
       "      <th>yearsofexperience</th>\n",
       "      <th>yearsatcompany</th>\n",
       "      <th>tag</th>\n",
       "      <th>basesalary</th>\n",
       "      <th>...</th>\n",
       "      <th>Race_White</th>\n",
       "      <th>Race_Two_Or_More</th>\n",
       "      <th>Race_Black</th>\n",
       "      <th>Race_Hispanic</th>\n",
       "      <th>Race</th>\n",
       "      <th>Education</th>\n",
       "      <th>location.1</th>\n",
       "      <th>Unnamed: 30</th>\n",
       "      <th>Unnamed: 31</th>\n",
       "      <th>Unnamed: 32</th>\n",
       "    </tr>\n",
       "  </thead>\n",
       "  <tbody>\n",
       "    <tr>\n",
       "      <th>0</th>\n",
       "      <td>6/7/17 11:33</td>\n",
       "      <td>Oracle</td>\n",
       "      <td>L3</td>\n",
       "      <td>Product Manager</td>\n",
       "      <td>127000</td>\n",
       "      <td>Redwood City, CA</td>\n",
       "      <td>1.5</td>\n",
       "      <td>1.5</td>\n",
       "      <td>NaN</td>\n",
       "      <td>107000</td>\n",
       "      <td>...</td>\n",
       "      <td>0</td>\n",
       "      <td>0</td>\n",
       "      <td>0</td>\n",
       "      <td>0</td>\n",
       "      <td>NaN</td>\n",
       "      <td>NaN</td>\n",
       "      <td>Redwood City</td>\n",
       "      <td>CA</td>\n",
       "      <td>NaN</td>\n",
       "      <td>NaN</td>\n",
       "    </tr>\n",
       "    <tr>\n",
       "      <th>1</th>\n",
       "      <td>6/10/17 17:11</td>\n",
       "      <td>eBay</td>\n",
       "      <td>SE 2</td>\n",
       "      <td>Software Engineer</td>\n",
       "      <td>100000</td>\n",
       "      <td>San Francisco, CA</td>\n",
       "      <td>5.0</td>\n",
       "      <td>3.0</td>\n",
       "      <td>NaN</td>\n",
       "      <td>0</td>\n",
       "      <td>...</td>\n",
       "      <td>0</td>\n",
       "      <td>0</td>\n",
       "      <td>0</td>\n",
       "      <td>0</td>\n",
       "      <td>NaN</td>\n",
       "      <td>NaN</td>\n",
       "      <td>San Francisco</td>\n",
       "      <td>CA</td>\n",
       "      <td>NaN</td>\n",
       "      <td>NaN</td>\n",
       "    </tr>\n",
       "    <tr>\n",
       "      <th>2</th>\n",
       "      <td>6/11/17 14:53</td>\n",
       "      <td>Amazon</td>\n",
       "      <td>L7</td>\n",
       "      <td>Product Manager</td>\n",
       "      <td>310000</td>\n",
       "      <td>Seattle, WA</td>\n",
       "      <td>8.0</td>\n",
       "      <td>0.0</td>\n",
       "      <td>NaN</td>\n",
       "      <td>155000</td>\n",
       "      <td>...</td>\n",
       "      <td>0</td>\n",
       "      <td>0</td>\n",
       "      <td>0</td>\n",
       "      <td>0</td>\n",
       "      <td>NaN</td>\n",
       "      <td>NaN</td>\n",
       "      <td>Seattle</td>\n",
       "      <td>WA</td>\n",
       "      <td>NaN</td>\n",
       "      <td>NaN</td>\n",
       "    </tr>\n",
       "    <tr>\n",
       "      <th>3</th>\n",
       "      <td>6/17/17 0:23</td>\n",
       "      <td>Apple</td>\n",
       "      <td>M1</td>\n",
       "      <td>Software Engineering Manager</td>\n",
       "      <td>372000</td>\n",
       "      <td>Sunnyvale, CA</td>\n",
       "      <td>7.0</td>\n",
       "      <td>5.0</td>\n",
       "      <td>NaN</td>\n",
       "      <td>157000</td>\n",
       "      <td>...</td>\n",
       "      <td>0</td>\n",
       "      <td>0</td>\n",
       "      <td>0</td>\n",
       "      <td>0</td>\n",
       "      <td>NaN</td>\n",
       "      <td>NaN</td>\n",
       "      <td>Sunnyvale</td>\n",
       "      <td>CA</td>\n",
       "      <td>NaN</td>\n",
       "      <td>NaN</td>\n",
       "    </tr>\n",
       "    <tr>\n",
       "      <th>4</th>\n",
       "      <td>6/20/17 10:58</td>\n",
       "      <td>Microsoft</td>\n",
       "      <td>60</td>\n",
       "      <td>Software Engineer</td>\n",
       "      <td>157000</td>\n",
       "      <td>Mountain View, CA</td>\n",
       "      <td>5.0</td>\n",
       "      <td>3.0</td>\n",
       "      <td>NaN</td>\n",
       "      <td>0</td>\n",
       "      <td>...</td>\n",
       "      <td>0</td>\n",
       "      <td>0</td>\n",
       "      <td>0</td>\n",
       "      <td>0</td>\n",
       "      <td>NaN</td>\n",
       "      <td>NaN</td>\n",
       "      <td>Mountain View</td>\n",
       "      <td>CA</td>\n",
       "      <td>NaN</td>\n",
       "      <td>NaN</td>\n",
       "    </tr>\n",
       "  </tbody>\n",
       "</table>\n",
       "<p>5 rows × 33 columns</p>\n",
       "</div>"
      ],
      "text/plain": [
       "       timestamp    company level                         title  \\\n",
       "0   6/7/17 11:33     Oracle    L3               Product Manager   \n",
       "1  6/10/17 17:11       eBay  SE 2             Software Engineer   \n",
       "2  6/11/17 14:53     Amazon    L7               Product Manager   \n",
       "3   6/17/17 0:23      Apple    M1  Software Engineering Manager   \n",
       "4  6/20/17 10:58  Microsoft    60             Software Engineer   \n",
       "\n",
       "   totalyearlycompensation           location  yearsofexperience  \\\n",
       "0                   127000   Redwood City, CA                1.5   \n",
       "1                   100000  San Francisco, CA                5.0   \n",
       "2                   310000        Seattle, WA                8.0   \n",
       "3                   372000      Sunnyvale, CA                7.0   \n",
       "4                   157000  Mountain View, CA                5.0   \n",
       "\n",
       "   yearsatcompany  tag  basesalary  ...  Race_White  Race_Two_Or_More  \\\n",
       "0             1.5  NaN      107000  ...           0                 0   \n",
       "1             3.0  NaN           0  ...           0                 0   \n",
       "2             0.0  NaN      155000  ...           0                 0   \n",
       "3             5.0  NaN      157000  ...           0                 0   \n",
       "4             3.0  NaN           0  ...           0                 0   \n",
       "\n",
       "  Race_Black Race_Hispanic  Race  Education     location.1  Unnamed: 30  \\\n",
       "0          0             0   NaN        NaN   Redwood City           CA   \n",
       "1          0             0   NaN        NaN  San Francisco           CA   \n",
       "2          0             0   NaN        NaN        Seattle           WA   \n",
       "3          0             0   NaN        NaN      Sunnyvale           CA   \n",
       "4          0             0   NaN        NaN  Mountain View           CA   \n",
       "\n",
       "   Unnamed: 31  Unnamed: 32  \n",
       "0          NaN          NaN  \n",
       "1          NaN          NaN  \n",
       "2          NaN          NaN  \n",
       "3          NaN          NaN  \n",
       "4          NaN          NaN  \n",
       "\n",
       "[5 rows x 33 columns]"
      ]
     },
     "execution_count": 213,
     "metadata": {},
     "output_type": "execute_result"
    }
   ],
   "source": [
    "df = pd.read_csv(\"Resources/Levels_Fyi_Salary_Data.csv\")\n",
    "df.head()"
   ]
  },
  {
   "cell_type": "code",
   "execution_count": null,
   "id": "9d5a39a1",
   "metadata": {},
   "outputs": [
    {
     "name": "stdout",
     "output_type": "stream",
     "text": [
      "<class 'pandas.core.frame.DataFrame'>\n",
      "Int64Index: 62618 entries, 0 to 62641\n",
      "Data columns (total 33 columns):\n",
      " #   Column                   Non-Null Count  Dtype  \n",
      "---  ------                   --------------  -----  \n",
      " 0   timestamp                62618 non-null  object \n",
      " 1   company                  62613 non-null  object \n",
      " 2   level                    62499 non-null  object \n",
      " 3   title                    62618 non-null  object \n",
      " 4   totalyearlycompensation  62618 non-null  int64  \n",
      " 5   location                 62618 non-null  object \n",
      " 6   yearsofexperience        62618 non-null  float64\n",
      " 7   yearsatcompany           62618 non-null  float64\n",
      " 8   tag                      61764 non-null  object \n",
      " 9   basesalary               62618 non-null  int64  \n",
      " 10  stockgrantvalue          62618 non-null  float64\n",
      " 11  bonus                    62618 non-null  float64\n",
      " 12  gender                   43083 non-null  object \n",
      " 13  otherdetails             40120 non-null  object \n",
      " 14  cityid                   62618 non-null  int64  \n",
      " 15  dmaid                    62616 non-null  float64\n",
      " 16  rowNumber                62618 non-null  int64  \n",
      " 17  Masters_Degree           62618 non-null  int64  \n",
      " 18  Bachelors_Degree         62618 non-null  int64  \n",
      " 19  Doctorate_Degree         62618 non-null  int64  \n",
      " 20  Highschool               62618 non-null  int64  \n",
      " 21  Some_College             62618 non-null  int64  \n",
      " 22  Race_Asian               62618 non-null  int64  \n",
      " 23  Race_White               62618 non-null  int64  \n",
      " 24  Race_Two_Or_More         62618 non-null  int64  \n",
      " 25  Race_Black               62618 non-null  int64  \n",
      " 26  Race_Hispanic            62618 non-null  int64  \n",
      " 27  Race                     22416 non-null  object \n",
      " 28  Education                30354 non-null  object \n",
      " 29  location.1               62618 non-null  object \n",
      " 30  Unnamed: 30              62618 non-null  object \n",
      " 31  Unnamed: 31              9778 non-null   object \n",
      " 32  Unnamed: 32              0 non-null      object \n",
      "dtypes: float64(5), int64(14), object(14)\n",
      "memory usage: 16.2+ MB\n"
     ]
    }
   ],
   "source": [
    "# Remove nulls\n",
    "df = df[df['Unnamed: 32'].isnull()]\n",
    "df.info()"
   ]
  },
  {
   "cell_type": "code",
   "execution_count": null,
   "id": "48d77fef",
   "metadata": {},
   "outputs": [],
   "source": [
    "# Remove nulls\n",
    "df = df[df['Unnamed: 31'].isnull()]\n",
    "df.info()"
   ]
  },
  {
   "cell_type": "code",
   "execution_count": null,
   "id": "44ce9507",
   "metadata": {},
   "outputs": [],
   "source": [
    "# Review the education column to see distinct values\n",
    "df['Education'].value_counts()"
   ]
  },
  {
   "cell_type": "code",
   "execution_count": null,
   "id": "222a54f6",
   "metadata": {},
   "outputs": [],
   "source": [
    "#Create a function to group education data into less bins\n",
    "def education(value):\n",
    "    if value == \"Bachelor's Degree\":\n",
    "        return \"College\"\n",
    "    elif value == \"Highschool\" or value == \"Some College\":\n",
    "        return \"High School\"\n",
    "    else:\n",
    "        return value\n",
    " \n",
    "df['education_mapped'] = df['Education'].map(education)\n",
    "df['education_mapped'].value_counts()"
   ]
  },
  {
   "cell_type": "code",
   "execution_count": null,
   "id": "62529009",
   "metadata": {},
   "outputs": [],
   "source": [
    "# Review the Race column to see distinct values\n",
    "df['Race'].value_counts()"
   ]
  },
  {
   "cell_type": "code",
   "execution_count": null,
   "id": "4e77d1e3",
   "metadata": {},
   "outputs": [],
   "source": [
    "# Create a function to group race data\n",
    "def race(value):\n",
    "    if value == 'White':\n",
    "        return \"White\"\n",
    "    if value == 'Asian':\n",
    "        return \"Asian\"\n",
    "    else:\n",
    "        return \"Minority\"\n",
    " \n",
    "df['race_mapped'] = df['Race'].map(race)\n",
    "df['race_mapped'].value_counts()"
   ]
  },
  {
   "cell_type": "code",
   "execution_count": null,
   "id": "5b463ecf",
   "metadata": {},
   "outputs": [],
   "source": [
    "# Review the Title column to see distinct values\n",
    "df['title'].value_counts()"
   ]
  },
  {
   "cell_type": "code",
   "execution_count": null,
   "id": "35b1157e",
   "metadata": {},
   "outputs": [],
   "source": [
    "# Create a function to group title\n",
    "def title(value):\n",
    "    if value == 'Software Engineer': \n",
    "        return \"Software Engineering\"\n",
    "    #or value == 'Solution Architect':\n",
    "#         return \"Software Engineering\"\n",
    "#     elif value == 'Product Manager' or value == 'Technical Program Manager':\n",
    "#         return \"Product Manager\"\n",
    "#     elif value == 'Mechanical Engineer':\n",
    "#         return \"Mechanical Engineer\"\n",
    "#     elif value == 'Hardware Engineer':\n",
    "#         return \"Hardware Engineer\"\n",
    "#     elif value == 'Management Consultant' or value == 'Business Analyst':\n",
    "#         return \"Business Analyst\"\n",
    "#     elif value == 'Marketing' or value == 'Sales':\n",
    "#         return \"Marketing / Sales\"\n",
    "#     elif value == 'Data Scientist':\n",
    "#         return \"Data Scientist\"\n",
    "#     elif value == 'Recruiter':\n",
    "#         return \"Recruiter\"\n",
    "#     elif value == 'Sales' or value == 'Marketing':\n",
    "#         return \"Sales/Marketing\"\n",
    "#     elif value == 'Human Resources':\n",
    "#         return \"Human Resources\"\n",
    "    else:\n",
    "        return value\n",
    "#         return \"Product Designer\"\n",
    " \n",
    "df['title_mapped'] = df['title'].map(title)\n",
    "df['title_mapped'].value_counts()"
   ]
  },
  {
   "cell_type": "code",
   "execution_count": null,
   "id": "b83541ea",
   "metadata": {},
   "outputs": [],
   "source": [
    "# Review the YOE column to see distinct values\n",
    "df['yearsofexperience'].value_counts()"
   ]
  },
  {
   "cell_type": "code",
   "execution_count": null,
   "id": "64005c9e",
   "metadata": {},
   "outputs": [],
   "source": [
    "# Create a function to group YOE\n",
    "def title(value):\n",
    "    if value <= 1:\n",
    "        return \"1 or less\"\n",
    "    elif value <= 2:\n",
    "        return \"Between 1 and 2\"\n",
    "    elif value <= 3:\n",
    "        return \"Between 2 and 3\"\n",
    "    elif value <= 4:\n",
    "        return \"Between 3 and 4\"\n",
    "    elif value <= 5:\n",
    "        return \"Between 4 and 5\"\n",
    "    elif value <= 6:\n",
    "        return \"Between 5 and 6\"\n",
    "    elif value <= 7:\n",
    "        return \"Between 6 and 7\"\n",
    "    elif value <= 8:\n",
    "        return \"Between 7 and 8\"\n",
    "    elif value <= 9:\n",
    "        return \"Between 8 and 9\"\n",
    "    elif value <= 10:\n",
    "        return \"Between 9 and 10\"\n",
    "    elif value <= 11:\n",
    "        return \"Between 10 and 11\"\n",
    "    elif value <= 12:\n",
    "        return \"Between 11 and 12\"\n",
    "    elif value <= 13:\n",
    "        return \"Between 12 and 13\"\n",
    "    elif value <= 14:\n",
    "        return \"Between 13 and 14\"\n",
    "    elif value <= 15:\n",
    "        return \"Between 14 and 15\"\n",
    "    elif value <= 16:\n",
    "        return \"Between 15 and 16\"\n",
    "    elif value <= 17:\n",
    "        return \"Between 16 and 17\"\n",
    "    elif value <= 18:\n",
    "        return \"Between 17 and 18\"\n",
    "    elif value <= 19:\n",
    "        return \"Between 18 and 19\"\n",
    "    elif value <= 20:\n",
    "        return \"Between 19 and 20\"\n",
    "    elif value <= 21:\n",
    "        return \"Between 20 and 21\"\n",
    "    elif value <= 22:\n",
    "        return \"Between 21 and 22\"\n",
    "    elif value <= 23:\n",
    "        return \"Between 22 and 23\"\n",
    "    elif value <= 24:\n",
    "        return \"Between 23 and 24\"\n",
    "    elif value <= 25:\n",
    "        return \"Between 24 and 25\"\n",
    "    elif value <= 26:\n",
    "        return \"Between 25 and 26\"\n",
    "    elif value <= 27:\n",
    "        return \"Between 26 and 27\"\n",
    "    elif value <= 28:\n",
    "        return \"Between 27 and 28\"\n",
    "    elif value <= 29:\n",
    "        return \"Between 28 and 29\"\n",
    "    elif value <= 30:\n",
    "        return \"Between 29 and 30\"\n",
    "    elif value <= 31:\n",
    "        return \"Between 30 and 31\"\n",
    "    elif value <= 32:\n",
    "        return \"Between 31 and 32\"\n",
    "    elif value <= 33:\n",
    "        return \"Between 32 and 33\"\n",
    "    elif value <= 34:\n",
    "        return \"Between 33 and 34\"\n",
    "    elif value <= 35:\n",
    "        return \"Between 34 and 35\"\n",
    "    else:\n",
    "        return \"35+\"   \n",
    "\n",
    "df['years_of_experience_mapped'] = df['yearsofexperience'].map(title)\n",
    "df['years_of_experience_mapped'].value_counts()"
   ]
  },
  {
   "cell_type": "code",
   "execution_count": null,
   "id": "9b6bb966",
   "metadata": {},
   "outputs": [],
   "source": [
    "# Review the state column to see distinct values\n",
    "df['Unnamed: 30'].value_counts()"
   ]
  },
  {
   "cell_type": "code",
   "execution_count": null,
   "id": "3a42f407",
   "metadata": {},
   "outputs": [],
   "source": [
    "# Create a function to group States\n",
    "state_list = [' CA',' WA', ' NY', ' TX', ' MA', ' VA', ' IL', ' OR', ' DC', ' CO', ' GA', ' NC', ' PA', ' NJ',' AZ', ' FL', ' MN', ' UT', ' MI', ' OH', 'MO']\n",
    "def state(value):\n",
    "    if value in state_list:\n",
    "        return value\n",
    "    else:\n",
    "        return \"Other\"\n",
    "\n",
    "     \n",
    "df['state_mapped'] = df['Unnamed: 30'].map(state)\n",
    "df['state_mapped'].value_counts()"
   ]
  },
  {
   "cell_type": "code",
   "execution_count": null,
   "id": "81d49d97",
   "metadata": {},
   "outputs": [],
   "source": [
    "# Review the base salary column to see distinct values\n",
    "df['basesalary'].value_counts()"
   ]
  },
  {
   "cell_type": "code",
   "execution_count": null,
   "id": "aa0b4194",
   "metadata": {},
   "outputs": [],
   "source": [
    "# Create a function to group base salaries\n",
    "# Define the bin intervals and labels\n",
    "start_value = 60000\n",
    "end_value = 700000\n",
    "bin_increment = 15000\n",
    "\n",
    "# Create the bin edges\n",
    "bin_edges = list(range(start_value, end_value + bin_increment, bin_increment))\n",
    "bin_labels = [f'${value}-{value+bin_increment-1}k' for value in bin_edges[:-1]]\n",
    "bin_labels.append('$250000+')\n",
    "\n",
    "# Create the 'Salary_Range' column\n",
    "df['salary_mapped'] = pd.cut(df['basesalary'], bins=bin_edges, labels=bin_labels[:-1], right=False)\n",
    "\n",
    "# Update the categories of the 'Salary_Range' column\n",
    "bin_labels.insert(0, '<$60000')\n",
    "df['salary_mapped'] = pd.Categorical(df['salary_mapped'], categories=bin_labels)\n",
    "\n",
    "# Assign \"<$60000\" label to values less than $60000\n",
    "df.loc[df['basesalary'] < start_value, 'salary_mapped'] = '<$60000'\n",
    "df.loc[df['basesalary'] > end_value, 'salary_mapped'] = '$250000+'\n",
    "\n",
    "df['basesalary'].value_counts()"
   ]
  },
  {
   "cell_type": "code",
   "execution_count": null,
   "id": "57e97062",
   "metadata": {},
   "outputs": [],
   "source": [
    "# Drop unneeded columns\n",
    "df_final = df.drop(columns=['timestamp', 'company', 'level','location', 'tag', 'Unnamed: 31','Unnamed: 32','Masters_Degree', 'Bachelors_Degree', 'Doctorate_Degree','Highschool','Some_College','Race_Asian','Race_White','Race_Two_Or_More','Race_Black','Race_Hispanic', 'otherdetails', 'dmaid', 'rowNumber', 'stockgrantvalue', 'bonus', 'Unnamed: 30', 'title', 'yearsatcompany', 'yearsofexperience', 'location.1' , 'cityid'])\n",
    "df_final"
   ]
  },
  {
   "cell_type": "code",
   "execution_count": null,
   "id": "97c6dff7",
   "metadata": {},
   "outputs": [],
   "source": [
    "# Drop nulls from dataframe\n",
    "df_final = df_final.dropna(subset=['Race', 'Education', 'gender', 'salary_mapped'])\n",
    "df_final"
   ]
  },
  {
   "cell_type": "code",
   "execution_count": null,
   "id": "f9ca7e4d",
   "metadata": {},
   "outputs": [],
   "source": [
    "# Rename columns\n",
    "df_final = df_final.rename(columns={'location.1': 'city', 'Race': 'race', 'Education': 'education' })\n",
    "df_final"
   ]
  },
  {
   "cell_type": "code",
   "execution_count": null,
   "id": "e1ba37eb",
   "metadata": {},
   "outputs": [],
   "source": [
    "# Finalize the df with only needed columns\n",
    "df_final = df_final[['basesalary','salary_mapped', 'gender', 'education_mapped', 'race_mapped', 'title_mapped', 'years_of_experience_mapped', 'state_mapped']]\n",
    "df_final"
   ]
  },
  {
   "cell_type": "markdown",
   "id": "3e4198cf",
   "metadata": {},
   "source": [
    "## Linear Regression"
   ]
  },
  {
   "cell_type": "code",
   "execution_count": null,
   "id": "e194b248",
   "metadata": {},
   "outputs": [],
   "source": [
    "# Linear Regression\n",
    "# Define variables\n",
    "# Didn't scale the data due to the # of booleans we have in the data set\n",
    "y = df_final['basesalary']\n",
    "X = pd.get_dummies(df_final[['gender', 'education_mapped', 'race_mapped', 'title_mapped', 'years_of_experience_mapped']])\n",
    "X"
   ]
  },
  {
   "cell_type": "code",
   "execution_count": null,
   "id": "1bbfeba5",
   "metadata": {},
   "outputs": [],
   "source": [
    "# Split between testing and training \n",
    "X_train, X_test, y_train, y_test = train_test_split(X, y, random_state = 42)\n"
   ]
  },
  {
   "cell_type": "code",
   "execution_count": null,
   "id": "01b440a9",
   "metadata": {},
   "outputs": [],
   "source": [
    "# Fit model and build predictions\n",
    "model = LinearRegression()\n",
    "model.fit(X_train, y_train)\n",
    "y_pred = model.predict(X_test)"
   ]
  },
  {
   "cell_type": "code",
   "execution_count": null,
   "id": "f6b55e3d",
   "metadata": {},
   "outputs": [],
   "source": [
    "# Calculate mean squared error\n",
    "mse = mean_squared_error(y_test, y_pred)\n",
    "print(\"Mean Squared Error:\", mse)\n",
    "\n",
    "# Calculate R-squared score\n",
    "r2 = r2_score(y_test, y_pred)\n",
    "print(\"R-squared Score:\", r2)\n",
    "\n",
    "# R-squared value is .34 (not good)"
   ]
  },
  {
   "cell_type": "markdown",
   "id": "a494eacf",
   "metadata": {},
   "source": [
    "## PCA"
   ]
  },
  {
   "cell_type": "code",
   "execution_count": null,
   "id": "b824691b",
   "metadata": {},
   "outputs": [],
   "source": [
    "# # Create an instance of PCA and look for 4 most relevant characters of the model \n",
    "# pca = PCA(n_components=4)"
   ]
  },
  {
   "cell_type": "code",
   "execution_count": null,
   "id": "7f9d9642",
   "metadata": {},
   "outputs": [],
   "source": [
    "# # # Create a df removing the y / dependent variables\n",
    "# final_df_target_removed = df_final.drop(columns = ['basesalary', 'totalyearlycompensation', 'title', 'race', 'education','cityid','yearsatcompany'])\n",
    "# final_df_target_removed"
   ]
  },
  {
   "cell_type": "code",
   "execution_count": null,
   "id": "39967022",
   "metadata": {},
   "outputs": [],
   "source": [
    "# # Fit the PCA model on the transformed credit card DataFrame\n",
    "# # final_df_pca = pca.fit_transform(pd.get_dummies(df_final))\n",
    "# final_df_pca = pca.fit_transform(pd.get_dummies(final_df_target_removed))\n",
    "\n",
    "# # Review the first 5 rows of the array of list data\n",
    "# # Putting data into array makes it easy to analyze\n",
    "# final_df_pca[:3]"
   ]
  },
  {
   "cell_type": "code",
   "execution_count": null,
   "id": "b1d35054",
   "metadata": {},
   "outputs": [],
   "source": [
    "# # Calculate the PCA explained variance ratio\n",
    "# # Four components explain 98% of the variance found in the original model\n",
    "# pca.explained_variance_ratio_"
   ]
  },
  {
   "cell_type": "code",
   "execution_count": null,
   "id": "ab1c797d",
   "metadata": {},
   "outputs": [],
   "source": [
    "# # Create a PCA df\n",
    "# final_df_pca = pd.DataFrame(\n",
    "#     final_df_pca,\n",
    "#     columns=[\"PCA1\", \"PCA2\", \"PCA3\", \"PCA4\"]\n",
    "# )\n",
    "\n",
    "# # Review the PCA DataFrame\n",
    "# final_df_pca.head()"
   ]
  },
  {
   "cell_type": "markdown",
   "id": "ff173fb2",
   "metadata": {},
   "source": [
    "## Random Forest"
   ]
  },
  {
   "cell_type": "code",
   "execution_count": null,
   "id": "b4cbc136",
   "metadata": {},
   "outputs": [],
   "source": [
    "X = df_final.drop(columns=['basesalary', 'salary_mapped'])\n",
    "y = df_final['basesalary']\n",
    "X_encoded = pd.get_dummies(X)\n",
    "X_encoded"
   ]
  },
  {
   "cell_type": "code",
   "execution_count": null,
   "id": "ecbe49fc",
   "metadata": {},
   "outputs": [],
   "source": [
    "from sklearn.ensemble import RandomForestClassifier\n",
    "model = RandomForestClassifier(random_state=42)\n",
    "model.fit(X_encoded, y)\n",
    "y_pred = model.predict(X_encoded)\n",
    "from sklearn.metrics import accuracy_score\n",
    "\n",
    "accuracy = accuracy_score(y, y_pred)\n",
    "print('Accuracy:', accuracy)"
   ]
  },
  {
   "cell_type": "code",
   "execution_count": null,
   "id": "e17f350d",
   "metadata": {},
   "outputs": [],
   "source": [
    "# Over Sampling\n",
    "ros = RandomOverSampler()\n",
    "X_oversampled, y_oversampled = ros.fit_resample(X_encoded, y)"
   ]
  },
  {
   "cell_type": "code",
   "execution_count": null,
   "id": "81ac03e8",
   "metadata": {},
   "outputs": [],
   "source": [
    "# Over Sampling w/ Random Forest\n",
    "X_train, X_test, y_train, y_test = train_test_split(X_oversampled, y_oversampled, test_size=0.2, random_state=42)\n",
    "clf = RandomForestClassifier()\n",
    "clf.fit(X_train, y_train)\n",
    "y_pred = clf.predict(X_test)\n",
    "accuracy = accuracy_score(y_test, y_pred)\n",
    "print(f\"Accuracy: {accuracy}\")"
   ]
  },
  {
   "cell_type": "markdown",
   "id": "0a17d695",
   "metadata": {},
   "source": [
    "## Decision Tree"
   ]
  },
  {
   "cell_type": "code",
   "execution_count": null,
   "id": "a2ff46f9",
   "metadata": {},
   "outputs": [],
   "source": [
    "# Split the data into training and test sets\n",
    "X_train, X_test, y_train, y_test = train_test_split(X_encoded, y, test_size=0.2, random_state=42)\n",
    "\n",
    "# Initialize the Decision Tree classifier\n",
    "model = DecisionTreeClassifier()\n",
    "\n",
    "# Fit the model on the training data\n",
    "model.fit(X_train, y_train)\n",
    "\n",
    "# Predict the target variable for the test set\n",
    "y_pred = model.predict(X_test)\n",
    "\n",
    "# Calculate accuracy score\n",
    "accuracy = accuracy_score(y_test, y_pred)\n",
    "print(\"Accuracy:\", accuracy)"
   ]
  },
  {
   "cell_type": "code",
   "execution_count": null,
   "id": "258479a8",
   "metadata": {},
   "outputs": [],
   "source": [
    "# Run Oversampling w/ Decision Tree\n",
    "X_train, X_test, y_train, y_test = train_test_split(X_oversampled, y_oversampled, test_size=0.2, random_state=42)\n",
    "clf = DecisionTreeClassifier()\n",
    "clf.fit(X_train, y_train)\n",
    "y_pred = clf.predict(X_test)\n",
    "accuracy = accuracy_score(y_test, y_pred)\n",
    "print(f\"Accuracy: {accuracy}\")"
   ]
  }
 ],
 "metadata": {
  "kernelspec": {
   "display_name": "Python 3 (ipykernel)",
   "language": "python",
   "name": "python3"
  },
  "language_info": {
   "codemirror_mode": {
    "name": "ipython",
    "version": 3
   },
   "file_extension": ".py",
   "mimetype": "text/x-python",
   "name": "python",
   "nbconvert_exporter": "python",
   "pygments_lexer": "ipython3",
   "version": "3.9.13"
  }
 },
 "nbformat": 4,
 "nbformat_minor": 5
}
